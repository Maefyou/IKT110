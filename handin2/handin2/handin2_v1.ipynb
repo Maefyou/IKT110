{
 "cells": [
  {
   "cell_type": "markdown",
   "metadata": {},
   "source": [
    "### Handin 2\n",
    "\n",
    "\n",
    "# Info\n",
    "Everything should be completed and approved in person. Groups are fine, as 1 random person will have to present on behalf of the group.\n",
    "\n",
    "The objectives for this handin is:\n",
    "* Investigate loss curves\n",
    "* Linear Regression\n",
    "* Feature Encoding \n",
    "* Simple Interface with Dash\n",
    "* Speeding up with Numba"
   ]
  },
  {
   "cell_type": "markdown",
   "metadata": {},
   "source": [
    "\n",
    "# Task 1\n",
    "\n",
    "Prove that there exist an $\\alpha \\in R$ such that $y$ becomes 2.  (Taken from a math exam at BI Nydalen)\n",
    "\n",
    "I: $\\alpha x + y = 4$   \n",
    "II: $-x + 3y = 2$  \n",
    "\n",
    "## solution\n",
    "\n",
    "1. y = 2\n",
    "2. $- x + 3(2) = 2$\n",
    "3. x = 4\n",
    "4. $\\alpha (4) + 2 = 4$\n",
    "5. $\\alpha = \\frac{1}{2}$\n",
    "6. Answer: $\\alpha = \\frac{1}{2} \\in R$\n"
   ]
  },
  {
   "cell_type": "markdown",
   "metadata": {},
   "source": [
    "# Task 2 -- Investigating the loss curve\n",
    "\n",
    "\n",
    "We are going to investigate how an algorithm navigates the L2 loss curve.\n",
    "\n",
    "To this end we will first use our very simple model $f_\\theta(x) = \\theta$ to model the training data given below.\n",
    "\n",
    "\n",
    "### Task 2a\n",
    "Visualize the model $f_\\theta(x)$ with  $\\theta=0.34$  alongside the training data in the plot below.\n"
   ]
  },
  {
   "cell_type": "code",
   "execution_count": 5,
   "metadata": {},
   "outputs": [
    {
     "data": {
      "application/vnd.plotly.v1+json": {
       "config": {
        "plotlyServerURL": "https://plot.ly"
       },
       "data": [
        {
         "hovertemplate": "x=%{x}<br>y=%{y}<extra></extra>",
         "legendgroup": "",
         "marker": {
          "color": "#636efa",
          "symbol": "circle"
         },
         "mode": "markers",
         "name": "",
         "orientation": "v",
         "showlegend": false,
         "type": "scatter",
         "x": [
          0,
          0.025,
          0.05,
          0.07500000000000001,
          0.1,
          0.125,
          0.15000000000000002,
          0.17500000000000002,
          0.2,
          0.225,
          0.25,
          0.275,
          0.30000000000000004,
          0.325,
          0.35000000000000003,
          0.375,
          0.4,
          0.42500000000000004,
          0.45,
          0.47500000000000003,
          0.5,
          0.525,
          0.55,
          0.5750000000000001,
          0.6000000000000001,
          0.625,
          0.65,
          0.675,
          0.7000000000000001,
          0.7250000000000001,
          0.75,
          0.775,
          0.8,
          0.8250000000000001,
          0.8500000000000001,
          0.875,
          0.9,
          0.925,
          0.9500000000000001,
          0.9750000000000001
         ],
         "xaxis": "x",
         "y": [
          0.4757771598663571,
          0.5944654781135557,
          0.31498838180228406,
          0.2276230417980974,
          0.5589574969270206,
          0.714218482325158,
          0.45317745639260526,
          0.46760885507437555,
          1.0348883798136586,
          0.3669570211148937,
          0.6653283375387272,
          0.48277846952076087,
          0.2756442743753379,
          0.48160483768284307,
          0.9216575172793424,
          0.7729792606050516,
          0.6402408627237115,
          0.4518375638861604,
          0.17747723189347198,
          0.8280548852716928,
          0.5764134272151223,
          0.5835091000217572,
          0.6149033019453887,
          0.5371322291838216,
          0.7842817840337395,
          0.7422410058199327,
          0.5242437175599354,
          0.6547614618248271,
          0.950383572523121,
          0.7389158871165686,
          0.5924507024107057,
          0.9240776847219632,
          0.6854824667783734,
          0.7416771286810506,
          1.1153823579049398,
          0.85846843586147,
          0.9351642070649536,
          0.8926063584404145,
          0.9492105390621872,
          1.1210509083140838
         ],
         "yaxis": "y"
        }
       ],
       "layout": {
        "legend": {
         "tracegroupgap": 0
        },
        "shapes": [
         {
          "line": {
           "color": "red"
          },
          "type": "line",
          "x0": 0,
          "x1": 1,
          "xref": "x domain",
          "y0": 0.34,
          "y1": 0.34,
          "yref": "y"
         }
        ],
        "template": {
         "data": {
          "bar": [
           {
            "error_x": {
             "color": "#2a3f5f"
            },
            "error_y": {
             "color": "#2a3f5f"
            },
            "marker": {
             "line": {
              "color": "#E5ECF6",
              "width": 0.5
             },
             "pattern": {
              "fillmode": "overlay",
              "size": 10,
              "solidity": 0.2
             }
            },
            "type": "bar"
           }
          ],
          "barpolar": [
           {
            "marker": {
             "line": {
              "color": "#E5ECF6",
              "width": 0.5
             },
             "pattern": {
              "fillmode": "overlay",
              "size": 10,
              "solidity": 0.2
             }
            },
            "type": "barpolar"
           }
          ],
          "carpet": [
           {
            "aaxis": {
             "endlinecolor": "#2a3f5f",
             "gridcolor": "white",
             "linecolor": "white",
             "minorgridcolor": "white",
             "startlinecolor": "#2a3f5f"
            },
            "baxis": {
             "endlinecolor": "#2a3f5f",
             "gridcolor": "white",
             "linecolor": "white",
             "minorgridcolor": "white",
             "startlinecolor": "#2a3f5f"
            },
            "type": "carpet"
           }
          ],
          "choropleth": [
           {
            "colorbar": {
             "outlinewidth": 0,
             "ticks": ""
            },
            "type": "choropleth"
           }
          ],
          "contour": [
           {
            "colorbar": {
             "outlinewidth": 0,
             "ticks": ""
            },
            "colorscale": [
             [
              0,
              "#0d0887"
             ],
             [
              0.1111111111111111,
              "#46039f"
             ],
             [
              0.2222222222222222,
              "#7201a8"
             ],
             [
              0.3333333333333333,
              "#9c179e"
             ],
             [
              0.4444444444444444,
              "#bd3786"
             ],
             [
              0.5555555555555556,
              "#d8576b"
             ],
             [
              0.6666666666666666,
              "#ed7953"
             ],
             [
              0.7777777777777778,
              "#fb9f3a"
             ],
             [
              0.8888888888888888,
              "#fdca26"
             ],
             [
              1,
              "#f0f921"
             ]
            ],
            "type": "contour"
           }
          ],
          "contourcarpet": [
           {
            "colorbar": {
             "outlinewidth": 0,
             "ticks": ""
            },
            "type": "contourcarpet"
           }
          ],
          "heatmap": [
           {
            "colorbar": {
             "outlinewidth": 0,
             "ticks": ""
            },
            "colorscale": [
             [
              0,
              "#0d0887"
             ],
             [
              0.1111111111111111,
              "#46039f"
             ],
             [
              0.2222222222222222,
              "#7201a8"
             ],
             [
              0.3333333333333333,
              "#9c179e"
             ],
             [
              0.4444444444444444,
              "#bd3786"
             ],
             [
              0.5555555555555556,
              "#d8576b"
             ],
             [
              0.6666666666666666,
              "#ed7953"
             ],
             [
              0.7777777777777778,
              "#fb9f3a"
             ],
             [
              0.8888888888888888,
              "#fdca26"
             ],
             [
              1,
              "#f0f921"
             ]
            ],
            "type": "heatmap"
           }
          ],
          "heatmapgl": [
           {
            "colorbar": {
             "outlinewidth": 0,
             "ticks": ""
            },
            "colorscale": [
             [
              0,
              "#0d0887"
             ],
             [
              0.1111111111111111,
              "#46039f"
             ],
             [
              0.2222222222222222,
              "#7201a8"
             ],
             [
              0.3333333333333333,
              "#9c179e"
             ],
             [
              0.4444444444444444,
              "#bd3786"
             ],
             [
              0.5555555555555556,
              "#d8576b"
             ],
             [
              0.6666666666666666,
              "#ed7953"
             ],
             [
              0.7777777777777778,
              "#fb9f3a"
             ],
             [
              0.8888888888888888,
              "#fdca26"
             ],
             [
              1,
              "#f0f921"
             ]
            ],
            "type": "heatmapgl"
           }
          ],
          "histogram": [
           {
            "marker": {
             "pattern": {
              "fillmode": "overlay",
              "size": 10,
              "solidity": 0.2
             }
            },
            "type": "histogram"
           }
          ],
          "histogram2d": [
           {
            "colorbar": {
             "outlinewidth": 0,
             "ticks": ""
            },
            "colorscale": [
             [
              0,
              "#0d0887"
             ],
             [
              0.1111111111111111,
              "#46039f"
             ],
             [
              0.2222222222222222,
              "#7201a8"
             ],
             [
              0.3333333333333333,
              "#9c179e"
             ],
             [
              0.4444444444444444,
              "#bd3786"
             ],
             [
              0.5555555555555556,
              "#d8576b"
             ],
             [
              0.6666666666666666,
              "#ed7953"
             ],
             [
              0.7777777777777778,
              "#fb9f3a"
             ],
             [
              0.8888888888888888,
              "#fdca26"
             ],
             [
              1,
              "#f0f921"
             ]
            ],
            "type": "histogram2d"
           }
          ],
          "histogram2dcontour": [
           {
            "colorbar": {
             "outlinewidth": 0,
             "ticks": ""
            },
            "colorscale": [
             [
              0,
              "#0d0887"
             ],
             [
              0.1111111111111111,
              "#46039f"
             ],
             [
              0.2222222222222222,
              "#7201a8"
             ],
             [
              0.3333333333333333,
              "#9c179e"
             ],
             [
              0.4444444444444444,
              "#bd3786"
             ],
             [
              0.5555555555555556,
              "#d8576b"
             ],
             [
              0.6666666666666666,
              "#ed7953"
             ],
             [
              0.7777777777777778,
              "#fb9f3a"
             ],
             [
              0.8888888888888888,
              "#fdca26"
             ],
             [
              1,
              "#f0f921"
             ]
            ],
            "type": "histogram2dcontour"
           }
          ],
          "mesh3d": [
           {
            "colorbar": {
             "outlinewidth": 0,
             "ticks": ""
            },
            "type": "mesh3d"
           }
          ],
          "parcoords": [
           {
            "line": {
             "colorbar": {
              "outlinewidth": 0,
              "ticks": ""
             }
            },
            "type": "parcoords"
           }
          ],
          "pie": [
           {
            "automargin": true,
            "type": "pie"
           }
          ],
          "scatter": [
           {
            "fillpattern": {
             "fillmode": "overlay",
             "size": 10,
             "solidity": 0.2
            },
            "type": "scatter"
           }
          ],
          "scatter3d": [
           {
            "line": {
             "colorbar": {
              "outlinewidth": 0,
              "ticks": ""
             }
            },
            "marker": {
             "colorbar": {
              "outlinewidth": 0,
              "ticks": ""
             }
            },
            "type": "scatter3d"
           }
          ],
          "scattercarpet": [
           {
            "marker": {
             "colorbar": {
              "outlinewidth": 0,
              "ticks": ""
             }
            },
            "type": "scattercarpet"
           }
          ],
          "scattergeo": [
           {
            "marker": {
             "colorbar": {
              "outlinewidth": 0,
              "ticks": ""
             }
            },
            "type": "scattergeo"
           }
          ],
          "scattergl": [
           {
            "marker": {
             "colorbar": {
              "outlinewidth": 0,
              "ticks": ""
             }
            },
            "type": "scattergl"
           }
          ],
          "scattermapbox": [
           {
            "marker": {
             "colorbar": {
              "outlinewidth": 0,
              "ticks": ""
             }
            },
            "type": "scattermapbox"
           }
          ],
          "scatterpolar": [
           {
            "marker": {
             "colorbar": {
              "outlinewidth": 0,
              "ticks": ""
             }
            },
            "type": "scatterpolar"
           }
          ],
          "scatterpolargl": [
           {
            "marker": {
             "colorbar": {
              "outlinewidth": 0,
              "ticks": ""
             }
            },
            "type": "scatterpolargl"
           }
          ],
          "scatterternary": [
           {
            "marker": {
             "colorbar": {
              "outlinewidth": 0,
              "ticks": ""
             }
            },
            "type": "scatterternary"
           }
          ],
          "surface": [
           {
            "colorbar": {
             "outlinewidth": 0,
             "ticks": ""
            },
            "colorscale": [
             [
              0,
              "#0d0887"
             ],
             [
              0.1111111111111111,
              "#46039f"
             ],
             [
              0.2222222222222222,
              "#7201a8"
             ],
             [
              0.3333333333333333,
              "#9c179e"
             ],
             [
              0.4444444444444444,
              "#bd3786"
             ],
             [
              0.5555555555555556,
              "#d8576b"
             ],
             [
              0.6666666666666666,
              "#ed7953"
             ],
             [
              0.7777777777777778,
              "#fb9f3a"
             ],
             [
              0.8888888888888888,
              "#fdca26"
             ],
             [
              1,
              "#f0f921"
             ]
            ],
            "type": "surface"
           }
          ],
          "table": [
           {
            "cells": {
             "fill": {
              "color": "#EBF0F8"
             },
             "line": {
              "color": "white"
             }
            },
            "header": {
             "fill": {
              "color": "#C8D4E3"
             },
             "line": {
              "color": "white"
             }
            },
            "type": "table"
           }
          ]
         },
         "layout": {
          "annotationdefaults": {
           "arrowcolor": "#2a3f5f",
           "arrowhead": 0,
           "arrowwidth": 1
          },
          "autotypenumbers": "strict",
          "coloraxis": {
           "colorbar": {
            "outlinewidth": 0,
            "ticks": ""
           }
          },
          "colorscale": {
           "diverging": [
            [
             0,
             "#8e0152"
            ],
            [
             0.1,
             "#c51b7d"
            ],
            [
             0.2,
             "#de77ae"
            ],
            [
             0.3,
             "#f1b6da"
            ],
            [
             0.4,
             "#fde0ef"
            ],
            [
             0.5,
             "#f7f7f7"
            ],
            [
             0.6,
             "#e6f5d0"
            ],
            [
             0.7,
             "#b8e186"
            ],
            [
             0.8,
             "#7fbc41"
            ],
            [
             0.9,
             "#4d9221"
            ],
            [
             1,
             "#276419"
            ]
           ],
           "sequential": [
            [
             0,
             "#0d0887"
            ],
            [
             0.1111111111111111,
             "#46039f"
            ],
            [
             0.2222222222222222,
             "#7201a8"
            ],
            [
             0.3333333333333333,
             "#9c179e"
            ],
            [
             0.4444444444444444,
             "#bd3786"
            ],
            [
             0.5555555555555556,
             "#d8576b"
            ],
            [
             0.6666666666666666,
             "#ed7953"
            ],
            [
             0.7777777777777778,
             "#fb9f3a"
            ],
            [
             0.8888888888888888,
             "#fdca26"
            ],
            [
             1,
             "#f0f921"
            ]
           ],
           "sequentialminus": [
            [
             0,
             "#0d0887"
            ],
            [
             0.1111111111111111,
             "#46039f"
            ],
            [
             0.2222222222222222,
             "#7201a8"
            ],
            [
             0.3333333333333333,
             "#9c179e"
            ],
            [
             0.4444444444444444,
             "#bd3786"
            ],
            [
             0.5555555555555556,
             "#d8576b"
            ],
            [
             0.6666666666666666,
             "#ed7953"
            ],
            [
             0.7777777777777778,
             "#fb9f3a"
            ],
            [
             0.8888888888888888,
             "#fdca26"
            ],
            [
             1,
             "#f0f921"
            ]
           ]
          },
          "colorway": [
           "#636efa",
           "#EF553B",
           "#00cc96",
           "#ab63fa",
           "#FFA15A",
           "#19d3f3",
           "#FF6692",
           "#B6E880",
           "#FF97FF",
           "#FECB52"
          ],
          "font": {
           "color": "#2a3f5f"
          },
          "geo": {
           "bgcolor": "white",
           "lakecolor": "white",
           "landcolor": "#E5ECF6",
           "showlakes": true,
           "showland": true,
           "subunitcolor": "white"
          },
          "hoverlabel": {
           "align": "left"
          },
          "hovermode": "closest",
          "mapbox": {
           "style": "light"
          },
          "paper_bgcolor": "white",
          "plot_bgcolor": "#E5ECF6",
          "polar": {
           "angularaxis": {
            "gridcolor": "white",
            "linecolor": "white",
            "ticks": ""
           },
           "bgcolor": "#E5ECF6",
           "radialaxis": {
            "gridcolor": "white",
            "linecolor": "white",
            "ticks": ""
           }
          },
          "scene": {
           "xaxis": {
            "backgroundcolor": "#E5ECF6",
            "gridcolor": "white",
            "gridwidth": 2,
            "linecolor": "white",
            "showbackground": true,
            "ticks": "",
            "zerolinecolor": "white"
           },
           "yaxis": {
            "backgroundcolor": "#E5ECF6",
            "gridcolor": "white",
            "gridwidth": 2,
            "linecolor": "white",
            "showbackground": true,
            "ticks": "",
            "zerolinecolor": "white"
           },
           "zaxis": {
            "backgroundcolor": "#E5ECF6",
            "gridcolor": "white",
            "gridwidth": 2,
            "linecolor": "white",
            "showbackground": true,
            "ticks": "",
            "zerolinecolor": "white"
           }
          },
          "shapedefaults": {
           "line": {
            "color": "#2a3f5f"
           }
          },
          "ternary": {
           "aaxis": {
            "gridcolor": "white",
            "linecolor": "white",
            "ticks": ""
           },
           "baxis": {
            "gridcolor": "white",
            "linecolor": "white",
            "ticks": ""
           },
           "bgcolor": "#E5ECF6",
           "caxis": {
            "gridcolor": "white",
            "linecolor": "white",
            "ticks": ""
           }
          },
          "title": {
           "x": 0.05
          },
          "xaxis": {
           "automargin": true,
           "gridcolor": "white",
           "linecolor": "white",
           "ticks": "",
           "title": {
            "standoff": 15
           },
           "zerolinecolor": "white",
           "zerolinewidth": 2
          },
          "yaxis": {
           "automargin": true,
           "gridcolor": "white",
           "linecolor": "white",
           "ticks": "",
           "title": {
            "standoff": 15
           },
           "zerolinecolor": "white",
           "zerolinewidth": 2
          }
         }
        },
        "title": {
         "text": "train dataset"
        },
        "xaxis": {
         "anchor": "y",
         "domain": [
          0,
          1
         ],
         "title": {
          "text": "x"
         }
        },
        "yaxis": {
         "anchor": "x",
         "domain": [
          0,
          1
         ],
         "title": {
          "text": "y"
         }
        }
       }
      }
     },
     "metadata": {},
     "output_type": "display_data"
    }
   ],
   "source": [
    "import numpy as np\n",
    "import plotly.express as px\n",
    "\n",
    "\n",
    "x_train = np.arange(0.0, 1.0, 0.025)\n",
    "y_train = 0.4 + x_train * 0.55 + np.random.randn(x_train.shape[0])*0.2\n",
    "\n",
    "\n",
    "fig = px.scatter(x=x_train, y=y_train, title=\"train dataset\")\n",
    "\n",
    "# add to plot here\n",
    "theta = 0.34\n",
    "fig.add_hline(y=theta, line_color=\"red\")\n",
    "\n",
    "fig.show()"
   ]
  },
  {
   "cell_type": "markdown",
   "metadata": {},
   "source": [
    "### Task 2b\n",
    "\n",
    "Create a plot that shows the loss curve for $\\theta$ in the range [0, 1], using the Mean Squared Error loss function.  \n",
    "That is, $L(x, y) = \\frac{1}{m} \\sum [ f_\\theta(x_k) - y_k)^2 ]$. Where $m$ is the number of data points in the training set. Remember: $f_{\\theta}(x) = \\theta$.\n",
    "\n",
    "\n",
    "Using the plot find the value of $\\theta$ that minimize the loss."
   ]
  },
  {
   "cell_type": "code",
   "execution_count": 6,
   "metadata": {},
   "outputs": [
    {
     "data": {
      "application/vnd.plotly.v1+json": {
       "config": {
        "plotlyServerURL": "https://plot.ly"
       },
       "data": [
        {
         "hovertemplate": "Theta=%{x}<br>MSE=%{y}<extra></extra>",
         "legendgroup": "",
         "line": {
          "color": "#636efa",
          "dash": "solid"
         },
         "marker": {
          "symbol": "circle"
         },
         "mode": "lines",
         "name": "",
         "orientation": "v",
         "showlegend": false,
         "type": "scatter",
         "x": [
          0,
          0.01,
          0.02,
          0.03,
          0.04,
          0.05,
          0.06,
          0.07,
          0.08,
          0.09,
          0.1,
          0.11,
          0.12,
          0.13,
          0.14,
          0.15,
          0.16,
          0.17,
          0.18,
          0.19,
          0.2,
          0.21,
          0.22,
          0.23,
          0.24,
          0.25,
          0.26,
          0.27,
          0.28,
          0.29,
          0.3,
          0.31,
          0.32,
          0.33,
          0.34,
          0.35,
          0.36,
          0.37,
          0.38,
          0.39,
          0.4,
          0.41,
          0.42,
          0.43,
          0.44,
          0.45,
          0.46,
          0.47,
          0.48,
          0.49,
          0.5,
          0.51,
          0.52,
          0.53,
          0.54,
          0.55,
          0.56,
          0.57,
          0.58,
          0.59,
          0.6,
          0.61,
          0.62,
          0.63,
          0.64,
          0.65,
          0.66,
          0.67,
          0.68,
          0.69,
          0.7,
          0.71,
          0.72,
          0.73,
          0.74,
          0.75,
          0.76,
          0.77,
          0.78,
          0.79,
          0.8,
          0.81,
          0.82,
          0.83,
          0.84,
          0.85,
          0.86,
          0.87,
          0.88,
          0.89,
          0.9,
          0.91,
          0.92,
          0.93,
          0.94,
          0.95,
          0.96,
          0.97,
          0.98,
          0.99
         ],
         "xaxis": "x",
         "y": [
          0.49094904804319706,
          0.4778347374079523,
          0.4649204267727075,
          0.4522061161374628,
          0.4396918055022181,
          0.42737749486697335,
          0.41526318423172864,
          0.40334887359648386,
          0.3916345629612392,
          0.38012025232599445,
          0.3688059416907497,
          0.357691631055505,
          0.34677732042026027,
          0.3360630097850155,
          0.3255486991497708,
          0.31523438851452606,
          0.3051200778792813,
          0.2952057672440366,
          0.28549145660879194,
          0.27597714597354717,
          0.26666283533830243,
          0.25754852470305767,
          0.248634214067813,
          0.23991990343256825,
          0.23140559279732348,
          0.2230912821620788,
          0.21497697152683407,
          0.20706266089158926,
          0.19934835025634456,
          0.19183403962109985,
          0.1845197289858551,
          0.17740541835061038,
          0.17049110771536563,
          0.16377679708012088,
          0.15726248644487617,
          0.15094817580963146,
          0.14483386517438673,
          0.138919554539142,
          0.13320524390389726,
          0.12769093326865252,
          0.1223766226334078,
          0.1172623119981631,
          0.11234800136291836,
          0.10763369072767362,
          0.10311938009242887,
          0.09880506945718415,
          0.09469075882193942,
          0.0907764481866947,
          0.08706213755144995,
          0.08354782691620523,
          0.0802335162809605,
          0.07711920564571577,
          0.07420489501047103,
          0.0714905843752263,
          0.06897627373998157,
          0.06666196310473685,
          0.0645476524694921,
          0.06263334183424739,
          0.06091903119900266,
          0.05940472056375793,
          0.0580904099285132,
          0.05697609929326845,
          0.056061788658023734,
          0.05534747802277899,
          0.054833167387534264,
          0.054518856752289534,
          0.0544045461170448,
          0.05449023548180008,
          0.05477592484655534,
          0.055261614211310615,
          0.05594730357606588,
          0.05683299294082115,
          0.05791868230557642,
          0.05920437167033169,
          0.060690061035086965,
          0.06237575039984222,
          0.0642614397645975,
          0.06634712912935277,
          0.06863281849410804,
          0.07111850785886331,
          0.07380419722361858,
          0.07668988658837386,
          0.07977557595312909,
          0.08306126531788437,
          0.08654695468263962,
          0.09023264404739491,
          0.09411833341215019,
          0.09820402277690546,
          0.10248971214166072,
          0.106975401506416,
          0.11166109087117126,
          0.11654678023592654,
          0.12163246960068182,
          0.12691815896543707,
          0.1324038483301923,
          0.13808953769494758,
          0.14397522705970284,
          0.15006091642445812,
          0.15634660578921342,
          0.1628322951539687
         ],
         "yaxis": "y"
        }
       ],
       "layout": {
        "legend": {
         "tracegroupgap": 0
        },
        "template": {
         "data": {
          "bar": [
           {
            "error_x": {
             "color": "#2a3f5f"
            },
            "error_y": {
             "color": "#2a3f5f"
            },
            "marker": {
             "line": {
              "color": "#E5ECF6",
              "width": 0.5
             },
             "pattern": {
              "fillmode": "overlay",
              "size": 10,
              "solidity": 0.2
             }
            },
            "type": "bar"
           }
          ],
          "barpolar": [
           {
            "marker": {
             "line": {
              "color": "#E5ECF6",
              "width": 0.5
             },
             "pattern": {
              "fillmode": "overlay",
              "size": 10,
              "solidity": 0.2
             }
            },
            "type": "barpolar"
           }
          ],
          "carpet": [
           {
            "aaxis": {
             "endlinecolor": "#2a3f5f",
             "gridcolor": "white",
             "linecolor": "white",
             "minorgridcolor": "white",
             "startlinecolor": "#2a3f5f"
            },
            "baxis": {
             "endlinecolor": "#2a3f5f",
             "gridcolor": "white",
             "linecolor": "white",
             "minorgridcolor": "white",
             "startlinecolor": "#2a3f5f"
            },
            "type": "carpet"
           }
          ],
          "choropleth": [
           {
            "colorbar": {
             "outlinewidth": 0,
             "ticks": ""
            },
            "type": "choropleth"
           }
          ],
          "contour": [
           {
            "colorbar": {
             "outlinewidth": 0,
             "ticks": ""
            },
            "colorscale": [
             [
              0,
              "#0d0887"
             ],
             [
              0.1111111111111111,
              "#46039f"
             ],
             [
              0.2222222222222222,
              "#7201a8"
             ],
             [
              0.3333333333333333,
              "#9c179e"
             ],
             [
              0.4444444444444444,
              "#bd3786"
             ],
             [
              0.5555555555555556,
              "#d8576b"
             ],
             [
              0.6666666666666666,
              "#ed7953"
             ],
             [
              0.7777777777777778,
              "#fb9f3a"
             ],
             [
              0.8888888888888888,
              "#fdca26"
             ],
             [
              1,
              "#f0f921"
             ]
            ],
            "type": "contour"
           }
          ],
          "contourcarpet": [
           {
            "colorbar": {
             "outlinewidth": 0,
             "ticks": ""
            },
            "type": "contourcarpet"
           }
          ],
          "heatmap": [
           {
            "colorbar": {
             "outlinewidth": 0,
             "ticks": ""
            },
            "colorscale": [
             [
              0,
              "#0d0887"
             ],
             [
              0.1111111111111111,
              "#46039f"
             ],
             [
              0.2222222222222222,
              "#7201a8"
             ],
             [
              0.3333333333333333,
              "#9c179e"
             ],
             [
              0.4444444444444444,
              "#bd3786"
             ],
             [
              0.5555555555555556,
              "#d8576b"
             ],
             [
              0.6666666666666666,
              "#ed7953"
             ],
             [
              0.7777777777777778,
              "#fb9f3a"
             ],
             [
              0.8888888888888888,
              "#fdca26"
             ],
             [
              1,
              "#f0f921"
             ]
            ],
            "type": "heatmap"
           }
          ],
          "heatmapgl": [
           {
            "colorbar": {
             "outlinewidth": 0,
             "ticks": ""
            },
            "colorscale": [
             [
              0,
              "#0d0887"
             ],
             [
              0.1111111111111111,
              "#46039f"
             ],
             [
              0.2222222222222222,
              "#7201a8"
             ],
             [
              0.3333333333333333,
              "#9c179e"
             ],
             [
              0.4444444444444444,
              "#bd3786"
             ],
             [
              0.5555555555555556,
              "#d8576b"
             ],
             [
              0.6666666666666666,
              "#ed7953"
             ],
             [
              0.7777777777777778,
              "#fb9f3a"
             ],
             [
              0.8888888888888888,
              "#fdca26"
             ],
             [
              1,
              "#f0f921"
             ]
            ],
            "type": "heatmapgl"
           }
          ],
          "histogram": [
           {
            "marker": {
             "pattern": {
              "fillmode": "overlay",
              "size": 10,
              "solidity": 0.2
             }
            },
            "type": "histogram"
           }
          ],
          "histogram2d": [
           {
            "colorbar": {
             "outlinewidth": 0,
             "ticks": ""
            },
            "colorscale": [
             [
              0,
              "#0d0887"
             ],
             [
              0.1111111111111111,
              "#46039f"
             ],
             [
              0.2222222222222222,
              "#7201a8"
             ],
             [
              0.3333333333333333,
              "#9c179e"
             ],
             [
              0.4444444444444444,
              "#bd3786"
             ],
             [
              0.5555555555555556,
              "#d8576b"
             ],
             [
              0.6666666666666666,
              "#ed7953"
             ],
             [
              0.7777777777777778,
              "#fb9f3a"
             ],
             [
              0.8888888888888888,
              "#fdca26"
             ],
             [
              1,
              "#f0f921"
             ]
            ],
            "type": "histogram2d"
           }
          ],
          "histogram2dcontour": [
           {
            "colorbar": {
             "outlinewidth": 0,
             "ticks": ""
            },
            "colorscale": [
             [
              0,
              "#0d0887"
             ],
             [
              0.1111111111111111,
              "#46039f"
             ],
             [
              0.2222222222222222,
              "#7201a8"
             ],
             [
              0.3333333333333333,
              "#9c179e"
             ],
             [
              0.4444444444444444,
              "#bd3786"
             ],
             [
              0.5555555555555556,
              "#d8576b"
             ],
             [
              0.6666666666666666,
              "#ed7953"
             ],
             [
              0.7777777777777778,
              "#fb9f3a"
             ],
             [
              0.8888888888888888,
              "#fdca26"
             ],
             [
              1,
              "#f0f921"
             ]
            ],
            "type": "histogram2dcontour"
           }
          ],
          "mesh3d": [
           {
            "colorbar": {
             "outlinewidth": 0,
             "ticks": ""
            },
            "type": "mesh3d"
           }
          ],
          "parcoords": [
           {
            "line": {
             "colorbar": {
              "outlinewidth": 0,
              "ticks": ""
             }
            },
            "type": "parcoords"
           }
          ],
          "pie": [
           {
            "automargin": true,
            "type": "pie"
           }
          ],
          "scatter": [
           {
            "fillpattern": {
             "fillmode": "overlay",
             "size": 10,
             "solidity": 0.2
            },
            "type": "scatter"
           }
          ],
          "scatter3d": [
           {
            "line": {
             "colorbar": {
              "outlinewidth": 0,
              "ticks": ""
             }
            },
            "marker": {
             "colorbar": {
              "outlinewidth": 0,
              "ticks": ""
             }
            },
            "type": "scatter3d"
           }
          ],
          "scattercarpet": [
           {
            "marker": {
             "colorbar": {
              "outlinewidth": 0,
              "ticks": ""
             }
            },
            "type": "scattercarpet"
           }
          ],
          "scattergeo": [
           {
            "marker": {
             "colorbar": {
              "outlinewidth": 0,
              "ticks": ""
             }
            },
            "type": "scattergeo"
           }
          ],
          "scattergl": [
           {
            "marker": {
             "colorbar": {
              "outlinewidth": 0,
              "ticks": ""
             }
            },
            "type": "scattergl"
           }
          ],
          "scattermapbox": [
           {
            "marker": {
             "colorbar": {
              "outlinewidth": 0,
              "ticks": ""
             }
            },
            "type": "scattermapbox"
           }
          ],
          "scatterpolar": [
           {
            "marker": {
             "colorbar": {
              "outlinewidth": 0,
              "ticks": ""
             }
            },
            "type": "scatterpolar"
           }
          ],
          "scatterpolargl": [
           {
            "marker": {
             "colorbar": {
              "outlinewidth": 0,
              "ticks": ""
             }
            },
            "type": "scatterpolargl"
           }
          ],
          "scatterternary": [
           {
            "marker": {
             "colorbar": {
              "outlinewidth": 0,
              "ticks": ""
             }
            },
            "type": "scatterternary"
           }
          ],
          "surface": [
           {
            "colorbar": {
             "outlinewidth": 0,
             "ticks": ""
            },
            "colorscale": [
             [
              0,
              "#0d0887"
             ],
             [
              0.1111111111111111,
              "#46039f"
             ],
             [
              0.2222222222222222,
              "#7201a8"
             ],
             [
              0.3333333333333333,
              "#9c179e"
             ],
             [
              0.4444444444444444,
              "#bd3786"
             ],
             [
              0.5555555555555556,
              "#d8576b"
             ],
             [
              0.6666666666666666,
              "#ed7953"
             ],
             [
              0.7777777777777778,
              "#fb9f3a"
             ],
             [
              0.8888888888888888,
              "#fdca26"
             ],
             [
              1,
              "#f0f921"
             ]
            ],
            "type": "surface"
           }
          ],
          "table": [
           {
            "cells": {
             "fill": {
              "color": "#EBF0F8"
             },
             "line": {
              "color": "white"
             }
            },
            "header": {
             "fill": {
              "color": "#C8D4E3"
             },
             "line": {
              "color": "white"
             }
            },
            "type": "table"
           }
          ]
         },
         "layout": {
          "annotationdefaults": {
           "arrowcolor": "#2a3f5f",
           "arrowhead": 0,
           "arrowwidth": 1
          },
          "autotypenumbers": "strict",
          "coloraxis": {
           "colorbar": {
            "outlinewidth": 0,
            "ticks": ""
           }
          },
          "colorscale": {
           "diverging": [
            [
             0,
             "#8e0152"
            ],
            [
             0.1,
             "#c51b7d"
            ],
            [
             0.2,
             "#de77ae"
            ],
            [
             0.3,
             "#f1b6da"
            ],
            [
             0.4,
             "#fde0ef"
            ],
            [
             0.5,
             "#f7f7f7"
            ],
            [
             0.6,
             "#e6f5d0"
            ],
            [
             0.7,
             "#b8e186"
            ],
            [
             0.8,
             "#7fbc41"
            ],
            [
             0.9,
             "#4d9221"
            ],
            [
             1,
             "#276419"
            ]
           ],
           "sequential": [
            [
             0,
             "#0d0887"
            ],
            [
             0.1111111111111111,
             "#46039f"
            ],
            [
             0.2222222222222222,
             "#7201a8"
            ],
            [
             0.3333333333333333,
             "#9c179e"
            ],
            [
             0.4444444444444444,
             "#bd3786"
            ],
            [
             0.5555555555555556,
             "#d8576b"
            ],
            [
             0.6666666666666666,
             "#ed7953"
            ],
            [
             0.7777777777777778,
             "#fb9f3a"
            ],
            [
             0.8888888888888888,
             "#fdca26"
            ],
            [
             1,
             "#f0f921"
            ]
           ],
           "sequentialminus": [
            [
             0,
             "#0d0887"
            ],
            [
             0.1111111111111111,
             "#46039f"
            ],
            [
             0.2222222222222222,
             "#7201a8"
            ],
            [
             0.3333333333333333,
             "#9c179e"
            ],
            [
             0.4444444444444444,
             "#bd3786"
            ],
            [
             0.5555555555555556,
             "#d8576b"
            ],
            [
             0.6666666666666666,
             "#ed7953"
            ],
            [
             0.7777777777777778,
             "#fb9f3a"
            ],
            [
             0.8888888888888888,
             "#fdca26"
            ],
            [
             1,
             "#f0f921"
            ]
           ]
          },
          "colorway": [
           "#636efa",
           "#EF553B",
           "#00cc96",
           "#ab63fa",
           "#FFA15A",
           "#19d3f3",
           "#FF6692",
           "#B6E880",
           "#FF97FF",
           "#FECB52"
          ],
          "font": {
           "color": "#2a3f5f"
          },
          "geo": {
           "bgcolor": "white",
           "lakecolor": "white",
           "landcolor": "#E5ECF6",
           "showlakes": true,
           "showland": true,
           "subunitcolor": "white"
          },
          "hoverlabel": {
           "align": "left"
          },
          "hovermode": "closest",
          "mapbox": {
           "style": "light"
          },
          "paper_bgcolor": "white",
          "plot_bgcolor": "#E5ECF6",
          "polar": {
           "angularaxis": {
            "gridcolor": "white",
            "linecolor": "white",
            "ticks": ""
           },
           "bgcolor": "#E5ECF6",
           "radialaxis": {
            "gridcolor": "white",
            "linecolor": "white",
            "ticks": ""
           }
          },
          "scene": {
           "xaxis": {
            "backgroundcolor": "#E5ECF6",
            "gridcolor": "white",
            "gridwidth": 2,
            "linecolor": "white",
            "showbackground": true,
            "ticks": "",
            "zerolinecolor": "white"
           },
           "yaxis": {
            "backgroundcolor": "#E5ECF6",
            "gridcolor": "white",
            "gridwidth": 2,
            "linecolor": "white",
            "showbackground": true,
            "ticks": "",
            "zerolinecolor": "white"
           },
           "zaxis": {
            "backgroundcolor": "#E5ECF6",
            "gridcolor": "white",
            "gridwidth": 2,
            "linecolor": "white",
            "showbackground": true,
            "ticks": "",
            "zerolinecolor": "white"
           }
          },
          "shapedefaults": {
           "line": {
            "color": "#2a3f5f"
           }
          },
          "ternary": {
           "aaxis": {
            "gridcolor": "white",
            "linecolor": "white",
            "ticks": ""
           },
           "baxis": {
            "gridcolor": "white",
            "linecolor": "white",
            "ticks": ""
           },
           "bgcolor": "#E5ECF6",
           "caxis": {
            "gridcolor": "white",
            "linecolor": "white",
            "ticks": ""
           }
          },
          "title": {
           "x": 0.05
          },
          "xaxis": {
           "automargin": true,
           "gridcolor": "white",
           "linecolor": "white",
           "ticks": "",
           "title": {
            "standoff": 15
           },
           "zerolinecolor": "white",
           "zerolinewidth": 2
          },
          "yaxis": {
           "automargin": true,
           "gridcolor": "white",
           "linecolor": "white",
           "ticks": "",
           "title": {
            "standoff": 15
           },
           "zerolinecolor": "white",
           "zerolinewidth": 2
          }
         }
        },
        "title": {
         "text": "MSE vs Theta"
        },
        "xaxis": {
         "anchor": "y",
         "domain": [
          0,
          1
         ],
         "title": {
          "text": "Theta"
         }
        },
        "yaxis": {
         "anchor": "x",
         "domain": [
          0,
          1
         ],
         "title": {
          "text": "MSE"
         }
        }
       }
      }
     },
     "metadata": {},
     "output_type": "display_data"
    }
   ],
   "source": [
    "# -- CODE -- for Task 2b goes here.\n",
    "def mse(y_true, y_pred):\n",
    "    mse = np.mean((y_true - y_pred) ** 2)\n",
    "    return mse\n",
    "\n",
    "thetas_mse = []\n",
    "for n in range(0,100):\n",
    "    theta = n / 100\n",
    "    y_pred = np.full_like(y_train, theta)\n",
    "    thetas_mse.append((theta, mse(y_train, y_pred)))\n",
    "\n",
    "fig = px.line(x=[t[0] for t in thetas_mse], y=[t[1] for t in thetas_mse], title=\"MSE vs Theta\", labels={\"x\":\"Theta\", \"y\":\"MSE\"})\n",
    "fig.show()"
   ]
  },
  {
   "cell_type": "markdown",
   "metadata": {},
   "source": [
    "### Task 2c \n",
    "We have the following loss curves (same loss function as in 2b):\n",
    "![title](loss_curves_mse.png)\n",
    "\n",
    "\n",
    "\n",
    "# Model:\n",
    "The model is of the form $f_\\theta(x) = ax + b$ with $a,b \\in \\theta$. \n",
    "Here the different curves is the loss for:\n",
    "1) Set $b = 0.1$ and $a \\in [-1, 1]$.\n",
    "2) Set $b = 0.75$ and $a \\in [-1, 1]$.\n",
    "3) Set $b = 1.5$ and $a \\in [-1, 1]$.  \n",
    "While a is between [-1, 1] (the x-axis in the plot).\n",
    "\n",
    "\n",
    "Objective: Find a set of datapoints that duplicate these graphs\n"
   ]
  },
  {
   "cell_type": "code",
   "execution_count": 21,
   "metadata": {},
   "outputs": [
    {
     "data": {
      "application/vnd.plotly.v1+json": {
       "config": {
        "plotlyServerURL": "https://plot.ly"
       },
       "data": [
        {
         "hovertemplate": "<extra></extra>",
         "legendgroup": "",
         "marker": {
          "color": "#636efa",
          "symbol": "circle"
         },
         "mode": "markers",
         "name": "",
         "orientation": "v",
         "showlegend": false,
         "type": "scatter",
         "xaxis": "x",
         "yaxis": "y"
        },
        {
         "mode": "lines",
         "name": "Model 1",
         "type": "scatter",
         "x": [
          -1,
          -0.99,
          -0.98,
          -0.97,
          -0.96,
          -0.95,
          -0.94,
          -0.93,
          -0.92,
          -0.91,
          -0.9,
          -0.89,
          -0.88,
          -0.87,
          -0.86,
          -0.85,
          -0.84,
          -0.83,
          -0.82,
          -0.81,
          -0.8,
          -0.79,
          -0.78,
          -0.77,
          -0.76,
          -0.75,
          -0.74,
          -0.73,
          -0.72,
          -0.71,
          -0.7,
          -0.69,
          -0.68,
          -0.67,
          -0.66,
          -0.65,
          -0.64,
          -0.63,
          -0.62,
          -0.61,
          -0.6,
          -0.59,
          -0.58,
          -0.57,
          -0.56,
          -0.55,
          -0.54,
          -0.53,
          -0.52,
          -0.51,
          -0.5,
          -0.49,
          -0.48,
          -0.47,
          -0.46,
          -0.45,
          -0.44,
          -0.43,
          -0.42,
          -0.41,
          -0.4,
          -0.39,
          -0.38,
          -0.37,
          -0.36,
          -0.35,
          -0.34,
          -0.33,
          -0.32,
          -0.31,
          -0.3,
          -0.29,
          -0.28,
          -0.27,
          -0.26,
          -0.25,
          -0.24,
          -0.23,
          -0.22,
          -0.21,
          -0.2,
          -0.19,
          -0.18,
          -0.17,
          -0.16,
          -0.15,
          -0.14,
          -0.13,
          -0.12,
          -0.11,
          -0.1,
          -0.09,
          -0.08,
          -0.07,
          -0.06,
          -0.05,
          -0.04,
          -0.03,
          -0.02,
          -0.01,
          0,
          0.01,
          0.02,
          0.03,
          0.04,
          0.05,
          0.06,
          0.07,
          0.08,
          0.09,
          0.1,
          0.11,
          0.12,
          0.13,
          0.14,
          0.15,
          0.16,
          0.17,
          0.18,
          0.19,
          0.2,
          0.21,
          0.22,
          0.23,
          0.24,
          0.25,
          0.26,
          0.27,
          0.28,
          0.29,
          0.3,
          0.31,
          0.32,
          0.33,
          0.34,
          0.35,
          0.36,
          0.37,
          0.38,
          0.39,
          0.4,
          0.41,
          0.42,
          0.43,
          0.44,
          0.45,
          0.46,
          0.47,
          0.48,
          0.49,
          0.5,
          0.51,
          0.52,
          0.53,
          0.54,
          0.55,
          0.56,
          0.57,
          0.58,
          0.59,
          0.6,
          0.61,
          0.62,
          0.63,
          0.64,
          0.65,
          0.66,
          0.67,
          0.68,
          0.69,
          0.7,
          0.71,
          0.72,
          0.73,
          0.74,
          0.75,
          0.76,
          0.77,
          0.78,
          0.79,
          0.8,
          0.81,
          0.82,
          0.83,
          0.84,
          0.85,
          0.86,
          0.87,
          0.88,
          0.89,
          0.9,
          0.91,
          0.92,
          0.93,
          0.94,
          0.95,
          0.96,
          0.97,
          0.98,
          0.99
         ],
         "y": [
          2.574349386663188,
          2.553586577490749,
          2.530369347597501,
          2.5162783142486815,
          2.4888098029994956,
          2.469459226877002,
          2.4459031967481684,
          2.4290479372531277,
          2.410649428346123,
          2.3897773576101184,
          2.373354390300165,
          2.3488206203084983,
          2.3284968280274505,
          2.305891302355683,
          2.296676674498649,
          2.2664628989132485,
          2.2463706780454866,
          2.2294212029336444,
          2.2077439221770283,
          2.1892365187972374,
          2.172071393231166,
          2.1517524625948403,
          2.1313782824597527,
          2.1135681869895877,
          2.0982787048386125,
          2.0805778786365714,
          2.0581087070146733,
          2.0475996146601867,
          2.0268048918917136,
          2.005118046929592,
          1.992436036161657,
          1.963136669724561,
          1.9469438345741077,
          1.9320091056291273,
          1.9132882892427785,
          1.8945109365093726,
          1.8716416338334765,
          1.8630271189825518,
          1.8408671539748946,
          1.8235767053362097,
          1.805609923833621,
          1.7885302226090622,
          1.7734218284849002,
          1.7542907782536301,
          1.734327906766148,
          1.7172146892121876,
          1.706018073780345,
          1.6852389746149161,
          1.6680208402762096,
          1.6460930423190832,
          1.6333669800990087,
          1.6208710146635341,
          1.6003831173775749,
          1.5864122168048078,
          1.570271421175126,
          1.5498017267668336,
          1.537126661503604,
          1.5259059223295932,
          1.506879176328165,
          1.4890829802276997,
          1.472842401282705,
          1.4602196779336745,
          1.441784202232679,
          1.4253870104623103,
          1.411481108788553,
          1.3925347044261482,
          1.3791676065427585,
          1.3657460040848048,
          1.3496036954463797,
          1.3347181053009514,
          1.3165947777569824,
          1.3072750720982624,
          1.2877145671410455,
          1.273088426369249,
          1.255418787455894,
          1.2446631157900843,
          1.2303135341251692,
          1.2163427950033936,
          1.203275044719527,
          1.1880781476672138,
          1.1746157773140364,
          1.1598546057892454,
          1.14652076758552,
          1.1346137934461926,
          1.1201760929522733,
          1.1051565433389867,
          1.0918137105293495,
          1.079087654028684,
          1.0638725758158685,
          1.0497010275985832,
          1.0367628493816214,
          1.0253144430243242,
          1.0174242121069186,
          1.0009379087734664,
          0.9871882519529205,
          0.9726538365423126,
          0.9594875052470294,
          0.9468973978333888,
          0.9314519081183569,
          0.9213806137066944,
          0.9098259568214128,
          0.8992136522118067,
          0.8856536272770827,
          0.8769938831986237,
          0.8607103152327666,
          0.8505983105028759,
          0.8389259639380438,
          0.8271851944264946,
          0.8153686714265154,
          0.8032513215482914,
          0.7935137585330464,
          0.7821221163794732,
          0.7692613589441557,
          0.755226181950106,
          0.7438924645602909,
          0.7351989316947413,
          0.7233893217398784,
          0.7157613735325846,
          0.7015554771910657,
          0.6928454762974625,
          0.6775440405635309,
          0.6700534446518079,
          0.6570742647855972,
          0.64713119653511,
          0.642059837235821,
          0.6272976375932172,
          0.6158635149012675,
          0.6090170550327112,
          0.5989492024823945,
          0.5895760944530152,
          0.5769210995184653,
          0.5682810112982124,
          0.5587011385350604,
          0.5486560940897575,
          0.5396986140213642,
          0.5307204970983729,
          0.5210715206553683,
          0.5129828517327701,
          0.5029133009779915,
          0.4935580787904536,
          0.4858732446291649,
          0.47678161374317996,
          0.46720215473245225,
          0.4579152302832971,
          0.45069556484980805,
          0.4442138813927947,
          0.4353406046636755,
          0.42534382024939404,
          0.41692174209647953,
          0.40569109389171587,
          0.4006209732098513,
          0.3941057668925109,
          0.3832595855658813,
          0.37890113186269225,
          0.36807474779296545,
          0.36078679285342513,
          0.3545611952582261,
          0.34725227990113405,
          0.3375260415776455,
          0.33140413118224543,
          0.3234430103002253,
          0.31692916853739345,
          0.30993143900470227,
          0.30162251529065254,
          0.2966904135969171,
          0.29066213028441235,
          0.28271749851506,
          0.27434601538031494,
          0.26992125272423423,
          0.2612041243932812,
          0.25357643110762146,
          0.24800591401893926,
          0.2439391023120214,
          0.2375874528403854,
          0.2315704716892591,
          0.22631068628477505,
          0.21805279387874338,
          0.21460265191362438,
          0.20911528003057867,
          0.20184627746296105,
          0.19637617052738016,
          0.19150758676818258,
          0.1871973318992444,
          0.18212794236135302,
          0.17559005412375392,
          0.17030191736785616,
          0.16620799565528144,
          0.16085191730417658,
          0.15624666389300895,
          0.1518165634104604,
          0.14714276223169073,
          0.14143859493255825,
          0.13979917378192352,
          0.1332571423445816,
          0.1287461517334834,
          0.12409024123106228,
          0.11986108320350447,
          0.11570296037227287,
          0.11327789729798549,
          0.1099275092959527
         ]
        },
        {
         "mode": "lines",
         "name": "Model 2",
         "type": "scatter",
         "x": [
          -1,
          -0.99,
          -0.98,
          -0.97,
          -0.96,
          -0.95,
          -0.94,
          -0.93,
          -0.92,
          -0.91,
          -0.9,
          -0.89,
          -0.88,
          -0.87,
          -0.86,
          -0.85,
          -0.84,
          -0.83,
          -0.82,
          -0.81,
          -0.8,
          -0.79,
          -0.78,
          -0.77,
          -0.76,
          -0.75,
          -0.74,
          -0.73,
          -0.72,
          -0.71,
          -0.7,
          -0.69,
          -0.68,
          -0.67,
          -0.66,
          -0.65,
          -0.64,
          -0.63,
          -0.62,
          -0.61,
          -0.6,
          -0.59,
          -0.58,
          -0.57,
          -0.56,
          -0.55,
          -0.54,
          -0.53,
          -0.52,
          -0.51,
          -0.5,
          -0.49,
          -0.48,
          -0.47,
          -0.46,
          -0.45,
          -0.44,
          -0.43,
          -0.42,
          -0.41,
          -0.4,
          -0.39,
          -0.38,
          -0.37,
          -0.36,
          -0.35,
          -0.34,
          -0.33,
          -0.32,
          -0.31,
          -0.3,
          -0.29,
          -0.28,
          -0.27,
          -0.26,
          -0.25,
          -0.24,
          -0.23,
          -0.22,
          -0.21,
          -0.2,
          -0.19,
          -0.18,
          -0.17,
          -0.16,
          -0.15,
          -0.14,
          -0.13,
          -0.12,
          -0.11,
          -0.1,
          -0.09,
          -0.08,
          -0.07,
          -0.06,
          -0.05,
          -0.04,
          -0.03,
          -0.02,
          -0.01,
          0,
          0.01,
          0.02,
          0.03,
          0.04,
          0.05,
          0.06,
          0.07,
          0.08,
          0.09,
          0.1,
          0.11,
          0.12,
          0.13,
          0.14,
          0.15,
          0.16,
          0.17,
          0.18,
          0.19,
          0.2,
          0.21,
          0.22,
          0.23,
          0.24,
          0.25,
          0.26,
          0.27,
          0.28,
          0.29,
          0.3,
          0.31,
          0.32,
          0.33,
          0.34,
          0.35,
          0.36,
          0.37,
          0.38,
          0.39,
          0.4,
          0.41,
          0.42,
          0.43,
          0.44,
          0.45,
          0.46,
          0.47,
          0.48,
          0.49,
          0.5,
          0.51,
          0.52,
          0.53,
          0.54,
          0.55,
          0.56,
          0.57,
          0.58,
          0.59,
          0.6,
          0.61,
          0.62,
          0.63,
          0.64,
          0.65,
          0.66,
          0.67,
          0.68,
          0.69,
          0.7,
          0.71,
          0.72,
          0.73,
          0.74,
          0.75,
          0.76,
          0.77,
          0.78,
          0.79,
          0.8,
          0.81,
          0.82,
          0.83,
          0.84,
          0.85,
          0.86,
          0.87,
          0.88,
          0.89,
          0.9,
          0.91,
          0.92,
          0.93,
          0.94,
          0.95,
          0.96,
          0.97,
          0.98,
          0.99
         ],
         "y": [
          0.9171712580141793,
          0.9047200320669819,
          0.8908865973890876,
          0.882617718567924,
          0.8664398333020116,
          0.8550780274534804,
          0.8412331841408021,
          0.8313995313429822,
          0.8205129811444091,
          0.8082963126114959,
          0.798831314708096,
          0.7846931427919298,
          0.7728760468179118,
          0.75978135586737,
          0.7545934443289344,
          0.7374144606742369,
          0.7259589625291116,
          0.7163423572749995,
          0.7041441659652339,
          0.6938255555754853,
          0.6840604232209855,
          0.6726402785818173,
          0.6613730880218802,
          0.6514121739997938,
          0.6430659648784939,
          0.633244388690943,
          0.6208595518576674,
          0.615011765377324,
          0.603694484717109,
          0.5919829030290097,
          0.5850053029739168,
          0.56931460946064,
          0.5605978735167656,
          0.5526095235247859,
          0.542618434070999,
          0.5328117169853831,
          0.5206556947880249,
          0.5160985537126247,
          0.5045778088748599,
          0.4954220125924314,
          0.48616562119461887,
          0.4773726363363361,
          0.4696418442601229,
          0.4598896270673279,
          0.4496956593777511,
          0.4410205192591751,
          0.435324598570566,
          0.42491506032881954,
          0.4163530874533442,
          0.40548130003126126,
          0.3992030866673406,
          0.39309115649147836,
          0.38313634570457655,
          0.37627509638041795,
          0.36848264289548904,
          0.35856697700035983,
          0.35253233223303654,
          0.34738267195617084,
          0.338197319512189,
          0.3299007945368839,
          0.32228552010685946,
          0.31645889036590524,
          0.3079694905338598,
          0.3005067502663628,
          0.2940743011427872,
          0.2856391067417043,
          0.27957471786941424,
          0.27362715278398725,
          0.2665724888215577,
          0.2599324661477741,
          0.252060889783346,
          0.2480711116688433,
          0.23956934579376224,
          0.2334708247451897,
          0.22600522231024947,
          0.22151755703610612,
          0.2155399517963704,
          0.20980442042245068,
          0.20443290810132825,
          0.19826367609993945,
          0.1928203301576437,
          0.18697916353051705,
          0.18176136883692373,
          0.1771500421464394,
          0.17151497466988325,
          0.16576123849002602,
          0.1607612918611965,
          0.155992496996815,
          0.15035111361077344,
          0.14513314740970623,
          0.14037561976408652,
          0.13633910134069493,
          0.1334988692566718,
          0.12769989605208765,
          0.12299692065587078,
          0.11802285997956585,
          0.11356630912173656,
          0.10940810953874001,
          0.10443552927132493,
          0.10110008431240523,
          0.09740905887958991,
          0.0941500877485146,
          0.08990232891886703,
          0.08729415500389412,
          0.08244118800707805,
          0.07948419424181061,
          0.07604025654052081,
          0.07263244317642922,
          0.06946491643268403,
          0.06611356250385507,
          0.06349300075163164,
          0.060429406487203734,
          0.05718167892612173,
          0.053741725538741035,
          0.05103177426528305,
          0.0488663857300534,
          0.046013336569756896,
          0.04438412880694814,
          0.04116388663739652,
          0.039240632304620444,
          0.03615866153560894,
          0.0347200049703805,
          0.03214001062955488,
          0.030162850454994776,
          0.02933421476650825,
          0.026789330421989947,
          0.02482985492120103,
          0.023828064102680124,
          0.022159204867934365,
          0.02076389231829012,
          0.0190240790355949,
          0.017976364579840497,
          0.01675619806273042,
          0.01551511177225048,
          0.01452953311175874,
          0.013572020782418943,
          0.012834890692859867,
          0.012122927537687766,
          0.011586386159957763,
          0.010822246789838027,
          0.010439708218713588,
          0.010016848989886036,
          0.009519978016521524,
          0.009422082928880698,
          0.00921604119804974,
          0.009195625187101118,
          0.009027615398388894,
          0.009195332120621512,
          0.009523280506990039,
          0.009560878014973297,
          0.010251877809623802,
          0.010368787663669622,
          0.011082264141479687,
          0.011412502137454645,
          0.012280269609113915,
          0.013152104052240397,
          0.013540837028136224,
          0.014743789011807309,
          0.016076464603979254,
          0.017058976762821997,
          0.018362075797488452,
          0.019291163862656644,
          0.02069139971587615,
          0.022667777620484712,
          0.023913541918830192,
          0.025656345140674018,
          0.027324580676426877,
          0.029635730839800648,
          0.030808725858833725,
          0.033564317769282585,
          0.03573302143223831,
          0.037903826295271566,
          0.039370460983229986,
          0.04209028982868123,
          0.04416051888867783,
          0.046445463436515795,
          0.05024383426806989,
          0.05181432476229055,
          0.05452620295194997,
          0.0580038873903978,
          0.061364017350990965,
          0.06401002152046432,
          0.06638647159475684,
          0.06940060295748847,
          0.07341184072472194,
          0.07706781292294469,
          0.08034624278023272,
          0.0834808390849016,
          0.08714824165160917,
          0.09083307005436966,
          0.0950067634017981,
          0.09975862653195754,
          0.10105737981200583,
          0.1066134384395478,
          0.1112536291359662,
          0.11526873606244396,
          0.1198709790752184,
          0.12487086415655249,
          0.12770475556691957,
          0.1316557033791218
         ]
        },
        {
         "mode": "lines",
         "name": "Model 3",
         "type": "scatter",
         "x": [
          -1,
          -0.99,
          -0.98,
          -0.97,
          -0.96,
          -0.95,
          -0.94,
          -0.93,
          -0.92,
          -0.91,
          -0.9,
          -0.89,
          -0.88,
          -0.87,
          -0.86,
          -0.85,
          -0.84,
          -0.83,
          -0.82,
          -0.81,
          -0.8,
          -0.79,
          -0.78,
          -0.77,
          -0.76,
          -0.75,
          -0.74,
          -0.73,
          -0.72,
          -0.71,
          -0.7,
          -0.69,
          -0.68,
          -0.67,
          -0.66,
          -0.65,
          -0.64,
          -0.63,
          -0.62,
          -0.61,
          -0.6,
          -0.59,
          -0.58,
          -0.57,
          -0.56,
          -0.55,
          -0.54,
          -0.53,
          -0.52,
          -0.51,
          -0.5,
          -0.49,
          -0.48,
          -0.47,
          -0.46,
          -0.45,
          -0.44,
          -0.43,
          -0.42,
          -0.41,
          -0.4,
          -0.39,
          -0.38,
          -0.37,
          -0.36,
          -0.35,
          -0.34,
          -0.33,
          -0.32,
          -0.31,
          -0.3,
          -0.29,
          -0.28,
          -0.27,
          -0.26,
          -0.25,
          -0.24,
          -0.23,
          -0.22,
          -0.21,
          -0.2,
          -0.19,
          -0.18,
          -0.17,
          -0.16,
          -0.15,
          -0.14,
          -0.13,
          -0.12,
          -0.11,
          -0.1,
          -0.09,
          -0.08,
          -0.07,
          -0.06,
          -0.05,
          -0.04,
          -0.03,
          -0.02,
          -0.01,
          0,
          0.01,
          0.02,
          0.03,
          0.04,
          0.05,
          0.06,
          0.07,
          0.08,
          0.09,
          0.1,
          0.11,
          0.12,
          0.13,
          0.14,
          0.15,
          0.16,
          0.17,
          0.18,
          0.19,
          0.2,
          0.21,
          0.22,
          0.23,
          0.24,
          0.25,
          0.26,
          0.27,
          0.28,
          0.29,
          0.3,
          0.31,
          0.32,
          0.33,
          0.34,
          0.35,
          0.36,
          0.37,
          0.38,
          0.39,
          0.4,
          0.41,
          0.42,
          0.43,
          0.44,
          0.45,
          0.46,
          0.47,
          0.48,
          0.49,
          0.5,
          0.51,
          0.52,
          0.53,
          0.54,
          0.55,
          0.56,
          0.57,
          0.58,
          0.59,
          0.6,
          0.61,
          0.62,
          0.63,
          0.64,
          0.65,
          0.66,
          0.67,
          0.68,
          0.69,
          0.7,
          0.71,
          0.72,
          0.73,
          0.74,
          0.75,
          0.76,
          0.77,
          0.78,
          0.79,
          0.8,
          0.81,
          0.82,
          0.83,
          0.84,
          0.85,
          0.86,
          0.87,
          0.88,
          0.89,
          0.9,
          0.91,
          0.92,
          0.93,
          0.94,
          0.95,
          0.96,
          0.97,
          0.98,
          0.99
         ],
         "y": [
          0.05504264803455428,
          0.052181710424173716,
          0.04917573176399525,
          0.04762472355166545,
          0.04447448365106879,
          0.04233048965710938,
          0.03969086190153332,
          0.03795906298512141,
          0.03574015745012414,
          0.03351049145923947,
          0.0320739197941706,
          0.02993066873435051,
          0.027928991576136746,
          0.025808340688547014,
          0.02526664028695613,
          0.023127801167685022,
          0.021637752317910288,
          0.020482150745794143,
          0.019221370336240606,
          0.018351367242694785,
          0.017124688593854083,
          0.015972373951405525,
          0.015213248285873098,
          0.014309082088493054,
          0.013974341847587342,
          0.013244207984448551,
          0.012495142061122512,
          0.012025785435559011,
          0.011644014900257495,
          0.011442352374491122,
          0.011046764680370398,
          0.011058386079192822,
          0.010967918450601693,
          0.01099462109669983,
          0.01107629348817655,
          0.011620309842318183,
          0.011825765120196226,
          0.011950209170401089,
          0.012705487605588879,
          0.012935828657302124,
          0.0137298873803857,
          0.01449849832934473,
          0.015280324000764539,
          0.01634983723697887,
          0.017427681621908678,
          0.018488784698006827,
          0.01913981948235926,
          0.02069515922947697,
          0.022121064965422543,
          0.02400621277608199,
          0.0251678250154162,
          0.026422089369875574,
          0.028620839928040005,
          0.029963034352275975,
          0.03180328334206148,
          0.034065342654428524,
          0.03569272153622783,
          0.037548152294529555,
          0.039718253955293645,
          0.042382887970557975,
          0.04471988798088387,
          0.04673490471078682,
          0.0497217462659914,
          0.05256798850180781,
          0.054758753859211105,
          0.058451878644268845,
          0.06081369247709381,
          0.06349001666765915,
          0.06692109656214763,
          0.06979519020180032,
          0.07375255750607314,
          0.07591269578874428,
          0.08017101346997409,
          0.08391205364050613,
          0.0882203394498903,
          0.09096498924305406,
          0.09464735680160265,
          0.0984139882136701,
          0.10192275046494481,
          0.10617005506077676,
          0.10997942959257516,
          0.11443057630890764,
          0.11857744720392802,
          0.1223841752621088,
          0.12690599203635622,
          0.13184357904891753,
          0.13647003955178924,
          0.14088270042158157,
          0.14628788798951003,
          0.15140097796100205,
          0.15608266251308484,
          0.16059832247496866,
          0.1635850121217715,
          0.17011757368126587,
          0.17585307685158283,
          0.18191019471485814,
          0.18750339051562934,
          0.19307431535260666,
          0.2001858613709034,
          0.20462255039591773,
          0.21000494586979435,
          0.21523059029086988,
          0.22172775389015656,
          0.22610216093305224,
          0.23443834890051427,
          0.2397371370175045,
          0.24578751723568648,
          0.2519946532725077,
          0.2588067375936479,
          0.26556999437565953,
          0.27116135715769163,
          0.2777070489192005,
          0.2855512789053133,
          0.29433658352562764,
          0.30157713161719707,
          0.3069442173092596,
          0.31442566137346306,
          0.31971807720044443,
          0.3291735898447013,
          0.33508119692826427,
          0.34609860881108373,
          0.351642959184118,
          0.36106202506489055,
          0.368276297285631,
          0.3723431119173013,
          0.3838951298398048,
          0.3928679395595859,
          0.3986099976449521,
          0.4066322845435572,
          0.41444212062437663,
          0.4252967477092061,
          0.43300946452018063,
          0.4414351129023497,
          0.45035243986743473,
          0.4585652089852909,
          0.46686224041785673,
          0.4764080099668885,
          0.48420763038951564,
          0.49467071521607286,
          0.5038193637122047,
          0.511862550822039,
          0.5214421204283931,
          0.5314251587289092,
          0.541929989827631,
          0.5498165908306363,
          0.5572514834113008,
          0.5671280123999811,
          0.5790239996643455,
          0.5894481325191175,
          0.6024875520033472,
          0.609825998501669,
          0.6175953500919297,
          0.6316468932671702,
          0.6373871601467958,
          0.6517481793969776,
          0.6620351554354887,
          0.6700558083011094,
          0.6810801456779687,
          0.6951731065574414,
          0.7043530293557949,
          0.7163456129097151,
          0.725862696930268,
          0.7369528928441538,
          0.7507969264625988,
          0.7591709976748838,
          0.7698804392055912,
          0.7826404447087733,
          0.7972777102161303,
          0.8049096563987563,
          0.8209030024338996,
          0.8343752410375656,
          0.8454783404602706,
          0.8533297209884706,
          0.8665166401997918,
          0.8779182656572379,
          0.8889086678423704,
          0.9066181116403698,
          0.9139816395876748,
          0.9261541909381477,
          0.9420318988451325,
          0.9555807636859265,
          0.9668974462346356,
          0.9769893250895789,
          0.9893305959530293,
          1.0055139021873774,
          1.019490000101893,
          1.0312749894628688,
          1.0442065180626612,
          1.0574192929115327,
          1.0704675007973419,
          1.084849841674999,
          1.101666355300495,
          1.106355309846716,
          1.1258707031645088,
          1.141069949215754,
          1.1550900762524996,
          1.1698823973887345,
          1.1854492146768751,
          1.1943511304926127,
          1.2067266965520094
         ]
        }
       ],
       "layout": {
        "legend": {
         "tracegroupgap": 0
        },
        "template": {
         "data": {
          "bar": [
           {
            "error_x": {
             "color": "#2a3f5f"
            },
            "error_y": {
             "color": "#2a3f5f"
            },
            "marker": {
             "line": {
              "color": "#E5ECF6",
              "width": 0.5
             },
             "pattern": {
              "fillmode": "overlay",
              "size": 10,
              "solidity": 0.2
             }
            },
            "type": "bar"
           }
          ],
          "barpolar": [
           {
            "marker": {
             "line": {
              "color": "#E5ECF6",
              "width": 0.5
             },
             "pattern": {
              "fillmode": "overlay",
              "size": 10,
              "solidity": 0.2
             }
            },
            "type": "barpolar"
           }
          ],
          "carpet": [
           {
            "aaxis": {
             "endlinecolor": "#2a3f5f",
             "gridcolor": "white",
             "linecolor": "white",
             "minorgridcolor": "white",
             "startlinecolor": "#2a3f5f"
            },
            "baxis": {
             "endlinecolor": "#2a3f5f",
             "gridcolor": "white",
             "linecolor": "white",
             "minorgridcolor": "white",
             "startlinecolor": "#2a3f5f"
            },
            "type": "carpet"
           }
          ],
          "choropleth": [
           {
            "colorbar": {
             "outlinewidth": 0,
             "ticks": ""
            },
            "type": "choropleth"
           }
          ],
          "contour": [
           {
            "colorbar": {
             "outlinewidth": 0,
             "ticks": ""
            },
            "colorscale": [
             [
              0,
              "#0d0887"
             ],
             [
              0.1111111111111111,
              "#46039f"
             ],
             [
              0.2222222222222222,
              "#7201a8"
             ],
             [
              0.3333333333333333,
              "#9c179e"
             ],
             [
              0.4444444444444444,
              "#bd3786"
             ],
             [
              0.5555555555555556,
              "#d8576b"
             ],
             [
              0.6666666666666666,
              "#ed7953"
             ],
             [
              0.7777777777777778,
              "#fb9f3a"
             ],
             [
              0.8888888888888888,
              "#fdca26"
             ],
             [
              1,
              "#f0f921"
             ]
            ],
            "type": "contour"
           }
          ],
          "contourcarpet": [
           {
            "colorbar": {
             "outlinewidth": 0,
             "ticks": ""
            },
            "type": "contourcarpet"
           }
          ],
          "heatmap": [
           {
            "colorbar": {
             "outlinewidth": 0,
             "ticks": ""
            },
            "colorscale": [
             [
              0,
              "#0d0887"
             ],
             [
              0.1111111111111111,
              "#46039f"
             ],
             [
              0.2222222222222222,
              "#7201a8"
             ],
             [
              0.3333333333333333,
              "#9c179e"
             ],
             [
              0.4444444444444444,
              "#bd3786"
             ],
             [
              0.5555555555555556,
              "#d8576b"
             ],
             [
              0.6666666666666666,
              "#ed7953"
             ],
             [
              0.7777777777777778,
              "#fb9f3a"
             ],
             [
              0.8888888888888888,
              "#fdca26"
             ],
             [
              1,
              "#f0f921"
             ]
            ],
            "type": "heatmap"
           }
          ],
          "heatmapgl": [
           {
            "colorbar": {
             "outlinewidth": 0,
             "ticks": ""
            },
            "colorscale": [
             [
              0,
              "#0d0887"
             ],
             [
              0.1111111111111111,
              "#46039f"
             ],
             [
              0.2222222222222222,
              "#7201a8"
             ],
             [
              0.3333333333333333,
              "#9c179e"
             ],
             [
              0.4444444444444444,
              "#bd3786"
             ],
             [
              0.5555555555555556,
              "#d8576b"
             ],
             [
              0.6666666666666666,
              "#ed7953"
             ],
             [
              0.7777777777777778,
              "#fb9f3a"
             ],
             [
              0.8888888888888888,
              "#fdca26"
             ],
             [
              1,
              "#f0f921"
             ]
            ],
            "type": "heatmapgl"
           }
          ],
          "histogram": [
           {
            "marker": {
             "pattern": {
              "fillmode": "overlay",
              "size": 10,
              "solidity": 0.2
             }
            },
            "type": "histogram"
           }
          ],
          "histogram2d": [
           {
            "colorbar": {
             "outlinewidth": 0,
             "ticks": ""
            },
            "colorscale": [
             [
              0,
              "#0d0887"
             ],
             [
              0.1111111111111111,
              "#46039f"
             ],
             [
              0.2222222222222222,
              "#7201a8"
             ],
             [
              0.3333333333333333,
              "#9c179e"
             ],
             [
              0.4444444444444444,
              "#bd3786"
             ],
             [
              0.5555555555555556,
              "#d8576b"
             ],
             [
              0.6666666666666666,
              "#ed7953"
             ],
             [
              0.7777777777777778,
              "#fb9f3a"
             ],
             [
              0.8888888888888888,
              "#fdca26"
             ],
             [
              1,
              "#f0f921"
             ]
            ],
            "type": "histogram2d"
           }
          ],
          "histogram2dcontour": [
           {
            "colorbar": {
             "outlinewidth": 0,
             "ticks": ""
            },
            "colorscale": [
             [
              0,
              "#0d0887"
             ],
             [
              0.1111111111111111,
              "#46039f"
             ],
             [
              0.2222222222222222,
              "#7201a8"
             ],
             [
              0.3333333333333333,
              "#9c179e"
             ],
             [
              0.4444444444444444,
              "#bd3786"
             ],
             [
              0.5555555555555556,
              "#d8576b"
             ],
             [
              0.6666666666666666,
              "#ed7953"
             ],
             [
              0.7777777777777778,
              "#fb9f3a"
             ],
             [
              0.8888888888888888,
              "#fdca26"
             ],
             [
              1,
              "#f0f921"
             ]
            ],
            "type": "histogram2dcontour"
           }
          ],
          "mesh3d": [
           {
            "colorbar": {
             "outlinewidth": 0,
             "ticks": ""
            },
            "type": "mesh3d"
           }
          ],
          "parcoords": [
           {
            "line": {
             "colorbar": {
              "outlinewidth": 0,
              "ticks": ""
             }
            },
            "type": "parcoords"
           }
          ],
          "pie": [
           {
            "automargin": true,
            "type": "pie"
           }
          ],
          "scatter": [
           {
            "fillpattern": {
             "fillmode": "overlay",
             "size": 10,
             "solidity": 0.2
            },
            "type": "scatter"
           }
          ],
          "scatter3d": [
           {
            "line": {
             "colorbar": {
              "outlinewidth": 0,
              "ticks": ""
             }
            },
            "marker": {
             "colorbar": {
              "outlinewidth": 0,
              "ticks": ""
             }
            },
            "type": "scatter3d"
           }
          ],
          "scattercarpet": [
           {
            "marker": {
             "colorbar": {
              "outlinewidth": 0,
              "ticks": ""
             }
            },
            "type": "scattercarpet"
           }
          ],
          "scattergeo": [
           {
            "marker": {
             "colorbar": {
              "outlinewidth": 0,
              "ticks": ""
             }
            },
            "type": "scattergeo"
           }
          ],
          "scattergl": [
           {
            "marker": {
             "colorbar": {
              "outlinewidth": 0,
              "ticks": ""
             }
            },
            "type": "scattergl"
           }
          ],
          "scattermapbox": [
           {
            "marker": {
             "colorbar": {
              "outlinewidth": 0,
              "ticks": ""
             }
            },
            "type": "scattermapbox"
           }
          ],
          "scatterpolar": [
           {
            "marker": {
             "colorbar": {
              "outlinewidth": 0,
              "ticks": ""
             }
            },
            "type": "scatterpolar"
           }
          ],
          "scatterpolargl": [
           {
            "marker": {
             "colorbar": {
              "outlinewidth": 0,
              "ticks": ""
             }
            },
            "type": "scatterpolargl"
           }
          ],
          "scatterternary": [
           {
            "marker": {
             "colorbar": {
              "outlinewidth": 0,
              "ticks": ""
             }
            },
            "type": "scatterternary"
           }
          ],
          "surface": [
           {
            "colorbar": {
             "outlinewidth": 0,
             "ticks": ""
            },
            "colorscale": [
             [
              0,
              "#0d0887"
             ],
             [
              0.1111111111111111,
              "#46039f"
             ],
             [
              0.2222222222222222,
              "#7201a8"
             ],
             [
              0.3333333333333333,
              "#9c179e"
             ],
             [
              0.4444444444444444,
              "#bd3786"
             ],
             [
              0.5555555555555556,
              "#d8576b"
             ],
             [
              0.6666666666666666,
              "#ed7953"
             ],
             [
              0.7777777777777778,
              "#fb9f3a"
             ],
             [
              0.8888888888888888,
              "#fdca26"
             ],
             [
              1,
              "#f0f921"
             ]
            ],
            "type": "surface"
           }
          ],
          "table": [
           {
            "cells": {
             "fill": {
              "color": "#EBF0F8"
             },
             "line": {
              "color": "white"
             }
            },
            "header": {
             "fill": {
              "color": "#C8D4E3"
             },
             "line": {
              "color": "white"
             }
            },
            "type": "table"
           }
          ]
         },
         "layout": {
          "annotationdefaults": {
           "arrowcolor": "#2a3f5f",
           "arrowhead": 0,
           "arrowwidth": 1
          },
          "autotypenumbers": "strict",
          "coloraxis": {
           "colorbar": {
            "outlinewidth": 0,
            "ticks": ""
           }
          },
          "colorscale": {
           "diverging": [
            [
             0,
             "#8e0152"
            ],
            [
             0.1,
             "#c51b7d"
            ],
            [
             0.2,
             "#de77ae"
            ],
            [
             0.3,
             "#f1b6da"
            ],
            [
             0.4,
             "#fde0ef"
            ],
            [
             0.5,
             "#f7f7f7"
            ],
            [
             0.6,
             "#e6f5d0"
            ],
            [
             0.7,
             "#b8e186"
            ],
            [
             0.8,
             "#7fbc41"
            ],
            [
             0.9,
             "#4d9221"
            ],
            [
             1,
             "#276419"
            ]
           ],
           "sequential": [
            [
             0,
             "#0d0887"
            ],
            [
             0.1111111111111111,
             "#46039f"
            ],
            [
             0.2222222222222222,
             "#7201a8"
            ],
            [
             0.3333333333333333,
             "#9c179e"
            ],
            [
             0.4444444444444444,
             "#bd3786"
            ],
            [
             0.5555555555555556,
             "#d8576b"
            ],
            [
             0.6666666666666666,
             "#ed7953"
            ],
            [
             0.7777777777777778,
             "#fb9f3a"
            ],
            [
             0.8888888888888888,
             "#fdca26"
            ],
            [
             1,
             "#f0f921"
            ]
           ],
           "sequentialminus": [
            [
             0,
             "#0d0887"
            ],
            [
             0.1111111111111111,
             "#46039f"
            ],
            [
             0.2222222222222222,
             "#7201a8"
            ],
            [
             0.3333333333333333,
             "#9c179e"
            ],
            [
             0.4444444444444444,
             "#bd3786"
            ],
            [
             0.5555555555555556,
             "#d8576b"
            ],
            [
             0.6666666666666666,
             "#ed7953"
            ],
            [
             0.7777777777777778,
             "#fb9f3a"
            ],
            [
             0.8888888888888888,
             "#fdca26"
            ],
            [
             1,
             "#f0f921"
            ]
           ]
          },
          "colorway": [
           "#636efa",
           "#EF553B",
           "#00cc96",
           "#ab63fa",
           "#FFA15A",
           "#19d3f3",
           "#FF6692",
           "#B6E880",
           "#FF97FF",
           "#FECB52"
          ],
          "font": {
           "color": "#2a3f5f"
          },
          "geo": {
           "bgcolor": "white",
           "lakecolor": "white",
           "landcolor": "#E5ECF6",
           "showlakes": true,
           "showland": true,
           "subunitcolor": "white"
          },
          "hoverlabel": {
           "align": "left"
          },
          "hovermode": "closest",
          "mapbox": {
           "style": "light"
          },
          "paper_bgcolor": "white",
          "plot_bgcolor": "#E5ECF6",
          "polar": {
           "angularaxis": {
            "gridcolor": "white",
            "linecolor": "white",
            "ticks": ""
           },
           "bgcolor": "#E5ECF6",
           "radialaxis": {
            "gridcolor": "white",
            "linecolor": "white",
            "ticks": ""
           }
          },
          "scene": {
           "xaxis": {
            "backgroundcolor": "#E5ECF6",
            "gridcolor": "white",
            "gridwidth": 2,
            "linecolor": "white",
            "showbackground": true,
            "ticks": "",
            "zerolinecolor": "white"
           },
           "yaxis": {
            "backgroundcolor": "#E5ECF6",
            "gridcolor": "white",
            "gridwidth": 2,
            "linecolor": "white",
            "showbackground": true,
            "ticks": "",
            "zerolinecolor": "white"
           },
           "zaxis": {
            "backgroundcolor": "#E5ECF6",
            "gridcolor": "white",
            "gridwidth": 2,
            "linecolor": "white",
            "showbackground": true,
            "ticks": "",
            "zerolinecolor": "white"
           }
          },
          "shapedefaults": {
           "line": {
            "color": "#2a3f5f"
           }
          },
          "ternary": {
           "aaxis": {
            "gridcolor": "white",
            "linecolor": "white",
            "ticks": ""
           },
           "baxis": {
            "gridcolor": "white",
            "linecolor": "white",
            "ticks": ""
           },
           "bgcolor": "#E5ECF6",
           "caxis": {
            "gridcolor": "white",
            "linecolor": "white",
            "ticks": ""
           }
          },
          "title": {
           "x": 0.05
          },
          "xaxis": {
           "automargin": true,
           "gridcolor": "white",
           "linecolor": "white",
           "ticks": "",
           "title": {
            "standoff": 15
           },
           "zerolinecolor": "white",
           "zerolinewidth": 2
          },
          "yaxis": {
           "automargin": true,
           "gridcolor": "white",
           "linecolor": "white",
           "ticks": "",
           "title": {
            "standoff": 15
           },
           "zerolinecolor": "white",
           "zerolinewidth": 2
          }
         }
        },
        "title": {
         "text": "loss vs alpha"
        },
        "xaxis": {
         "anchor": "y",
         "domain": [
          0,
          1
         ]
        },
        "yaxis": {
         "anchor": "x",
         "domain": [
          0,
          1
         ]
        }
       }
      }
     },
     "metadata": {},
     "output_type": "display_data"
    }
   ],
   "source": [
    "# -- CODE for 2c -- goes here.\n",
    "import numpy as np\n",
    "\n",
    "def gen_datapoints(num_points, x_lower_bound, x_upper_bound, y_lower_bound, y_upper_bound):\n",
    "    x = np.random.uniform(x_lower_bound, x_upper_bound, num_points)\n",
    "    y = np.random.uniform(y_lower_bound, y_upper_bound, num_points)\n",
    "    return x, y\n",
    "\n",
    "losses = dict(model1=[],model2=[],model3=[])\n",
    "for n in range(-100,100):\n",
    "    theta = n / 100\n",
    "    x_test, y_test = gen_datapoints(10000, 0.5, 0.8, 0.9, 1.2)\n",
    "    y_hat1 = theta * x_test + 0.1\n",
    "    mse1 = mse(y_test, y_hat1)\n",
    "    losses['model1'].append((theta, mse1))\n",
    "    y_hat2 = theta * x_test + 0.75\n",
    "    mse2 = mse(y_test, y_hat2)\n",
    "    losses['model2'].append((theta, mse2))\n",
    "    y_hat3 = theta * x_test + 1.5\n",
    "    mse3 = mse(y_test, y_hat3)\n",
    "    losses['model3'].append((theta, mse3))\n",
    "\n",
    "fig = px.scatter(title='loss vs alpha', labels={'x':'Theta', 'y':'MSE'})\n",
    "fig.add_scatter(x=[t[0] for t in losses['model1']], y=[t[1] for t in losses['model1']], mode='lines', name='Model 1')\n",
    "fig.add_scatter(x=[t[0] for t in losses['model2']], y=[t[1] for t in losses['model2']], mode='lines', name='Model 2')\n",
    "fig.add_scatter(x=[t[0] for t in losses['model3']], y=[t[1] for t in losses['model3']], mode='lines', name='Model 3')\n",
    "fig.show()\n"
   ]
  },
  {
   "cell_type": "markdown",
   "metadata": {},
   "source": [
    "# Task 3\n",
    "Train a  linear regression with a L2 loss on the training data using Gradient Descent. \n",
    "The code below should give a (non-vectorized) on how it is found.  \n",
    "\n",
    "The gradient is found as:  \n",
    "$ L = \\frac{1}{2}(\\hat{y} - y )^2 $  \n",
    "\n",
    "$ \\hat{y} = f_\\theta(x) = \\theta$  \n",
    "\n",
    "\n",
    "$ \\frac{\\partial L}{\\partial\\theta} = \\frac{\\partial L}{\\partial \\hat{y}} \\frac{\\partial \\hat{y}}{\\partial \\theta}$ (using the chain rule).\n",
    "\n",
    "With:  \n",
    "$\\frac{\\partial L}{\\partial \\hat{y}} = (\\hat{y} - y) \\times 1 = (\\hat{y} - y)$  \n",
    "\n",
    "$\\frac{\\partial \\hat{y}}{\\partial \\theta} = 1  $\n",
    "\n",
    "\n",
    "Gives us:  \n",
    "$\\frac{\\partial L}{\\partial\\theta} = (\\hat{y} - y)$\n",
    "\n",
    "\n",
    "### Questions:\n",
    "1) Draw the graph/tree that shows how these partial derivatives are connected. <br>\n",
    "![graph](assets/Gradient.drawio.svg)\n",
    "1) Find a set of hyperparameters that converge for $\\theta_{\\text{init}} = 5.5$.  How can we determine if the algorithm has converged?<br>\n",
    "   as soon as the change in loss is very small (below a threshold) we can say it has converged. learning rate = 0.01 and n_steps = 600 seems to work.\n",
    "2) Can you find a learning rate that the algorithm does not converge for? <br>\n",
    "   learning rate = 2 makes the algorithm diverge.\n",
    "3) What is the \"best\" learning rate for this particular dataset?  <br>\n",
    "   since the predictions are constant, a higher learning rate will make it converge faster. learning rate = 1 and n_steps = 2 seems to work fine.\n",
    "4) You might be asked to show how the gradients flow in another loss/function : be prepared.\n",
    "\n"
   ]
  },
  {
   "cell_type": "code",
   "execution_count": 33,
   "metadata": {},
   "outputs": [
    {
     "name": "stdout",
     "output_type": "stream",
     "text": [
      "Running GD with initial theta: 5.50, learning rate: 0.01 over 40 datapoints for 600 steps\n",
      "[visit] theta: 5.50 => loss: 23.36\n",
      "[visit] theta: 5.45 => loss: 22.89\n",
      "[visit] theta: 5.40 => loss: 22.44\n",
      "[visit] theta: 5.36 => loss: 21.99\n",
      "[visit] theta: 5.31 => loss: 21.56\n",
      "[visit] theta: 5.26 => loss: 21.13\n",
      "[visit] theta: 5.22 => loss: 20.71\n",
      "[visit] theta: 5.17 => loss: 20.30\n",
      "[visit] theta: 5.13 => loss: 19.90\n",
      "[visit] theta: 5.08 => loss: 19.50\n",
      "[visit] theta: 5.04 => loss: 19.12\n",
      "[visit] theta: 4.99 => loss: 18.74\n",
      "[visit] theta: 4.95 => loss: 18.37\n",
      "[visit] theta: 4.91 => loss: 18.00\n",
      "[visit] theta: 4.87 => loss: 17.64\n",
      "[visit] theta: 4.82 => loss: 17.29\n",
      "[visit] theta: 4.78 => loss: 16.95\n",
      "[visit] theta: 4.74 => loss: 16.62\n",
      "[visit] theta: 4.70 => loss: 16.29\n",
      "[visit] theta: 4.66 => loss: 15.96\n",
      "[visit] theta: 4.62 => loss: 15.65\n",
      "[visit] theta: 4.58 => loss: 15.34\n",
      "[visit] theta: 4.54 => loss: 15.03\n",
      "[visit] theta: 4.50 => loss: 14.73\n",
      "[visit] theta: 4.47 => loss: 14.44\n",
      "[visit] theta: 4.43 => loss: 14.16\n",
      "[visit] theta: 4.39 => loss: 13.88\n",
      "[visit] theta: 4.35 => loss: 13.60\n",
      "[visit] theta: 4.32 => loss: 13.33\n",
      "[visit] theta: 4.28 => loss: 13.07\n",
      "[visit] theta: 4.24 => loss: 12.81\n",
      "[visit] theta: 4.21 => loss: 12.56\n",
      "[visit] theta: 4.17 => loss: 12.31\n",
      "[visit] theta: 4.14 => loss: 12.06\n",
      "[visit] theta: 4.10 => loss: 11.82\n",
      "[visit] theta: 4.07 => loss: 11.59\n",
      "[visit] theta: 4.03 => loss: 11.36\n",
      "[visit] theta: 4.00 => loss: 11.14\n",
      "[visit] theta: 3.97 => loss: 10.92\n",
      "[visit] theta: 3.94 => loss: 10.70\n",
      "[visit] theta: 3.90 => loss: 10.49\n",
      "[visit] theta: 3.87 => loss: 10.28\n",
      "[visit] theta: 3.84 => loss: 10.08\n",
      "[visit] theta: 3.81 => loss: 9.88\n",
      "[visit] theta: 3.78 => loss: 9.68\n",
      "[visit] theta: 3.74 => loss: 9.49\n",
      "[visit] theta: 3.71 => loss: 9.30\n",
      "[visit] theta: 3.68 => loss: 9.12\n",
      "[visit] theta: 3.65 => loss: 8.94\n",
      "[visit] theta: 3.62 => loss: 8.76\n",
      "[visit] theta: 3.59 => loss: 8.59\n",
      "[visit] theta: 3.56 => loss: 8.42\n",
      "[visit] theta: 3.54 => loss: 8.25\n",
      "[visit] theta: 3.51 => loss: 8.09\n",
      "[visit] theta: 3.48 => loss: 7.93\n",
      "[visit] theta: 3.45 => loss: 7.78\n",
      "[visit] theta: 3.42 => loss: 7.62\n",
      "[visit] theta: 3.40 => loss: 7.47\n",
      "[visit] theta: 3.37 => loss: 7.32\n",
      "[visit] theta: 3.34 => loss: 7.18\n",
      "[visit] theta: 3.31 => loss: 7.04\n",
      "[visit] theta: 3.29 => loss: 6.90\n",
      "[visit] theta: 3.26 => loss: 6.76\n",
      "[visit] theta: 3.24 => loss: 6.63\n",
      "[visit] theta: 3.21 => loss: 6.50\n",
      "[visit] theta: 3.19 => loss: 6.37\n",
      "[visit] theta: 3.16 => loss: 6.25\n",
      "[visit] theta: 3.14 => loss: 6.12\n",
      "[visit] theta: 3.11 => loss: 6.00\n",
      "[visit] theta: 3.09 => loss: 5.88\n",
      "[visit] theta: 3.06 => loss: 5.77\n",
      "[visit] theta: 3.04 => loss: 5.66\n",
      "[visit] theta: 3.01 => loss: 5.54\n",
      "[visit] theta: 2.99 => loss: 5.43\n",
      "[visit] theta: 2.97 => loss: 5.33\n",
      "[visit] theta: 2.94 => loss: 5.22\n",
      "[visit] theta: 2.92 => loss: 5.12\n",
      "[visit] theta: 2.90 => loss: 5.02\n",
      "[visit] theta: 2.88 => loss: 4.92\n",
      "[visit] theta: 2.86 => loss: 4.82\n",
      "[visit] theta: 2.83 => loss: 4.73\n",
      "[visit] theta: 2.81 => loss: 4.64\n",
      "[visit] theta: 2.79 => loss: 4.55\n",
      "[visit] theta: 2.77 => loss: 4.46\n",
      "[visit] theta: 2.75 => loss: 4.37\n",
      "[visit] theta: 2.73 => loss: 4.28\n",
      "[visit] theta: 2.71 => loss: 4.20\n",
      "[visit] theta: 2.69 => loss: 4.12\n",
      "[visit] theta: 2.67 => loss: 4.04\n",
      "[visit] theta: 2.65 => loss: 3.96\n",
      "[visit] theta: 2.63 => loss: 3.88\n",
      "[visit] theta: 2.61 => loss: 3.80\n",
      "[visit] theta: 2.59 => loss: 3.73\n",
      "[visit] theta: 2.57 => loss: 3.66\n",
      "[visit] theta: 2.55 => loss: 3.59\n",
      "[visit] theta: 2.53 => loss: 3.52\n",
      "[visit] theta: 2.51 => loss: 3.45\n",
      "[visit] theta: 2.49 => loss: 3.38\n",
      "[visit] theta: 2.48 => loss: 3.31\n",
      "[visit] theta: 2.46 => loss: 3.25\n",
      "[visit] theta: 2.44 => loss: 3.19\n",
      "[visit] theta: 2.42 => loss: 3.12\n",
      "[visit] theta: 2.41 => loss: 3.06\n",
      "[visit] theta: 2.39 => loss: 3.00\n",
      "[visit] theta: 2.37 => loss: 2.94\n",
      "[visit] theta: 2.35 => loss: 2.89\n",
      "[visit] theta: 2.34 => loss: 2.83\n",
      "[visit] theta: 2.32 => loss: 2.78\n",
      "[visit] theta: 2.30 => loss: 2.72\n",
      "[visit] theta: 2.29 => loss: 2.67\n",
      "[visit] theta: 2.27 => loss: 2.62\n",
      "[visit] theta: 2.26 => loss: 2.57\n",
      "[visit] theta: 2.24 => loss: 2.52\n",
      "[visit] theta: 2.22 => loss: 2.47\n",
      "[visit] theta: 2.21 => loss: 2.42\n",
      "[visit] theta: 2.19 => loss: 2.37\n",
      "[visit] theta: 2.18 => loss: 2.33\n",
      "[visit] theta: 2.16 => loss: 2.28\n",
      "[visit] theta: 2.15 => loss: 2.24\n",
      "[visit] theta: 2.13 => loss: 2.20\n",
      "[visit] theta: 2.12 => loss: 2.15\n",
      "[visit] theta: 2.10 => loss: 2.11\n",
      "[visit] theta: 2.09 => loss: 2.07\n",
      "[visit] theta: 2.08 => loss: 2.03\n",
      "[visit] theta: 2.06 => loss: 1.99\n",
      "[visit] theta: 2.05 => loss: 1.95\n",
      "[visit] theta: 2.03 => loss: 1.92\n",
      "[visit] theta: 2.02 => loss: 1.88\n",
      "[visit] theta: 2.01 => loss: 1.84\n",
      "[visit] theta: 1.99 => loss: 1.81\n",
      "[visit] theta: 1.98 => loss: 1.77\n",
      "[visit] theta: 1.97 => loss: 1.74\n",
      "[visit] theta: 1.95 => loss: 1.71\n",
      "[visit] theta: 1.94 => loss: 1.67\n",
      "[visit] theta: 1.93 => loss: 1.64\n",
      "[visit] theta: 1.92 => loss: 1.61\n",
      "[visit] theta: 1.90 => loss: 1.58\n",
      "[visit] theta: 1.89 => loss: 1.55\n",
      "[visit] theta: 1.88 => loss: 1.52\n",
      "[visit] theta: 1.87 => loss: 1.49\n",
      "[visit] theta: 1.86 => loss: 1.46\n",
      "[visit] theta: 1.84 => loss: 1.43\n",
      "[visit] theta: 1.83 => loss: 1.41\n",
      "[visit] theta: 1.82 => loss: 1.38\n",
      "[visit] theta: 1.81 => loss: 1.35\n",
      "[visit] theta: 1.80 => loss: 1.33\n",
      "[visit] theta: 1.79 => loss: 1.30\n",
      "[visit] theta: 1.78 => loss: 1.28\n",
      "[visit] theta: 1.76 => loss: 1.25\n",
      "[visit] theta: 1.75 => loss: 1.23\n",
      "[visit] theta: 1.74 => loss: 1.21\n",
      "[visit] theta: 1.73 => loss: 1.18\n",
      "[visit] theta: 1.72 => loss: 1.16\n",
      "[visit] theta: 1.71 => loss: 1.14\n",
      "[visit] theta: 1.70 => loss: 1.12\n",
      "[visit] theta: 1.69 => loss: 1.10\n",
      "[visit] theta: 1.68 => loss: 1.08\n",
      "[visit] theta: 1.67 => loss: 1.06\n",
      "[visit] theta: 1.66 => loss: 1.04\n",
      "[visit] theta: 1.65 => loss: 1.02\n",
      "[visit] theta: 1.64 => loss: 1.00\n",
      "[visit] theta: 1.63 => loss: 0.98\n",
      "[visit] theta: 1.62 => loss: 0.96\n",
      "[visit] theta: 1.61 => loss: 0.94\n",
      "[visit] theta: 1.60 => loss: 0.93\n",
      "[visit] theta: 1.59 => loss: 0.91\n",
      "[visit] theta: 1.58 => loss: 0.89\n",
      "[visit] theta: 1.57 => loss: 0.88\n",
      "[visit] theta: 1.57 => loss: 0.86\n",
      "[visit] theta: 1.56 => loss: 0.84\n",
      "[visit] theta: 1.55 => loss: 0.83\n",
      "[visit] theta: 1.54 => loss: 0.81\n",
      "[visit] theta: 1.53 => loss: 0.80\n",
      "[visit] theta: 1.52 => loss: 0.78\n",
      "[visit] theta: 1.51 => loss: 0.77\n",
      "[visit] theta: 1.51 => loss: 0.76\n",
      "[visit] theta: 1.50 => loss: 0.74\n",
      "[visit] theta: 1.49 => loss: 0.73\n",
      "[visit] theta: 1.48 => loss: 0.72\n",
      "[visit] theta: 1.47 => loss: 0.70\n",
      "[visit] theta: 1.46 => loss: 0.69\n",
      "[visit] theta: 1.46 => loss: 0.68\n",
      "[visit] theta: 1.45 => loss: 0.67\n",
      "[visit] theta: 1.44 => loss: 0.65\n",
      "[visit] theta: 1.43 => loss: 0.64\n",
      "[visit] theta: 1.43 => loss: 0.63\n",
      "[visit] theta: 1.42 => loss: 0.62\n",
      "[visit] theta: 1.41 => loss: 0.61\n",
      "[visit] theta: 1.40 => loss: 0.60\n",
      "[visit] theta: 1.40 => loss: 0.59\n",
      "[visit] theta: 1.39 => loss: 0.58\n",
      "[visit] theta: 1.38 => loss: 0.57\n",
      "[visit] theta: 1.37 => loss: 0.56\n",
      "[visit] theta: 1.37 => loss: 0.55\n",
      "[visit] theta: 1.36 => loss: 0.54\n",
      "[visit] theta: 1.35 => loss: 0.53\n",
      "[visit] theta: 1.35 => loss: 0.52\n",
      "[visit] theta: 1.34 => loss: 0.51\n",
      "[visit] theta: 1.33 => loss: 0.50\n",
      "[visit] theta: 1.33 => loss: 0.49\n",
      "[visit] theta: 1.32 => loss: 0.48\n",
      "[visit] theta: 1.31 => loss: 0.48\n",
      "[visit] theta: 1.31 => loss: 0.47\n",
      "[visit] theta: 1.30 => loss: 0.46\n",
      "[visit] theta: 1.29 => loss: 0.45\n",
      "[visit] theta: 1.29 => loss: 0.44\n",
      "[visit] theta: 1.28 => loss: 0.44\n",
      "[visit] theta: 1.28 => loss: 0.43\n",
      "[visit] theta: 1.27 => loss: 0.42\n",
      "[visit] theta: 1.26 => loss: 0.41\n",
      "[visit] theta: 1.26 => loss: 0.41\n",
      "[visit] theta: 1.25 => loss: 0.40\n",
      "[visit] theta: 1.25 => loss: 0.39\n",
      "[visit] theta: 1.24 => loss: 0.39\n",
      "[visit] theta: 1.24 => loss: 0.38\n",
      "[visit] theta: 1.23 => loss: 0.37\n",
      "[visit] theta: 1.22 => loss: 0.37\n",
      "[visit] theta: 1.22 => loss: 0.36\n",
      "[visit] theta: 1.21 => loss: 0.36\n",
      "[visit] theta: 1.21 => loss: 0.35\n",
      "[visit] theta: 1.20 => loss: 0.34\n",
      "[visit] theta: 1.20 => loss: 0.34\n",
      "[visit] theta: 1.19 => loss: 0.33\n",
      "[visit] theta: 1.19 => loss: 0.33\n",
      "[visit] theta: 1.18 => loss: 0.32\n",
      "[visit] theta: 1.18 => loss: 0.32\n",
      "[visit] theta: 1.17 => loss: 0.31\n",
      "[visit] theta: 1.17 => loss: 0.31\n",
      "[visit] theta: 1.16 => loss: 0.30\n",
      "[visit] theta: 1.16 => loss: 0.30\n",
      "[visit] theta: 1.15 => loss: 0.29\n",
      "[visit] theta: 1.15 => loss: 0.29\n",
      "[visit] theta: 1.14 => loss: 0.29\n",
      "[visit] theta: 1.14 => loss: 0.28\n",
      "[visit] theta: 1.13 => loss: 0.28\n",
      "[visit] theta: 1.13 => loss: 0.27\n",
      "[visit] theta: 1.12 => loss: 0.27\n",
      "[visit] theta: 1.12 => loss: 0.26\n",
      "[visit] theta: 1.12 => loss: 0.26\n",
      "[visit] theta: 1.11 => loss: 0.26\n",
      "[visit] theta: 1.11 => loss: 0.25\n",
      "[visit] theta: 1.10 => loss: 0.25\n",
      "[visit] theta: 1.10 => loss: 0.24\n",
      "[visit] theta: 1.09 => loss: 0.24\n",
      "[visit] theta: 1.09 => loss: 0.24\n",
      "[visit] theta: 1.09 => loss: 0.23\n",
      "[visit] theta: 1.08 => loss: 0.23\n",
      "[visit] theta: 1.08 => loss: 0.23\n",
      "[visit] theta: 1.07 => loss: 0.22\n",
      "[visit] theta: 1.07 => loss: 0.22\n",
      "[visit] theta: 1.07 => loss: 0.22\n",
      "[visit] theta: 1.06 => loss: 0.22\n",
      "[visit] theta: 1.06 => loss: 0.21\n",
      "[visit] theta: 1.05 => loss: 0.21\n",
      "[visit] theta: 1.05 => loss: 0.21\n",
      "[visit] theta: 1.05 => loss: 0.20\n",
      "[visit] theta: 1.04 => loss: 0.20\n",
      "[visit] theta: 1.04 => loss: 0.20\n",
      "[visit] theta: 1.03 => loss: 0.20\n",
      "[visit] theta: 1.03 => loss: 0.19\n",
      "[visit] theta: 1.03 => loss: 0.19\n",
      "[visit] theta: 1.02 => loss: 0.19\n",
      "[visit] theta: 1.02 => loss: 0.19\n",
      "[visit] theta: 1.02 => loss: 0.18\n",
      "[visit] theta: 1.01 => loss: 0.18\n",
      "[visit] theta: 1.01 => loss: 0.18\n",
      "[visit] theta: 1.01 => loss: 0.18\n",
      "[visit] theta: 1.00 => loss: 0.17\n",
      "[visit] theta: 1.00 => loss: 0.17\n",
      "[visit] theta: 1.00 => loss: 0.17\n",
      "[visit] theta: 0.99 => loss: 0.17\n",
      "[visit] theta: 0.99 => loss: 0.17\n",
      "[visit] theta: 0.99 => loss: 0.16\n",
      "[visit] theta: 0.98 => loss: 0.16\n",
      "[visit] theta: 0.98 => loss: 0.16\n",
      "[visit] theta: 0.98 => loss: 0.16\n",
      "[visit] theta: 0.98 => loss: 0.16\n",
      "[visit] theta: 0.97 => loss: 0.15\n",
      "[visit] theta: 0.97 => loss: 0.15\n",
      "[visit] theta: 0.97 => loss: 0.15\n",
      "[visit] theta: 0.96 => loss: 0.15\n",
      "[visit] theta: 0.96 => loss: 0.15\n",
      "[visit] theta: 0.96 => loss: 0.15\n",
      "[visit] theta: 0.95 => loss: 0.14\n",
      "[visit] theta: 0.95 => loss: 0.14\n",
      "[visit] theta: 0.95 => loss: 0.14\n",
      "[visit] theta: 0.95 => loss: 0.14\n",
      "[visit] theta: 0.94 => loss: 0.14\n",
      "[visit] theta: 0.94 => loss: 0.14\n",
      "[visit] theta: 0.94 => loss: 0.14\n",
      "[visit] theta: 0.94 => loss: 0.13\n",
      "[visit] theta: 0.93 => loss: 0.13\n",
      "[visit] theta: 0.93 => loss: 0.13\n",
      "[visit] theta: 0.93 => loss: 0.13\n",
      "[visit] theta: 0.93 => loss: 0.13\n",
      "[visit] theta: 0.92 => loss: 0.13\n",
      "[visit] theta: 0.92 => loss: 0.13\n",
      "[visit] theta: 0.92 => loss: 0.12\n",
      "[visit] theta: 0.92 => loss: 0.12\n",
      "[visit] theta: 0.91 => loss: 0.12\n",
      "[visit] theta: 0.91 => loss: 0.12\n",
      "[visit] theta: 0.91 => loss: 0.12\n",
      "[visit] theta: 0.91 => loss: 0.12\n",
      "[visit] theta: 0.90 => loss: 0.12\n",
      "[visit] theta: 0.90 => loss: 0.12\n",
      "[visit] theta: 0.90 => loss: 0.12\n",
      "[visit] theta: 0.90 => loss: 0.11\n",
      "[visit] theta: 0.89 => loss: 0.11\n",
      "[visit] theta: 0.89 => loss: 0.11\n",
      "[visit] theta: 0.89 => loss: 0.11\n",
      "[visit] theta: 0.89 => loss: 0.11\n",
      "[visit] theta: 0.89 => loss: 0.11\n",
      "[visit] theta: 0.88 => loss: 0.11\n",
      "[visit] theta: 0.88 => loss: 0.11\n",
      "[visit] theta: 0.88 => loss: 0.11\n",
      "[visit] theta: 0.88 => loss: 0.11\n",
      "[visit] theta: 0.88 => loss: 0.11\n",
      "[visit] theta: 0.87 => loss: 0.11\n",
      "[visit] theta: 0.87 => loss: 0.10\n",
      "[visit] theta: 0.87 => loss: 0.10\n",
      "[visit] theta: 0.87 => loss: 0.10\n",
      "[visit] theta: 0.87 => loss: 0.10\n",
      "[visit] theta: 0.86 => loss: 0.10\n",
      "[visit] theta: 0.86 => loss: 0.10\n",
      "[visit] theta: 0.86 => loss: 0.10\n",
      "[visit] theta: 0.86 => loss: 0.10\n",
      "[visit] theta: 0.86 => loss: 0.10\n",
      "[visit] theta: 0.85 => loss: 0.10\n",
      "[visit] theta: 0.85 => loss: 0.10\n",
      "[visit] theta: 0.85 => loss: 0.10\n",
      "[visit] theta: 0.85 => loss: 0.10\n",
      "[visit] theta: 0.85 => loss: 0.10\n",
      "[visit] theta: 0.85 => loss: 0.09\n",
      "[visit] theta: 0.84 => loss: 0.09\n",
      "[visit] theta: 0.84 => loss: 0.09\n",
      "[visit] theta: 0.84 => loss: 0.09\n",
      "[visit] theta: 0.84 => loss: 0.09\n",
      "[visit] theta: 0.84 => loss: 0.09\n",
      "[visit] theta: 0.84 => loss: 0.09\n",
      "[visit] theta: 0.83 => loss: 0.09\n",
      "[visit] theta: 0.83 => loss: 0.09\n",
      "[visit] theta: 0.83 => loss: 0.09\n",
      "[visit] theta: 0.83 => loss: 0.09\n",
      "[visit] theta: 0.83 => loss: 0.09\n",
      "[visit] theta: 0.83 => loss: 0.09\n",
      "[visit] theta: 0.82 => loss: 0.09\n",
      "[visit] theta: 0.82 => loss: 0.09\n",
      "[visit] theta: 0.82 => loss: 0.09\n",
      "[visit] theta: 0.82 => loss: 0.09\n",
      "[visit] theta: 0.82 => loss: 0.09\n",
      "[visit] theta: 0.82 => loss: 0.09\n",
      "[visit] theta: 0.82 => loss: 0.09\n",
      "[visit] theta: 0.81 => loss: 0.08\n",
      "[visit] theta: 0.81 => loss: 0.08\n",
      "[visit] theta: 0.81 => loss: 0.08\n",
      "[visit] theta: 0.81 => loss: 0.08\n",
      "[visit] theta: 0.81 => loss: 0.08\n",
      "[visit] theta: 0.81 => loss: 0.08\n",
      "[visit] theta: 0.81 => loss: 0.08\n",
      "[visit] theta: 0.80 => loss: 0.08\n",
      "[visit] theta: 0.80 => loss: 0.08\n",
      "[visit] theta: 0.80 => loss: 0.08\n",
      "[visit] theta: 0.80 => loss: 0.08\n",
      "[visit] theta: 0.80 => loss: 0.08\n",
      "[visit] theta: 0.80 => loss: 0.08\n",
      "[visit] theta: 0.80 => loss: 0.08\n",
      "[visit] theta: 0.80 => loss: 0.08\n",
      "[visit] theta: 0.79 => loss: 0.08\n",
      "[visit] theta: 0.79 => loss: 0.08\n",
      "[visit] theta: 0.79 => loss: 0.08\n",
      "[visit] theta: 0.79 => loss: 0.08\n",
      "[visit] theta: 0.79 => loss: 0.08\n",
      "[visit] theta: 0.79 => loss: 0.08\n",
      "[visit] theta: 0.79 => loss: 0.08\n",
      "[visit] theta: 0.79 => loss: 0.08\n",
      "[visit] theta: 0.79 => loss: 0.08\n",
      "[visit] theta: 0.78 => loss: 0.08\n",
      "[visit] theta: 0.78 => loss: 0.08\n",
      "[visit] theta: 0.78 => loss: 0.08\n",
      "[visit] theta: 0.78 => loss: 0.08\n",
      "[visit] theta: 0.78 => loss: 0.08\n",
      "[visit] theta: 0.78 => loss: 0.08\n",
      "[visit] theta: 0.78 => loss: 0.08\n",
      "[visit] theta: 0.78 => loss: 0.08\n",
      "[visit] theta: 0.78 => loss: 0.08\n",
      "[visit] theta: 0.77 => loss: 0.08\n",
      "[visit] theta: 0.77 => loss: 0.08\n",
      "[visit] theta: 0.77 => loss: 0.08\n",
      "[visit] theta: 0.77 => loss: 0.07\n",
      "[visit] theta: 0.77 => loss: 0.07\n",
      "[visit] theta: 0.77 => loss: 0.07\n",
      "[visit] theta: 0.77 => loss: 0.07\n",
      "[visit] theta: 0.77 => loss: 0.07\n",
      "[visit] theta: 0.77 => loss: 0.07\n",
      "[visit] theta: 0.77 => loss: 0.07\n",
      "[visit] theta: 0.76 => loss: 0.07\n",
      "[visit] theta: 0.76 => loss: 0.07\n",
      "[visit] theta: 0.76 => loss: 0.07\n",
      "[visit] theta: 0.76 => loss: 0.07\n",
      "[visit] theta: 0.76 => loss: 0.07\n",
      "[visit] theta: 0.76 => loss: 0.07\n",
      "[visit] theta: 0.76 => loss: 0.07\n",
      "[visit] theta: 0.76 => loss: 0.07\n",
      "[visit] theta: 0.76 => loss: 0.07\n",
      "[visit] theta: 0.76 => loss: 0.07\n",
      "[visit] theta: 0.76 => loss: 0.07\n",
      "[visit] theta: 0.76 => loss: 0.07\n",
      "[visit] theta: 0.75 => loss: 0.07\n",
      "[visit] theta: 0.75 => loss: 0.07\n",
      "[visit] theta: 0.75 => loss: 0.07\n",
      "[visit] theta: 0.75 => loss: 0.07\n",
      "[visit] theta: 0.75 => loss: 0.07\n",
      "[visit] theta: 0.75 => loss: 0.07\n",
      "[visit] theta: 0.75 => loss: 0.07\n",
      "[visit] theta: 0.75 => loss: 0.07\n",
      "[visit] theta: 0.75 => loss: 0.07\n",
      "[visit] theta: 0.75 => loss: 0.07\n",
      "[visit] theta: 0.75 => loss: 0.07\n",
      "[visit] theta: 0.75 => loss: 0.07\n",
      "[visit] theta: 0.75 => loss: 0.07\n",
      "[visit] theta: 0.74 => loss: 0.07\n",
      "[visit] theta: 0.74 => loss: 0.07\n",
      "[visit] theta: 0.74 => loss: 0.07\n",
      "[visit] theta: 0.74 => loss: 0.07\n",
      "[visit] theta: 0.74 => loss: 0.07\n",
      "[visit] theta: 0.74 => loss: 0.07\n",
      "[visit] theta: 0.74 => loss: 0.07\n",
      "[visit] theta: 0.74 => loss: 0.07\n",
      "[visit] theta: 0.74 => loss: 0.07\n",
      "[visit] theta: 0.74 => loss: 0.07\n",
      "[visit] theta: 0.74 => loss: 0.07\n",
      "[visit] theta: 0.74 => loss: 0.07\n",
      "[visit] theta: 0.74 => loss: 0.07\n",
      "[visit] theta: 0.74 => loss: 0.07\n",
      "[visit] theta: 0.74 => loss: 0.07\n",
      "[visit] theta: 0.73 => loss: 0.07\n",
      "[visit] theta: 0.73 => loss: 0.07\n",
      "[visit] theta: 0.73 => loss: 0.07\n",
      "[visit] theta: 0.73 => loss: 0.07\n",
      "[visit] theta: 0.73 => loss: 0.07\n",
      "[visit] theta: 0.73 => loss: 0.07\n",
      "[visit] theta: 0.73 => loss: 0.07\n",
      "[visit] theta: 0.73 => loss: 0.07\n",
      "[visit] theta: 0.73 => loss: 0.07\n",
      "[visit] theta: 0.73 => loss: 0.07\n",
      "[visit] theta: 0.73 => loss: 0.07\n",
      "[visit] theta: 0.73 => loss: 0.07\n",
      "[visit] theta: 0.73 => loss: 0.07\n",
      "[visit] theta: 0.73 => loss: 0.07\n",
      "[visit] theta: 0.73 => loss: 0.07\n",
      "[visit] theta: 0.73 => loss: 0.07\n",
      "[visit] theta: 0.73 => loss: 0.07\n",
      "[visit] theta: 0.73 => loss: 0.07\n",
      "[visit] theta: 0.72 => loss: 0.07\n",
      "[visit] theta: 0.72 => loss: 0.07\n",
      "[visit] theta: 0.72 => loss: 0.07\n",
      "[visit] theta: 0.72 => loss: 0.07\n",
      "[visit] theta: 0.72 => loss: 0.07\n",
      "[visit] theta: 0.72 => loss: 0.07\n",
      "[visit] theta: 0.72 => loss: 0.07\n",
      "[visit] theta: 0.72 => loss: 0.07\n",
      "[visit] theta: 0.72 => loss: 0.07\n",
      "[visit] theta: 0.72 => loss: 0.07\n",
      "[visit] theta: 0.72 => loss: 0.07\n",
      "[visit] theta: 0.72 => loss: 0.07\n",
      "[visit] theta: 0.72 => loss: 0.07\n",
      "[visit] theta: 0.72 => loss: 0.07\n",
      "[visit] theta: 0.72 => loss: 0.07\n",
      "[visit] theta: 0.72 => loss: 0.07\n",
      "[visit] theta: 0.72 => loss: 0.07\n",
      "[visit] theta: 0.72 => loss: 0.07\n",
      "[visit] theta: 0.72 => loss: 0.07\n",
      "[visit] theta: 0.72 => loss: 0.07\n",
      "[visit] theta: 0.72 => loss: 0.07\n",
      "[visit] theta: 0.72 => loss: 0.07\n",
      "[visit] theta: 0.71 => loss: 0.07\n",
      "[visit] theta: 0.71 => loss: 0.07\n",
      "[visit] theta: 0.71 => loss: 0.07\n",
      "[visit] theta: 0.71 => loss: 0.07\n",
      "[visit] theta: 0.71 => loss: 0.07\n",
      "[visit] theta: 0.71 => loss: 0.07\n",
      "[visit] theta: 0.71 => loss: 0.07\n",
      "[visit] theta: 0.71 => loss: 0.07\n",
      "[visit] theta: 0.71 => loss: 0.07\n",
      "[visit] theta: 0.71 => loss: 0.07\n",
      "[visit] theta: 0.71 => loss: 0.07\n",
      "[visit] theta: 0.71 => loss: 0.07\n",
      "[visit] theta: 0.71 => loss: 0.07\n",
      "[visit] theta: 0.71 => loss: 0.07\n",
      "[visit] theta: 0.71 => loss: 0.07\n",
      "[visit] theta: 0.71 => loss: 0.07\n",
      "[visit] theta: 0.71 => loss: 0.07\n",
      "[visit] theta: 0.71 => loss: 0.07\n",
      "[visit] theta: 0.71 => loss: 0.07\n",
      "[visit] theta: 0.71 => loss: 0.07\n",
      "[visit] theta: 0.71 => loss: 0.07\n",
      "[visit] theta: 0.71 => loss: 0.07\n",
      "[visit] theta: 0.71 => loss: 0.07\n",
      "[visit] theta: 0.71 => loss: 0.07\n",
      "[visit] theta: 0.71 => loss: 0.07\n",
      "[visit] theta: 0.71 => loss: 0.07\n",
      "[visit] theta: 0.71 => loss: 0.07\n",
      "[visit] theta: 0.70 => loss: 0.07\n",
      "[visit] theta: 0.70 => loss: 0.07\n",
      "[visit] theta: 0.70 => loss: 0.07\n",
      "[visit] theta: 0.70 => loss: 0.07\n",
      "[visit] theta: 0.70 => loss: 0.07\n",
      "[visit] theta: 0.70 => loss: 0.07\n",
      "[visit] theta: 0.70 => loss: 0.07\n",
      "[visit] theta: 0.70 => loss: 0.07\n",
      "[visit] theta: 0.70 => loss: 0.07\n",
      "[visit] theta: 0.70 => loss: 0.07\n",
      "[visit] theta: 0.70 => loss: 0.07\n",
      "[visit] theta: 0.70 => loss: 0.07\n",
      "[visit] theta: 0.70 => loss: 0.07\n",
      "[visit] theta: 0.70 => loss: 0.07\n",
      "[visit] theta: 0.70 => loss: 0.07\n",
      "[visit] theta: 0.70 => loss: 0.07\n",
      "[visit] theta: 0.70 => loss: 0.07\n",
      "[visit] theta: 0.70 => loss: 0.07\n",
      "[visit] theta: 0.70 => loss: 0.07\n",
      "[visit] theta: 0.70 => loss: 0.07\n",
      "[visit] theta: 0.70 => loss: 0.07\n",
      "[visit] theta: 0.70 => loss: 0.07\n",
      "[visit] theta: 0.70 => loss: 0.07\n",
      "[visit] theta: 0.70 => loss: 0.07\n",
      "[visit] theta: 0.70 => loss: 0.07\n",
      "[visit] theta: 0.70 => loss: 0.07\n",
      "[visit] theta: 0.70 => loss: 0.07\n",
      "[visit] theta: 0.70 => loss: 0.07\n",
      "[visit] theta: 0.70 => loss: 0.07\n",
      "[visit] theta: 0.70 => loss: 0.07\n",
      "[visit] theta: 0.70 => loss: 0.07\n",
      "[visit] theta: 0.70 => loss: 0.07\n",
      "[visit] theta: 0.70 => loss: 0.07\n",
      "[visit] theta: 0.70 => loss: 0.07\n",
      "[visit] theta: 0.70 => loss: 0.07\n",
      "[visit] theta: 0.70 => loss: 0.07\n",
      "[visit] theta: 0.70 => loss: 0.07\n",
      "[visit] theta: 0.70 => loss: 0.07\n",
      "[visit] theta: 0.70 => loss: 0.07\n",
      "[visit] theta: 0.69 => loss: 0.07\n",
      "[visit] theta: 0.69 => loss: 0.07\n",
      "[visit] theta: 0.69 => loss: 0.07\n",
      "[visit] theta: 0.69 => loss: 0.07\n",
      "[visit] theta: 0.69 => loss: 0.07\n",
      "[visit] theta: 0.69 => loss: 0.07\n",
      "[visit] theta: 0.69 => loss: 0.07\n",
      "[visit] theta: 0.69 => loss: 0.07\n",
      "[visit] theta: 0.69 => loss: 0.07\n",
      "[visit] theta: 0.69 => loss: 0.07\n",
      "[visit] theta: 0.69 => loss: 0.07\n",
      "[visit] theta: 0.69 => loss: 0.07\n",
      "[visit] theta: 0.69 => loss: 0.07\n",
      "[visit] theta: 0.69 => loss: 0.07\n",
      "[visit] theta: 0.69 => loss: 0.07\n",
      "[visit] theta: 0.69 => loss: 0.07\n",
      "[visit] theta: 0.69 => loss: 0.07\n",
      "[visit] theta: 0.69 => loss: 0.07\n",
      "[visit] theta: 0.69 => loss: 0.07\n",
      "[visit] theta: 0.69 => loss: 0.07\n",
      "[visit] theta: 0.69 => loss: 0.07\n",
      "[visit] theta: 0.69 => loss: 0.07\n",
      "[visit] theta: 0.69 => loss: 0.07\n",
      "[visit] theta: 0.69 => loss: 0.07\n",
      "[visit] theta: 0.69 => loss: 0.07\n",
      "[visit] theta: 0.69 => loss: 0.07\n",
      "[visit] theta: 0.69 => loss: 0.07\n",
      "[visit] theta: 0.69 => loss: 0.07\n",
      "[visit] theta: 0.69 => loss: 0.07\n",
      "[visit] theta: 0.69 => loss: 0.07\n",
      "[visit] theta: 0.69 => loss: 0.07\n",
      "[visit] theta: 0.69 => loss: 0.07\n",
      "[visit] theta: 0.69 => loss: 0.07\n",
      "[visit] theta: 0.69 => loss: 0.07\n",
      "[visit] theta: 0.69 => loss: 0.07\n",
      "[visit] theta: 0.69 => loss: 0.07\n",
      "[visit] theta: 0.69 => loss: 0.07\n",
      "[visit] theta: 0.69 => loss: 0.07\n",
      "[visit] theta: 0.69 => loss: 0.07\n",
      "[visit] theta: 0.69 => loss: 0.07\n",
      "[visit] theta: 0.69 => loss: 0.07\n",
      "[visit] theta: 0.69 => loss: 0.07\n",
      "[visit] theta: 0.69 => loss: 0.07\n",
      "[visit] theta: 0.69 => loss: 0.07\n",
      "[visit] theta: 0.69 => loss: 0.07\n",
      "[visit] theta: 0.69 => loss: 0.07\n",
      "[visit] theta: 0.69 => loss: 0.07\n",
      "[visit] theta: 0.69 => loss: 0.07\n",
      "[visit] theta: 0.69 => loss: 0.07\n",
      "[visit] theta: 0.69 => loss: 0.07\n",
      "[visit] theta: 0.69 => loss: 0.07\n",
      "[visit] theta: 0.69 => loss: 0.07\n",
      "[visit] theta: 0.69 => loss: 0.07\n",
      "[visit] theta: 0.69 => loss: 0.07\n",
      "[visit] theta: 0.69 => loss: 0.07\n",
      "[visit] theta: 0.69 => loss: 0.07\n",
      "[visit] theta: 0.69 => loss: 0.07\n",
      "[visit] theta: 0.69 => loss: 0.07\n",
      "[visit] theta: 0.69 => loss: 0.07\n"
     ]
    },
    {
     "data": {
      "application/vnd.plotly.v1+json": {
       "config": {
        "plotlyServerURL": "https://plot.ly"
       },
       "data": [
        {
         "hovertemplate": "x=%{x}<br>y=%{y}<extra></extra>",
         "legendgroup": "",
         "line": {
          "color": "#636efa",
          "dash": "solid"
         },
         "marker": {
          "symbol": "circle"
         },
         "mode": "lines",
         "name": "",
         "orientation": "v",
         "showlegend": false,
         "type": "scatter",
         "x": [
          -4,
          -3.99,
          -3.9800000000000004,
          -3.9700000000000006,
          -3.960000000000001,
          -3.950000000000001,
          -3.9400000000000013,
          -3.9300000000000015,
          -3.9200000000000017,
          -3.910000000000002,
          -3.900000000000002,
          -3.8900000000000023,
          -3.8800000000000026,
          -3.8700000000000028,
          -3.860000000000003,
          -3.850000000000003,
          -3.8400000000000034,
          -3.8300000000000036,
          -3.820000000000004,
          -3.810000000000004,
          -3.8000000000000043,
          -3.7900000000000045,
          -3.7800000000000047,
          -3.770000000000005,
          -3.760000000000005,
          -3.7500000000000053,
          -3.7400000000000055,
          -3.7300000000000058,
          -3.720000000000006,
          -3.710000000000006,
          -3.7000000000000064,
          -3.6900000000000066,
          -3.680000000000007,
          -3.670000000000007,
          -3.6600000000000072,
          -3.6500000000000075,
          -3.6400000000000077,
          -3.630000000000008,
          -3.620000000000008,
          -3.6100000000000083,
          -3.6000000000000085,
          -3.5900000000000087,
          -3.580000000000009,
          -3.570000000000009,
          -3.5600000000000094,
          -3.5500000000000096,
          -3.54000000000001,
          -3.53000000000001,
          -3.5200000000000102,
          -3.5100000000000104,
          -3.5000000000000107,
          -3.490000000000011,
          -3.480000000000011,
          -3.4700000000000113,
          -3.4600000000000115,
          -3.4500000000000117,
          -3.440000000000012,
          -3.430000000000012,
          -3.4200000000000124,
          -3.4100000000000126,
          -3.400000000000013,
          -3.390000000000013,
          -3.380000000000013,
          -3.3700000000000134,
          -3.3600000000000136,
          -3.350000000000014,
          -3.340000000000014,
          -3.3300000000000143,
          -3.3200000000000145,
          -3.3100000000000147,
          -3.300000000000015,
          -3.290000000000015,
          -3.2800000000000153,
          -3.2700000000000156,
          -3.2600000000000158,
          -3.250000000000016,
          -3.240000000000016,
          -3.2300000000000164,
          -3.2200000000000166,
          -3.210000000000017,
          -3.200000000000017,
          -3.1900000000000173,
          -3.1800000000000175,
          -3.1700000000000177,
          -3.160000000000018,
          -3.150000000000018,
          -3.1400000000000183,
          -3.1300000000000185,
          -3.1200000000000188,
          -3.110000000000019,
          -3.100000000000019,
          -3.0900000000000194,
          -3.0800000000000196,
          -3.07000000000002,
          -3.06000000000002,
          -3.0500000000000203,
          -3.0400000000000205,
          -3.0300000000000207,
          -3.020000000000021,
          -3.010000000000021,
          -3.0000000000000213,
          -2.9900000000000215,
          -2.9800000000000217,
          -2.970000000000022,
          -2.960000000000022,
          -2.9500000000000224,
          -2.9400000000000226,
          -2.930000000000023,
          -2.920000000000023,
          -2.9100000000000232,
          -2.9000000000000234,
          -2.8900000000000237,
          -2.880000000000024,
          -2.870000000000024,
          -2.8600000000000243,
          -2.8500000000000245,
          -2.8400000000000247,
          -2.830000000000025,
          -2.820000000000025,
          -2.8100000000000254,
          -2.8000000000000256,
          -2.790000000000026,
          -2.780000000000026,
          -2.770000000000026,
          -2.7600000000000264,
          -2.7500000000000266,
          -2.740000000000027,
          -2.730000000000027,
          -2.7200000000000273,
          -2.7100000000000275,
          -2.7000000000000277,
          -2.690000000000028,
          -2.680000000000028,
          -2.6700000000000284,
          -2.6600000000000286,
          -2.6500000000000288,
          -2.640000000000029,
          -2.630000000000029,
          -2.6200000000000294,
          -2.6100000000000296,
          -2.60000000000003,
          -2.59000000000003,
          -2.5800000000000303,
          -2.5700000000000305,
          -2.5600000000000307,
          -2.550000000000031,
          -2.540000000000031,
          -2.5300000000000313,
          -2.5200000000000315,
          -2.5100000000000318,
          -2.500000000000032,
          -2.490000000000032,
          -2.4800000000000324,
          -2.4700000000000326,
          -2.460000000000033,
          -2.450000000000033,
          -2.4400000000000333,
          -2.4300000000000335,
          -2.4200000000000337,
          -2.410000000000034,
          -2.400000000000034,
          -2.3900000000000343,
          -2.3800000000000345,
          -2.3700000000000347,
          -2.360000000000035,
          -2.350000000000035,
          -2.3400000000000354,
          -2.3300000000000356,
          -2.320000000000036,
          -2.310000000000036,
          -2.3000000000000362,
          -2.2900000000000365,
          -2.2800000000000367,
          -2.270000000000037,
          -2.260000000000037,
          -2.2500000000000373,
          -2.2400000000000375,
          -2.2300000000000377,
          -2.220000000000038,
          -2.210000000000038,
          -2.2000000000000384,
          -2.1900000000000386,
          -2.180000000000039,
          -2.170000000000039,
          -2.160000000000039,
          -2.1500000000000394,
          -2.1400000000000396,
          -2.13000000000004,
          -2.12000000000004,
          -2.1100000000000403,
          -2.1000000000000405,
          -2.0900000000000407,
          -2.080000000000041,
          -2.070000000000041,
          -2.0600000000000414,
          -2.0500000000000416,
          -2.040000000000042,
          -2.030000000000042,
          -2.020000000000042,
          -2.0100000000000424,
          -2.0000000000000426,
          -1.9900000000000428,
          -1.980000000000043,
          -1.9700000000000433,
          -1.9600000000000435,
          -1.9500000000000437,
          -1.940000000000044,
          -1.9300000000000441,
          -1.9200000000000443,
          -1.9100000000000446,
          -1.9000000000000448,
          -1.890000000000045,
          -1.8800000000000452,
          -1.8700000000000454,
          -1.8600000000000456,
          -1.8500000000000458,
          -1.840000000000046,
          -1.8300000000000463,
          -1.8200000000000465,
          -1.8100000000000467,
          -1.800000000000047,
          -1.790000000000047,
          -1.7800000000000473,
          -1.7700000000000475,
          -1.7600000000000477,
          -1.750000000000048,
          -1.7400000000000482,
          -1.7300000000000484,
          -1.7200000000000486,
          -1.7100000000000488,
          -1.700000000000049,
          -1.6900000000000492,
          -1.6800000000000495,
          -1.6700000000000497,
          -1.6600000000000499,
          -1.65000000000005,
          -1.6400000000000503,
          -1.6300000000000505,
          -1.6200000000000507,
          -1.610000000000051,
          -1.6000000000000512,
          -1.5900000000000514,
          -1.5800000000000516,
          -1.5700000000000518,
          -1.560000000000052,
          -1.5500000000000522,
          -1.5400000000000524,
          -1.5300000000000527,
          -1.5200000000000529,
          -1.510000000000053,
          -1.5000000000000533,
          -1.4900000000000535,
          -1.4800000000000537,
          -1.470000000000054,
          -1.4600000000000541,
          -1.4500000000000544,
          -1.4400000000000546,
          -1.4300000000000548,
          -1.420000000000055,
          -1.4100000000000552,
          -1.4000000000000554,
          -1.3900000000000556,
          -1.3800000000000558,
          -1.370000000000056,
          -1.3600000000000563,
          -1.3500000000000565,
          -1.3400000000000567,
          -1.330000000000057,
          -1.3200000000000571,
          -1.3100000000000573,
          -1.3000000000000576,
          -1.2900000000000578,
          -1.280000000000058,
          -1.2700000000000582,
          -1.2600000000000584,
          -1.2500000000000586,
          -1.2400000000000588,
          -1.230000000000059,
          -1.2200000000000593,
          -1.2100000000000595,
          -1.2000000000000597,
          -1.19000000000006,
          -1.1800000000000601,
          -1.1700000000000603,
          -1.1600000000000605,
          -1.1500000000000608,
          -1.140000000000061,
          -1.1300000000000612,
          -1.1200000000000614,
          -1.1100000000000616,
          -1.1000000000000618,
          -1.090000000000062,
          -1.0800000000000622,
          -1.0700000000000625,
          -1.0600000000000627,
          -1.0500000000000629,
          -1.040000000000063,
          -1.0300000000000633,
          -1.0200000000000635,
          -1.0100000000000637,
          -1.000000000000064,
          -0.9900000000000642,
          -0.9800000000000644,
          -0.9700000000000646,
          -0.9600000000000648,
          -0.950000000000065,
          -0.9400000000000652,
          -0.9300000000000654,
          -0.9200000000000657,
          -0.9100000000000659,
          -0.9000000000000661,
          -0.8900000000000663,
          -0.8800000000000665,
          -0.8700000000000667,
          -0.8600000000000669,
          -0.8500000000000671,
          -0.8400000000000674,
          -0.8300000000000676,
          -0.8200000000000678,
          -0.810000000000068,
          -0.8000000000000682,
          -0.7900000000000684,
          -0.7800000000000686,
          -0.7700000000000689,
          -0.7600000000000691,
          -0.7500000000000693,
          -0.7400000000000695,
          -0.7300000000000697,
          -0.7200000000000699,
          -0.7100000000000701,
          -0.7000000000000703,
          -0.6900000000000706,
          -0.6800000000000708,
          -0.670000000000071,
          -0.6600000000000712,
          -0.6500000000000714,
          -0.6400000000000716,
          -0.6300000000000718,
          -0.620000000000072,
          -0.6100000000000723,
          -0.6000000000000725,
          -0.5900000000000727,
          -0.5800000000000729,
          -0.5700000000000731,
          -0.5600000000000733,
          -0.5500000000000735,
          -0.5400000000000738,
          -0.530000000000074,
          -0.5200000000000742,
          -0.5100000000000744,
          -0.5000000000000746,
          -0.4900000000000748,
          -0.48000000000007503,
          -0.47000000000007525,
          -0.46000000000007546,
          -0.4500000000000757,
          -0.4400000000000759,
          -0.4300000000000761,
          -0.4200000000000763,
          -0.4100000000000765,
          -0.40000000000007674,
          -0.39000000000007695,
          -0.38000000000007716,
          -0.3700000000000774,
          -0.3600000000000776,
          -0.3500000000000778,
          -0.340000000000078,
          -0.33000000000007823,
          -0.32000000000007844,
          -0.31000000000007866,
          -0.30000000000007887,
          -0.2900000000000791,
          -0.2800000000000793,
          -0.2700000000000795,
          -0.2600000000000797,
          -0.25000000000007994,
          -0.24000000000008015,
          -0.23000000000008036,
          -0.22000000000008058,
          -0.2100000000000808,
          -0.200000000000081,
          -0.19000000000008122,
          -0.18000000000008143,
          -0.17000000000008164,
          -0.16000000000008185,
          -0.15000000000008207,
          -0.14000000000008228,
          -0.1300000000000825,
          -0.12000000000008271,
          -0.11000000000008292,
          -0.10000000000008313,
          -0.09000000000008335,
          -0.08000000000008356,
          -0.07000000000008377,
          -0.060000000000083986,
          -0.0500000000000842,
          -0.04000000000008441,
          -0.030000000000084626,
          -0.02000000000008484,
          -0.010000000000085052,
          -8.526512829121202e-14,
          0.009999999999914522,
          0.01999999999991431,
          0.029999999999914095,
          0.03999999999991388,
          0.04999999999991367,
          0.059999999999913456,
          0.06999999999991324,
          0.07999999999991303,
          0.08999999999991282,
          0.0999999999999126,
          0.10999999999991239,
          0.11999999999991218,
          0.12999999999991196,
          0.13999999999991175,
          0.14999999999991154,
          0.15999999999991132,
          0.1699999999999111,
          0.1799999999999109,
          0.18999999999991068,
          0.19999999999991047,
          0.20999999999991026,
          0.21999999999991005,
          0.22999999999990983,
          0.23999999999990962,
          0.2499999999999094,
          0.2599999999999092,
          0.269999999999909,
          0.27999999999990877,
          0.28999999999990855,
          0.29999999999990834,
          0.3099999999999081,
          0.3199999999999079,
          0.3299999999999077,
          0.3399999999999075,
          0.3499999999999073,
          0.35999999999990706,
          0.36999999999990685,
          0.37999999999990663,
          0.3899999999999064,
          0.3999999999999062,
          0.409999999999906,
          0.4199999999999058,
          0.42999999999990557,
          0.43999999999990536,
          0.44999999999990514,
          0.45999999999990493,
          0.4699999999999047,
          0.4799999999999045,
          0.4899999999999043,
          0.4999999999999041,
          0.5099999999999039,
          0.5199999999999037,
          0.5299999999999034,
          0.5399999999999032,
          0.549999999999903,
          0.5599999999999028,
          0.5699999999999026,
          0.5799999999999024,
          0.5899999999999022,
          0.599999999999902,
          0.6099999999999017,
          0.6199999999999015,
          0.6299999999999013,
          0.6399999999999011,
          0.6499999999999009,
          0.6599999999999007,
          0.6699999999999005,
          0.6799999999999002,
          0.6899999999999,
          0.6999999999998998,
          0.7099999999998996,
          0.7199999999998994,
          0.7299999999998992,
          0.739999999999899,
          0.7499999999998987,
          0.7599999999998985,
          0.7699999999998983,
          0.7799999999998981,
          0.7899999999998979,
          0.7999999999998977,
          0.8099999999998975,
          0.8199999999998973,
          0.829999999999897,
          0.8399999999998968,
          0.8499999999998966,
          0.8599999999998964,
          0.8699999999998962,
          0.879999999999896,
          0.8899999999998958,
          0.8999999999998956,
          0.9099999999998953,
          0.9199999999998951,
          0.9299999999998949,
          0.9399999999998947,
          0.9499999999998945,
          0.9599999999998943,
          0.9699999999998941,
          0.9799999999998938,
          0.9899999999998936,
          0.9999999999998934,
          1.0099999999998932,
          1.019999999999893,
          1.0299999999998928,
          1.0399999999998926,
          1.0499999999998924,
          1.0599999999998921,
          1.069999999999892,
          1.0799999999998917,
          1.0899999999998915,
          1.0999999999998913,
          1.109999999999891,
          1.1199999999998909,
          1.1299999999998906,
          1.1399999999998904,
          1.1499999999998902,
          1.15999999999989,
          1.1699999999998898,
          1.1799999999998896,
          1.1899999999998894,
          1.1999999999998892,
          1.209999999999889,
          1.2199999999998887,
          1.2299999999998885,
          1.2399999999998883,
          1.249999999999888,
          1.2599999999998879,
          1.2699999999998877,
          1.2799999999998875,
          1.2899999999998872,
          1.299999999999887,
          1.3099999999998868,
          1.3199999999998866,
          1.3299999999998864,
          1.3399999999998862,
          1.349999999999886,
          1.3599999999998857,
          1.3699999999998855,
          1.3799999999998853,
          1.389999999999885,
          1.399999999999885,
          1.4099999999998847,
          1.4199999999998845,
          1.4299999999998843,
          1.439999999999884,
          1.4499999999998838,
          1.4599999999998836,
          1.4699999999998834,
          1.4799999999998832,
          1.489999999999883,
          1.4999999999998828,
          1.5099999999998825,
          1.5199999999998823,
          1.5299999999998821,
          1.539999999999882,
          1.5499999999998817,
          1.5599999999998815,
          1.5699999999998813,
          1.579999999999881,
          1.5899999999998808,
          1.5999999999998806,
          1.6099999999998804,
          1.6199999999998802,
          1.62999999999988,
          1.6399999999998798,
          1.6499999999998796,
          1.6599999999998793,
          1.6699999999998791,
          1.679999999999879,
          1.6899999999998787,
          1.6999999999998785,
          1.7099999999998783,
          1.719999999999878,
          1.7299999999998779,
          1.7399999999998776,
          1.7499999999998774,
          1.7599999999998772,
          1.769999999999877,
          1.7799999999998768,
          1.7899999999998766,
          1.7999999999998764,
          1.8099999999998762,
          1.819999999999876,
          1.8299999999998757,
          1.8399999999998755,
          1.8499999999998753,
          1.859999999999875,
          1.8699999999998749,
          1.8799999999998747,
          1.8899999999998744,
          1.8999999999998742,
          1.909999999999874,
          1.9199999999998738,
          1.9299999999998736,
          1.9399999999998734,
          1.9499999999998732,
          1.959999999999873,
          1.9699999999998727,
          1.9799999999998725,
          1.9899999999998723,
          1.999999999999872,
          2.009999999999872,
          2.0199999999998717,
          2.0299999999998715,
          2.0399999999998712,
          2.049999999999871,
          2.059999999999871,
          2.0699999999998706,
          2.0799999999998704,
          2.08999999999987,
          2.09999999999987,
          2.1099999999998698,
          2.1199999999998695,
          2.1299999999998693,
          2.139999999999869,
          2.149999999999869,
          2.1599999999998687,
          2.1699999999998685,
          2.1799999999998683,
          2.189999999999868,
          2.199999999999868,
          2.2099999999998676,
          2.2199999999998674,
          2.229999999999867,
          2.239999999999867,
          2.2499999999998668,
          2.2599999999998666,
          2.2699999999998663,
          2.279999999999866,
          2.289999999999866,
          2.2999999999998657,
          2.3099999999998655,
          2.3199999999998653,
          2.329999999999865,
          2.339999999999865,
          2.3499999999998646,
          2.3599999999998644,
          2.369999999999864,
          2.379999999999864,
          2.389999999999864,
          2.3999999999998636,
          2.4099999999998634,
          2.419999999999863,
          2.429999999999863,
          2.4399999999998627,
          2.4499999999998625,
          2.4599999999998623,
          2.469999999999862,
          2.479999999999862,
          2.4899999999998617,
          2.4999999999998614,
          2.5099999999998612,
          2.519999999999861,
          2.529999999999861,
          2.5399999999998606,
          2.5499999999998604,
          2.55999999999986,
          2.56999999999986,
          2.5799999999998597,
          2.5899999999998595,
          2.5999999999998593,
          2.609999999999859,
          2.619999999999859,
          2.6299999999998587,
          2.6399999999998585,
          2.6499999999998582,
          2.659999999999858,
          2.669999999999858,
          2.6799999999998576,
          2.6899999999998574,
          2.699999999999857,
          2.709999999999857,
          2.7199999999998568,
          2.7299999999998565,
          2.7399999999998563,
          2.749999999999856,
          2.759999999999856,
          2.7699999999998557,
          2.7799999999998555,
          2.7899999999998553,
          2.799999999999855,
          2.809999999999855,
          2.8199999999998546,
          2.8299999999998544,
          2.839999999999854,
          2.849999999999854,
          2.8599999999998538,
          2.8699999999998536,
          2.8799999999998533,
          2.889999999999853,
          2.899999999999853,
          2.9099999999998527,
          2.9199999999998525,
          2.9299999999998523,
          2.939999999999852,
          2.949999999999852,
          2.9599999999998516,
          2.9699999999998514,
          2.979999999999851,
          2.989999999999851,
          2.999999999999851,
          3.0099999999998506,
          3.0199999999998504,
          3.02999999999985,
          3.03999999999985,
          3.0499999999998497,
          3.0599999999998495,
          3.0699999999998493,
          3.079999999999849,
          3.089999999999849,
          3.0999999999998487,
          3.1099999999998484,
          3.1199999999998482,
          3.129999999999848,
          3.139999999999848,
          3.1499999999998476,
          3.1599999999998474,
          3.169999999999847,
          3.179999999999847,
          3.1899999999998467,
          3.1999999999998465,
          3.2099999999998463,
          3.219999999999846,
          3.229999999999846,
          3.2399999999998457,
          3.2499999999998455,
          3.2599999999998452,
          3.269999999999845,
          3.279999999999845,
          3.2899999999998446,
          3.2999999999998444,
          3.309999999999844,
          3.319999999999844,
          3.3299999999998438,
          3.3399999999998435,
          3.3499999999998433,
          3.359999999999843,
          3.369999999999843,
          3.3799999999998427,
          3.3899999999998425,
          3.3999999999998423,
          3.409999999999842,
          3.419999999999842,
          3.4299999999998416,
          3.4399999999998414,
          3.449999999999841,
          3.459999999999841,
          3.4699999999998408,
          3.4799999999998406,
          3.4899999999998403,
          3.49999999999984,
          3.50999999999984,
          3.5199999999998397,
          3.5299999999998395,
          3.5399999999998393,
          3.549999999999839,
          3.559999999999839,
          3.5699999999998386,
          3.5799999999998384,
          3.589999999999838,
          3.599999999999838,
          3.609999999999838,
          3.6199999999998376,
          3.6299999999998374,
          3.639999999999837,
          3.649999999999837,
          3.6599999999998367,
          3.6699999999998365,
          3.6799999999998363,
          3.689999999999836,
          3.699999999999836,
          3.7099999999998357,
          3.7199999999998354,
          3.7299999999998352,
          3.739999999999835,
          3.749999999999835,
          3.7599999999998346,
          3.7699999999998344,
          3.779999999999834,
          3.789999999999834,
          3.7999999999998337,
          3.8099999999998335,
          3.8199999999998333,
          3.829999999999833,
          3.839999999999833,
          3.8499999999998327,
          3.8599999999998325,
          3.8699999999998322,
          3.879999999999832,
          3.889999999999832,
          3.8999999999998316,
          3.9099999999998314,
          3.919999999999831,
          3.929999999999831,
          3.9399999999998307,
          3.9499999999998305,
          3.9599999999998303,
          3.96999999999983,
          3.97999999999983,
          3.9899999999998297,
          3.9999999999998295,
          4.009999999999829,
          4.019999999999829,
          4.029999999999829,
          4.039999999999829,
          4.049999999999828,
          4.059999999999828,
          4.069999999999828,
          4.079999999999828,
          4.0899999999998276,
          4.099999999999827,
          4.109999999999827,
          4.119999999999827,
          4.129999999999827,
          4.1399999999998265,
          4.149999999999826,
          4.159999999999826,
          4.169999999999826,
          4.179999999999826,
          4.189999999999825,
          4.199999999999825,
          4.209999999999825,
          4.219999999999825,
          4.229999999999825,
          4.239999999999824,
          4.249999999999824,
          4.259999999999824,
          4.269999999999824,
          4.2799999999998235,
          4.289999999999823,
          4.299999999999823,
          4.309999999999823,
          4.319999999999823,
          4.329999999999822,
          4.339999999999822,
          4.349999999999822,
          4.359999999999822,
          4.369999999999822,
          4.379999999999821,
          4.389999999999821,
          4.399999999999821,
          4.409999999999821,
          4.4199999999998205,
          4.42999999999982,
          4.43999999999982,
          4.44999999999982,
          4.45999999999982,
          4.4699999999998195,
          4.479999999999819,
          4.489999999999819,
          4.499999999999819,
          4.509999999999819,
          4.519999999999818,
          4.529999999999818,
          4.539999999999818,
          4.549999999999818,
          4.5599999999998175,
          4.569999999999817,
          4.579999999999817,
          4.589999999999817,
          4.599999999999817,
          4.6099999999998165,
          4.619999999999816,
          4.629999999999816,
          4.639999999999816,
          4.649999999999816,
          4.659999999999815,
          4.669999999999815,
          4.679999999999815,
          4.689999999999815,
          4.6999999999998145,
          4.709999999999814,
          4.719999999999814,
          4.729999999999814,
          4.739999999999814,
          4.7499999999998135,
          4.759999999999813,
          4.769999999999813,
          4.779999999999813,
          4.789999999999813,
          4.799999999999812,
          4.809999999999812,
          4.819999999999812,
          4.829999999999812,
          4.839999999999812,
          4.849999999999811,
          4.859999999999811,
          4.869999999999811,
          4.879999999999811,
          4.8899999999998105,
          4.89999999999981,
          4.90999999999981,
          4.91999999999981,
          4.92999999999981,
          4.939999999999809,
          4.949999999999809,
          4.959999999999809,
          4.969999999999809,
          4.979999999999809,
          4.989999999999808,
          4.999999999999808,
          5.009999999999808,
          5.019999999999808,
          5.0299999999998075,
          5.039999999999807,
          5.049999999999807,
          5.059999999999807,
          5.069999999999807,
          5.0799999999998064,
          5.089999999999806,
          5.099999999999806,
          5.109999999999806,
          5.119999999999806,
          5.129999999999805,
          5.139999999999805,
          5.149999999999805,
          5.159999999999805,
          5.1699999999998045,
          5.179999999999804,
          5.189999999999804,
          5.199999999999804,
          5.209999999999804,
          5.2199999999998035,
          5.229999999999803,
          5.239999999999803,
          5.249999999999803,
          5.259999999999803,
          5.269999999999802,
          5.279999999999802,
          5.289999999999802,
          5.299999999999802,
          5.3099999999998015,
          5.319999999999801,
          5.329999999999801,
          5.339999999999801,
          5.349999999999801,
          5.3599999999998005,
          5.3699999999998,
          5.3799999999998,
          5.3899999999998,
          5.3999999999998,
          5.409999999999799,
          5.419999999999799,
          5.429999999999799,
          5.439999999999799,
          5.449999999999799,
          5.459999999999798,
          5.469999999999798,
          5.479999999999798,
          5.489999999999798,
          5.4999999999997975,
          5.509999999999797,
          5.519999999999797,
          5.529999999999797,
          5.539999999999797,
          5.549999999999796,
          5.559999999999796,
          5.569999999999796,
          5.579999999999796,
          5.589999999999796,
          5.599999999999795,
          5.609999999999795,
          5.619999999999795,
          5.629999999999795,
          5.6399999999997945,
          5.649999999999794,
          5.659999999999794,
          5.669999999999794,
          5.679999999999794,
          5.6899999999997934,
          5.699999999999793,
          5.709999999999793,
          5.719999999999793,
          5.729999999999793,
          5.739999999999792,
          5.749999999999792,
          5.759999999999792,
          5.769999999999792,
          5.7799999999997915,
          5.789999999999791,
          5.799999999999791,
          5.809999999999791,
          5.819999999999791,
          5.8299999999997905,
          5.83999999999979,
          5.84999999999979,
          5.85999999999979,
          5.86999999999979,
          5.879999999999789,
          5.889999999999789,
          5.899999999999789,
          5.909999999999789,
          5.9199999999997885,
          5.929999999999788,
          5.939999999999788,
          5.949999999999788,
          5.959999999999788,
          5.9699999999997875,
          5.979999999999787,
          5.989999999999787
         ],
         "xaxis": "x",
         "y": [
          21.91017803796456,
          21.816800951487842,
          21.72362386501112,
          21.630646778534402,
          21.537869692057686,
          21.445292605580963,
          21.35291551910425,
          21.26073843262753,
          21.16876134615082,
          21.076984259674102,
          20.98540717319739,
          20.894030086720665,
          20.80285300024395,
          20.711875913767226,
          20.621098827290506,
          20.53052174081379,
          20.44014465433707,
          20.34996756786036,
          20.259990481383635,
          20.170213394906916,
          20.080636308430208,
          19.991259221953484,
          19.902082135476768,
          19.81310504900005,
          19.724327962523333,
          19.635750876046615,
          19.5473737895699,
          19.459196703093177,
          19.371219616616468,
          19.283442530139745,
          19.195865443663028,
          19.10848835718631,
          19.021311270709592,
          18.934334184232874,
          18.84755709775616,
          18.76098001127944,
          18.67460292480272,
          18.588425838326007,
          18.502448751849286,
          18.41667166537257,
          18.33109457889585,
          18.245717492419125,
          18.160540405942413,
          18.075563319465694,
          17.99078623298898,
          17.906209146512264,
          17.82183206003554,
          17.737654973558833,
          17.653677887082104,
          17.56990080060539,
          17.48632371412868,
          17.402946627651957,
          17.319769541175233,
          17.236792454698517,
          17.154015368221803,
          17.071438281745085,
          16.989061195268363,
          16.90688410879165,
          16.824907022314928,
          16.743129935838212,
          16.661552849361495,
          16.58017576288478,
          16.498998676408057,
          16.418021589931342,
          16.33724450345462,
          16.2566674169779,
          16.176290330501185,
          16.09611324402447,
          16.016136157547752,
          15.936359071071028,
          15.856781984594312,
          15.777404898117599,
          15.698227811640873,
          15.619250725164159,
          15.54047363868744,
          15.461896552210726,
          15.383519465734006,
          15.305342379257288,
          15.227365292780567,
          15.149588206303852,
          15.072011119827133,
          14.994634033350414,
          14.917456946873694,
          14.840479860396977,
          14.763702773920258,
          14.687125687443544,
          14.61074860096682,
          14.534571514490102,
          14.45859442801339,
          14.382817341536668,
          14.307240255059947,
          14.231863168583228,
          14.156686082106514,
          14.0817089956298,
          14.006931909153076,
          13.93235482267636,
          13.857977736199643,
          13.783800649722924,
          13.709823563246204,
          13.636046476769485,
          13.562469390292772,
          13.489092303816054,
          13.415915217339329,
          13.342938130862612,
          13.270161044385892,
          13.197583957909174,
          13.125206871432457,
          13.05302978495574,
          12.981052698479022,
          12.909275612002304,
          12.837698525525582,
          12.766321439048866,
          12.695144352572147,
          12.62416726609543,
          12.553390179618708,
          12.482813093141994,
          12.412436006665274,
          12.34225892018856,
          12.272281833711833,
          12.20250474723512,
          12.132927660758398,
          12.063550574281683,
          11.994373487804966,
          11.925396401328245,
          11.856619314851528,
          11.788042228374803,
          11.719665141898089,
          11.651488055421368,
          11.583510968944651,
          11.515733882467934,
          11.448156795991213,
          11.380779709514494,
          11.313602623037779,
          11.246625536561059,
          11.17984845008434,
          11.11327136360762,
          11.0468942771309,
          10.980717190654186,
          10.914740104177465,
          10.848963017700747,
          10.783385931224029,
          10.71800884474731,
          10.652831758270592,
          10.587854671793874,
          10.523077585317155,
          10.458500498840438,
          10.394123412363715,
          10.329946325886997,
          10.265969239410277,
          10.202192152933558,
          10.138615066456842,
          10.07523797998012,
          10.012060893503405,
          9.949083807026685,
          9.886306720549966,
          9.82372963407325,
          9.761352547596529,
          9.699175461119811,
          9.637198374643091,
          9.575421288166371,
          9.513844201689654,
          9.452467115212938,
          9.391290028736213,
          9.330312942259496,
          9.26953585578278,
          9.20895876930606,
          9.148581682829342,
          9.088404596352621,
          9.028427509875904,
          8.968650423399186,
          8.909073336922464,
          8.849696250445746,
          8.790519163969027,
          8.731542077492309,
          8.672764991015589,
          8.61418790453887,
          8.555810818062149,
          8.497633731585433,
          8.439656645108712,
          8.381879558631994,
          8.324302472155274,
          8.266925385678558,
          8.209748299201836,
          8.15277121272512,
          8.095994126248398,
          8.039417039771681,
          7.9830399532949645,
          7.926862866818243,
          7.870885780341524,
          7.815108693864803,
          7.759531607388086,
          7.704154520911368,
          7.648977434434649,
          7.594000347957928,
          7.539223261481209,
          7.48464617500449,
          7.430269088527771,
          7.3760920020510525,
          7.322114915574332,
          7.2683378290976135,
          7.214760742620895,
          7.161383656144176,
          7.108206569667456,
          7.055229483190738,
          7.002452396714018,
          6.9498753102372985,
          6.897498223760577,
          6.845321137283859,
          6.79334405080714,
          6.7415669643304215,
          6.689989877853702,
          6.638612791376981,
          6.587435704900263,
          6.536458618423543,
          6.485681531946824,
          6.435104445470105,
          6.384727358993387,
          6.334550272516665,
          6.284573186039948,
          6.234796099563228,
          6.185219013086508,
          6.13584192660979,
          6.0866648401330705,
          6.037687753656352,
          5.988910667179631,
          5.940333580702914,
          5.891956494226193,
          5.843779407749474,
          5.795802321272755,
          5.7480252347960334,
          5.700448148319316,
          5.6530710618425974,
          5.605893975365877,
          5.558916888889156,
          5.512139802412436,
          5.465562715935718,
          5.419185629458999,
          5.373008542982278,
          5.32703145650556,
          5.281254370028839,
          5.23567728355212,
          5.1903001970754,
          5.145123110598681,
          5.100146024121962,
          5.055368937645243,
          5.010791851168522,
          4.966414764691803,
          4.922237678215083,
          4.878260591738364,
          4.8344835052616455,
          4.790906418784925,
          4.747529332308206,
          4.704352245831485,
          4.661375159354766,
          4.618598072878047,
          4.576020986401328,
          4.533643899924607,
          4.491466813447888,
          4.449489726971168,
          4.407712640494449,
          4.36613555401773,
          4.324758467541009,
          4.283581381064288,
          4.242604294587569,
          4.201827208110849,
          4.161250121634131,
          4.12087303515741,
          4.080695948680691,
          4.040718862203972,
          4.000941775727252,
          3.9613646892505314,
          3.921987602773812,
          3.8828105162970927,
          3.8438334298203727,
          3.805056343343652,
          3.766479256866932,
          3.7281021703902133,
          3.6899250839134945,
          3.651947997436774,
          3.6141709109600533,
          3.5765938244833335,
          3.5392167380066146,
          3.502039651529894,
          3.4650625650531746,
          3.4282854785764547,
          3.3917083920997344,
          3.3553313056230145,
          3.319154219146294,
          3.283177132669575,
          3.2474000461928547,
          3.211822959716134,
          3.1764458732394143,
          3.1412687867626947,
          3.1062917002859747,
          3.0715146138092546,
          3.0369375273325345,
          3.002560440855814,
          2.968383354379095,
          2.934406267902375,
          2.900629181425655,
          2.8670520949489338,
          2.833675008472214,
          2.8004979219954946,
          2.7675208355187744,
          2.734743749042054,
          2.702166662565335,
          2.669789576088615,
          2.637612489611895,
          2.605635403135175,
          2.5738583166584545,
          2.5422812301817346,
          2.510904143705014,
          2.479727057228294,
          2.4487499707515736,
          2.417972884274854,
          2.387395797798134,
          2.3570187113214134,
          2.3268416248446933,
          2.2968645383679736,
          2.267087451891253,
          2.2375103654145327,
          2.208133278937813,
          2.1789561924610923,
          2.1499791059843725,
          2.121202019507652,
          2.0926249330309314,
          2.064247846554212,
          2.0360707600774917,
          2.0080936736007713,
          1.9803165871240513,
          1.9527395006473305,
          1.9253624141706105,
          1.8981853276938896,
          1.8712082412171696,
          1.8444311547404493,
          1.817854068263729,
          1.7914769817870084,
          1.765299895310288,
          1.739322808833568,
          1.7135457223568473,
          1.6879686358801276,
          1.6625915494034067,
          1.6374144629266865,
          1.6124373764499667,
          1.587660289973246,
          1.563083203496525,
          1.5387061170198053,
          1.5145290305430847,
          1.4905519440663644,
          1.466774857589644,
          1.4431977711129234,
          1.419820684636203,
          1.3966435981594825,
          1.373666511682762,
          1.3508894252060415,
          1.3283123387293208,
          1.3059352522526004,
          1.2837581657758799,
          1.2617810792991597,
          1.240003992822439,
          1.2184269063457185,
          1.197049819868998,
          1.1758727333922774,
          1.1548956469155574,
          1.1341185604388369,
          1.113541473962116,
          1.0931643874853951,
          1.0729873010086743,
          1.0530102145319542,
          1.0332331280552336,
          1.0136560415785127,
          0.9942789551017921,
          0.9751018686250716,
          0.9561247821483508,
          0.9373476956716305,
          0.9187706091949097,
          0.9003935227181892,
          0.8822164362414684,
          0.8642393497647474,
          0.846462263288027,
          0.828885176811306,
          0.8115080903345854,
          0.7943310038578647,
          0.7773539173811441,
          0.7605768309044233,
          0.7439997444277026,
          0.7276226579509818,
          0.7114455714742611,
          0.6954684849975404,
          0.6796913985208197,
          0.6641143120440989,
          0.648737225567378,
          0.6335601390906574,
          0.6185830526139365,
          0.6038059661372158,
          0.589228879660495,
          0.574851793183774,
          0.5606747067070531,
          0.5466976202303324,
          0.5329205337536114,
          0.5193434472768905,
          0.5059663608001698,
          0.4927892743234489,
          0.47981218784672797,
          0.46703510137000703,
          0.4544580148932861,
          0.4420809284165652,
          0.42990384193984443,
          0.41792675546312347,
          0.4061496689864025,
          0.3945725825096815,
          0.3831954960329606,
          0.3720184095562395,
          0.3610413230795186,
          0.35026423660279765,
          0.3396871501260766,
          0.32931006364935567,
          0.31913297717263456,
          0.3091558906959136,
          0.29937880421919255,
          0.28980171774247154,
          0.2804246312657505,
          0.2712475447890294,
          0.2622704583123084,
          0.2534933718355873,
          0.24491628535886623,
          0.23653919888214517,
          0.22836211240542403,
          0.22038502592870293,
          0.21260793945198184,
          0.2050308529752607,
          0.19765376649853958,
          0.19047668002181842,
          0.1834995935450973,
          0.17672250706837614,
          0.17014542059165494,
          0.1637683341149338,
          0.15759124763821258,
          0.15161416116149146,
          0.14583707468477022,
          0.14025998820804902,
          0.13488290173132783,
          0.1297058152546066,
          0.12472872877788536,
          0.11995164230116413,
          0.11537455582444285,
          0.11099746934772163,
          0.10682038287100033,
          0.10284329639427907,
          0.0990662099175578,
          0.09548912344083652,
          0.0921120369641152,
          0.08893495048739389,
          0.08595786401067258,
          0.08318077753395126,
          0.08060369105722993,
          0.07822660458050859,
          0.07604951810378723,
          0.07407243162706588,
          0.0722953451503445,
          0.07071825867362311,
          0.06934117219690175,
          0.06816408572018037,
          0.06718699924345897,
          0.06640991276673754,
          0.06583282629001615,
          0.0654557398132947,
          0.06527865333657326,
          0.06530156685985183,
          0.06552448038313037,
          0.06594739390640893,
          0.06657030742968745,
          0.06739322095296593,
          0.06841613447624446,
          0.06963904799952295,
          0.07106196152280145,
          0.07268487504607997,
          0.07450778856935844,
          0.07653070209263689,
          0.07875361561591539,
          0.08117652913919382,
          0.08379944266247227,
          0.08662235618575072,
          0.08964526970902914,
          0.09286818323230757,
          0.09629109675558598,
          0.09991401027886437,
          0.10373692380214275,
          0.10775983732542116,
          0.11198275084869955,
          0.11640566437197783,
          0.12102857789525626,
          0.1258514914185346,
          0.13087440494181296,
          0.1360973184650913,
          0.14152023198836963,
          0.14714314551164792,
          0.1529660590349262,
          0.15898897255820454,
          0.1652118860814828,
          0.1716347996047611,
          0.1782577131280393,
          0.18508062665131764,
          0.19210354017459585,
          0.19932645369787413,
          0.20674936722115236,
          0.21437228074443065,
          0.22219519426770887,
          0.230218107790987,
          0.23844102131426528,
          0.2468639348375435,
          0.2554868483608217,
          0.2643097618840998,
          0.27333267540737805,
          0.2825555889306561,
          0.2919785024539344,
          0.3016014159772124,
          0.31142432950049065,
          0.3214472430237688,
          0.3316701565470469,
          0.3420930700703251,
          0.352715983593603,
          0.36353889711688114,
          0.3745618106401594,
          0.3857847241634374,
          0.3972076376867154,
          0.4088305512099935,
          0.4206534647332716,
          0.4326763782565495,
          0.4448992917798275,
          0.4573222053031055,
          0.4699451188263836,
          0.48276803234966154,
          0.49579094587293976,
          0.5090138593962179,
          0.5224367729194956,
          0.5360596864427736,
          0.5498825999660516,
          0.5639055134893296,
          0.5781284270126075,
          0.5925513405358857,
          0.6071742540591633,
          0.6219971675824413,
          0.6370200811057193,
          0.6522429946289969,
          0.667665908152275,
          0.6832888216755528,
          0.6991117351988304,
          0.7151346487221086,
          0.7313575622453867,
          0.7477804757686641,
          0.7644033892919422,
          0.7812263028152201,
          0.7982492163384978,
          0.8154721298617759,
          0.8328950433850535,
          0.8505179569083312,
          0.868340870431609,
          0.8863637839548868,
          0.9045866974781642,
          0.9230096110014425,
          0.9416325245247205,
          0.9604554380479982,
          0.9794783515712755,
          0.9987012650945534,
          1.0181241786178314,
          1.0377470921411085,
          1.0575700056643866,
          1.0775929191876643,
          1.0978158327109422,
          1.1182387462342196,
          1.1388616597574974,
          1.159684573280775,
          1.1807074868040526,
          1.2019304003273306,
          1.2233533138506083,
          1.2449762273738858,
          1.2667991408971633,
          1.2888220544204407,
          1.311044967943719,
          1.3334678814669962,
          1.3560907949902736,
          1.3789137085135512,
          1.4019366220368283,
          1.4251595355601065,
          1.4485824490833838,
          1.4722053626066611,
          1.4960282761299393,
          1.5200511896532165,
          1.5442741031764942,
          1.5686970166997716,
          1.5933199302230494,
          1.6181428437463268,
          1.643165757269604,
          1.6683886707928817,
          1.6938115843161594,
          1.719434497839437,
          1.7452574113627144,
          1.771280324885991,
          1.7975032384092693,
          1.8239261519325467,
          1.850549065455824,
          1.8773719789791012,
          1.9043948925023788,
          1.9316178060256557,
          1.9590407195489337,
          1.9866636330722105,
          2.0144865465954878,
          2.042509460118766,
          2.070732373642042,
          2.0991552871653205,
          2.1277782006885975,
          2.1566011142118744,
          2.1856240277351513,
          2.21484694125843,
          2.244269854781707,
          2.273892768304985,
          2.3037156818282614,
          2.333738595351539,
          2.3639615088748167,
          2.3943844223980935,
          2.4250073359213697,
          2.455830249444648,
          2.4868531629679245,
          2.5180760764912025,
          2.5494989900144795,
          2.5811219035377566,
          2.6129448170610337,
          2.64496773058431,
          2.6771906441075877,
          2.709613557630866,
          2.7422364711541425,
          2.7750593846774194,
          2.8080822982006977,
          2.841305211723974,
          2.874728125247251,
          2.9083510387705287,
          2.9421739522938046,
          2.9761968658170828,
          3.010419779340359,
          3.044842692863637,
          3.079465606386914,
          3.114288519910191,
          3.1493114334334686,
          3.184534346956744,
          3.2199572604800215,
          3.255580174003299,
          3.291403087526576,
          3.327426001049853,
          3.3636489145731296,
          3.400071828096408,
          3.436694741619683,
          3.473517655142962,
          3.5105405686662388,
          3.5477634821895143,
          3.5851863957127925,
          3.6228093092360703,
          3.6606322227593466,
          3.6986551362826225,
          3.7368780498059,
          3.775300963329176,
          3.813923876852454,
          3.852746790375729,
          3.8917697038990076,
          3.930992617422283,
          3.97041553094556,
          4.0100384444688375,
          4.049861357992115,
          4.08988427151539,
          4.1301071850386695,
          4.170530098561945,
          4.211153012085223,
          4.251975925608499,
          4.2929988391317755,
          4.334221752655052,
          4.375644666178328,
          4.4172675797016066,
          4.459090493224883,
          4.5011134067481615,
          4.543336320271438,
          4.585759233794713,
          4.628382147317991,
          4.671205060841267,
          4.714227974364544,
          4.75745088788782,
          4.8008738014110985,
          4.844496714934374,
          4.8883196284576504,
          4.932342541980924,
          4.976565455504205,
          5.020988369027479,
          5.0656112825507575,
          5.110434196074033,
          5.155457109597311,
          5.200680023120588,
          5.246102936643863,
          5.291725850167142,
          5.337548763690417,
          5.383571677213693,
          5.429794590736971,
          5.476217504260246,
          5.522840417783523,
          5.5696633313068,
          5.616686244830076,
          5.663909158353354,
          5.711332071876629,
          5.758954985399906,
          5.806777898923182,
          5.854800812446459,
          5.903023725969735,
          5.951446639493012,
          6.000069553016289,
          6.048892466539565,
          6.097915380062842,
          6.147138293586117,
          6.1965612071093945,
          6.2461841206326705,
          6.296007034155947,
          6.346029947679224,
          6.3962528612025,
          6.446675774725776,
          6.497298688249051,
          6.548121601772332,
          6.599144515295606,
          6.65036742881888,
          6.70179034234216,
          6.753413255865435,
          6.805236169388709,
          6.857259082911986,
          6.909481996435263,
          6.961904909958538,
          7.014527823481815,
          7.067350737005091,
          7.120373650528369,
          7.173596564051647,
          7.227019477574922,
          7.280642391098198,
          7.334465304621472,
          7.388488218144753,
          7.442711131668025,
          7.497134045191302,
          7.551756958714577,
          7.606579872237856,
          7.66160278576113,
          7.716825699284411,
          7.772248612807685,
          7.8278715263309575,
          7.883694439854233,
          7.939717353377512,
          7.99594026690079,
          8.052363180424063,
          8.108986093947342,
          8.165809007470617,
          8.222831920993892,
          8.28005483451717,
          8.337477748040444,
          8.395100661563722,
          8.452923575086995,
          8.510946488610273,
          8.569169402133548,
          8.627592315656827,
          8.686215229180098,
          8.745038142703377,
          8.804061056226654,
          8.863283969749927,
          8.922706883273204,
          8.982329796796481,
          9.042152710319758,
          9.102175623843035,
          9.162398537366311,
          9.222821450889587,
          9.28344436441286,
          9.344267277936138,
          9.405290191459416,
          9.466513104982686,
          9.527936018505965,
          9.589558932029242,
          9.651381845552518,
          9.713404759075793,
          9.775627672599068,
          9.838050586122346,
          9.90067349964562,
          9.963496413168901,
          10.026519326692176,
          10.089742240215447,
          10.153165153738723,
          10.216788067262005,
          10.280610980785273,
          10.344633894308554,
          10.408856807831825,
          10.473279721355102,
          10.537902634878376,
          10.602725548401654,
          10.66774846192493,
          10.732971375448207,
          10.798394288971483,
          10.86401720249476,
          10.92984011601803,
          10.995863029541312,
          11.062085943064584,
          11.12850885658786,
          11.195131770111136,
          11.261954683634409,
          11.328977597157687,
          11.396200510680966,
          11.463623424204243,
          11.531246337727515,
          11.59906925125079,
          11.667092164774065,
          11.73531507829734,
          11.803737991820618,
          11.872360905343895,
          11.941183818867172,
          12.010206732390444,
          12.079429645913724,
          12.148852559436994,
          12.218475472960275,
          12.28829838648355,
          12.358321300006823,
          12.428544213530103,
          12.498967127053374,
          12.569590040576651,
          12.640412954099922,
          12.711435867623203,
          12.782658781146473,
          12.85408169466975,
          12.925704608193026,
          12.997527521716304,
          13.069550435239577,
          13.141773348762854,
          13.214196262286128,
          13.286819175809404,
          13.359642089332677,
          13.432665002855959,
          13.505887916379232,
          13.579310829902505,
          13.652933743425786,
          13.726756656949055,
          13.800779570472333,
          13.87500248399561,
          13.94942539751888,
          14.02404831104216,
          14.098871224565434,
          14.17389413808871,
          14.249117051611986,
          14.324539965135259,
          14.400162878658538,
          14.475985792181808,
          14.552008705705086,
          14.628231619228359,
          14.704654532751633,
          14.78127744627491,
          14.858100359798186,
          14.935123273321466,
          15.012346186844733,
          15.089769100368013,
          15.167392013891293,
          15.245214927414562,
          15.32323784093784,
          15.401460754461118,
          15.479883667984387,
          15.558506581507668,
          15.637329495030945,
          15.716352408554219,
          15.795575322077493,
          15.87499823560076,
          15.954621149124037,
          16.034444062647317,
          16.114466976170586,
          16.19468988969387,
          16.275112803217144,
          16.35573571674042,
          16.43655863026369,
          16.517581543786964,
          16.59880445731024,
          16.680227370833517,
          16.76185028435679,
          16.843673197880058,
          16.925696111403347,
          17.007919024926622,
          17.09034193844989,
          17.17296485197317,
          17.255787765496443,
          17.338810679019716,
          17.422033592542995,
          17.50545650606627,
          17.589079419589538,
          17.67290233311282,
          17.75692524663609,
          17.84114816015937,
          17.92557107368264,
          18.010193987205913,
          18.095016900729185,
          18.180039814252464,
          18.265262727775742,
          18.350685641299012,
          18.436308554822286,
          18.522131468345567,
          18.608154381868847,
          18.694377295392112,
          18.780800208915387,
          18.867423122438666,
          18.954246035961948,
          19.04126894948522,
          19.128491863008495,
          19.215914776531765,
          19.303537690055038,
          19.391360603578313,
          19.47938351710159,
          19.567606430624863,
          19.656029344148138,
          19.74465225767141,
          19.83347517119469,
          19.922498084717965,
          20.011720998241245,
          20.101143911764517,
          20.19076682528779,
          20.280589738811067,
          20.370612652334337,
          20.460835565857607,
          20.551258479380884,
          20.641881392904175,
          20.732704306427436,
          20.82372721995071,
          20.914950133473987,
          21.00637304699726,
          21.09799596052054,
          21.189818874043805,
          21.281841787567085,
          21.374064701090358,
          21.466487614613627,
          21.5591105281369,
          21.65193344166018,
          21.744956355183447,
          21.838179268706728,
          21.93160218223,
          22.025225095753278,
          22.119048009276554,
          22.21307092279983,
          22.307293836323105,
          22.40171674984638,
          22.49633966336965,
          22.591162576892934,
          22.686185490416204,
          22.781408403939473,
          22.876831317462763,
          22.97245423098602,
          23.068277144509295,
          23.164300058032573,
          23.26052297155585,
          23.35694588507912,
          23.453568798602397,
          23.55039171212567,
          23.64741462564895,
          23.744637539172224,
          23.84206045269549,
          23.93968336621877,
          24.037506279742043,
          24.13552919326532,
          24.233752106788593,
          24.332175020311873,
          24.43079793383515,
          24.529620847358412,
          24.62864376088169,
          24.727866674404964,
          24.827289587928234,
          24.92691250145151,
          25.02673541497479,
          25.126758328498067,
          25.22698124202134,
          25.327404155544613,
          25.428027069067884,
          25.52884998259116,
          25.62987289611443,
          25.731095809637708,
          25.83251872316099,
          25.934141636684256,
          26.035964550207535,
          26.137987463730802,
          26.24021037725408,
          26.34263329077736,
          26.44525620430063,
          26.548079117823903,
          26.651102031347175,
          26.75432494487045,
          26.85774785839372,
          26.961370771917,
          27.065193685440267,
          27.169216598963544,
          27.27343951248681,
          27.377862426010115,
          27.482485339533362,
          27.58730825305664,
          27.692331166579912,
          27.79755408010319,
          27.902976993626464,
          28.008599907149733,
          28.114422820673013,
          28.220445734196296,
          28.326668647719554
         ],
         "yaxis": "y"
        },
        {
         "line": {
          "color": "firebrick",
          "dash": "dot",
          "width": 8
         },
         "name": "GD history",
         "type": "scatter",
         "x": [
          5.45173854323836,
          5.403959701044336,
          5.356658647272252,
          5.30983060403789,
          5.26347084123587,
          5.217574676061871,
          5.172137472539612,
          5.1271546410525755,
          5.082621637880409,
          5.038533964739965,
          4.9948871683309255,
          4.951676839885976,
          4.908898614725476,
          4.86654817181658,
          4.824621233336774,
          4.783113564241766,
          4.742020971837708,
          4.701339305357691,
          4.661064455542474,
          4.621192354225409,
          4.5817189739215145,
          4.542640327420659,
          4.503952467384813,
          4.465651485949325,
          4.4277335143281915,
          4.390194722423269,
          4.353031318437396,
          4.316239548491382,
          4.279815696244827,
          4.243756082520739,
          4.208057064933891,
          4.172715037522912,
          4.137726430386043,
          4.103087709320542,
          4.0687953754656965,
          4.034845964949399,
          4.001236048538265,
          3.9679622312912426,
          3.93502115221669,
          3.9024094839328827,
          3.8701239323319134,
          3.838161236246954,
          3.806518167122844,
          3.7751915286899753,
          3.744178156641435,
          3.7134749183133806,
          3.6830787123686064,
          3.65298646848328,
          3.623195147036807,
          3.593701738804799,
          3.5645032646551105,
          3.535596775246919,
          3.5069793507328098,
          3.4786481004638414,
          3.4506001626975626,
          3.422832704308947,
          3.395342920504217,
          3.3681280345375346,
          3.341185297430519,
          3.3145119876945737,
          3.2881054110559877,
          3.2619629001837875,
          3.2360818144203094,
          3.210459539514466,
          3.185093487357681,
          3.159981095722464,
          3.135119828003599,
          3.1105071729619227,
          3.0861406444706634,
          3.0620177812643163,
          3.0381361466900327,
          3.014493328461492,
          2.9910869384152368,
          2.967914612269444,
          2.9449740093851093,
          2.922262812529618,
          2.8997787276426816,
          2.8775194836046145,
          2.855482832006928,
          2.8336665469252185,
          2.812068424694326,
          2.7906862836857425,
          2.7695179640872447,
          2.748561327684732,
          2.7278142576462443,
          2.7072746583081417,
          2.68694045496342,
          2.666809593652146,
          2.646880040953984,
          2.627149783782804,
          2.607616829183336,
          2.5882792041298623,
          2.5691349553269234,
          2.550182149012014,
          2.531418870760253,
          2.5128432252910105,
          2.49445333627646,
          2.4762473461520553,
          2.4582234159288947,
          2.4403797250079653,
          2.422714470996245,
          2.4052258695246422,
          2.3879121540677555,
          2.3707715757654375,
          2.3538024032461426,
          2.337002922452041,
          2.3203714364658805,
          2.3039062653395814,
          2.2876057459245454,
          2.2714682317036594,
          2.2554920926249826,
          2.2396757149370927,
          2.2240175010260814,
          2.2085158692541804,
          2.1931692537999985,
          2.1779761045003583,
          2.1629348866937144,
          2.148044081065137,
          2.1333021834928454,
          2.1187077048962766,
          2.1042591710856735,
          2.0899551226131763,
          2.0757941146254044,
          2.06177471671751,
          2.0478955127886946,
          2.0341551008991674,
          2.0205520931285355,
          2.00708511543561,
          1.9937528075196136,
          1.9805538226827772,
          1.9674868276943092,
          1.9545505026557257,
          1.941743540867528,
          1.9290646486972125,
          1.9165125454486,
          1.9040859632324738,
          1.8917836468385087,
          1.8796043536084834,
          1.8675468533107584,
          1.8556099280160105,
          1.8437923719742102,
          1.832092991492828,
          1.8205106048162594,
          1.8090440420064564,
          1.7976921448247516,
          1.7864537666148639,
          1.775327772187075,
          1.764313037703564,
          1.7534084505648881,
          1.742612909297599,
          1.7319253234429828,
          1.7213446134469126,
          1.7108697105508033,
          1.700499556683655,
          1.6902331043551782,
          1.680069316549986,
          1.670007166622846,
          1.6600456381949773,
          1.6501837250513873,
          1.6404204310392332,
          1.6307547699672005,
          1.621185765505888,
          1.611712451089189,
          1.6023338698166567,
          1.59304907435685,
          1.5838571268516413,
          1.5747570988214845,
          1.5657480710716294,
          1.5568291335992728,
          1.5479993855016398,
          1.539257934884983,
          1.530603898774493,
          1.5220364030251077,
          1.5135545822332164,
          1.505157579649244,
          1.4968445470911114,
          1.48861464485856,
          1.480467041648334,
          1.4724009144702104,
          1.464415448563868,
          1.456509837316589,
          1.4486832821817828,
          1.4409349925983246,
          1.4332641859107011,
          1.425670087289954,
          1.4181519296554141,
          1.4107089535972197,
          1.4033404072996072,
          1.3960455464649708,
          1.3888236342386808,
          1.3816739411346537,
          1.3745957449616668,
          1.36758833075041,
          1.3606509906812656,
          1.3537830240128126,
          1.3469837370110442,
          1.3402524428792935,
          1.3335884616888602,
          1.3269911203103313,
          1.3204597523455877,
          1.3139936980604916,
          1.3075923043182465,
          1.3012549245134237,
          1.2949809185066492,
          1.2887696525599424,
          1.2826204992727026,
          1.2765328375183354,
          1.2705060523815117,
          1.2645395350960562,
          1.2586326829834553,
          1.2527848993919806,
          1.2469955936364205,
          1.241264180938416,
          1.2355900823673915,
          1.2299727247820773,
          1.2244115407726162,
          1.2189059686032497,
          1.213455452155577,
          1.2080594408723808,
          1.2027173897020167,
          1.1974287590433563,
          1.1921930146912825,
          1.1870096277827293,
          1.1818780747432618,
          1.176797837234189,
          1.1717684021002068,
          1.1667892613175646,
          1.1618599119427486,
          1.1569798560616809,
          1.1521486007394237,
          1.1473656579703893,
          1.142630544629045,
          1.1379427824211144,
          1.133301897835263,
          1.12870742209527,
          1.124158891112677,
          1.11965584543991,
          1.1151978302238705,
          1.1107843951599916,
          1.1064150944467515,
          1.1020894867406437,
          1.097807135111597,
          1.0935676069988407,
          1.089370474167212,
          1.0852153126638997,
          1.0811017027756205,
          1.077029228986224,
          1.0729974799347215,
          1.069006048373734,
          1.0650545311283564,
          1.0611425290554326,
          1.0572696470032381,
          1.0534354937715655,
          1.0496396820722096,
          1.0458818284898472,
          1.0421615534433084,
          1.038478481147235,
          1.0348322395741223,
          1.0312224604167408,
          1.0276487790509332,
          1.0241108344987837,
          1.0206082693921557,
          1.0171407299365938,
          1.0137078658755876,
          1.0103093304551913,
          1.006944780388999,
          1.0036138758234687,
          1.0003162803035939,
          0.9970516607389177,
          0.9938196873698882,
          0.9906200337345491,
          0.9874523766355633,
          0.9843163961075674,
          0.9812117753848514,
          0.9781382008693625,
          0.9750953620990286,
          0.972082951716398,
          0.9691006654375938,
          0.9661482020215776,
          0.9632252632397216,
          0.960331553845684,
          0.957466781545587,
          0.9546306569684908,
          0.9518228936371657,
          0.9490432079391538,
          0.9462913190981219,
          0.9435669491455004,
          0.9408698228924052,
          0.9381996679018408,
          0.9355562144611822,
          0.9329391955549301,
          0.9303483468377405,
          0.9277834066077228,
          0.9252441157800053,
          0.922730217860565,
          0.920241458920319,
          0.9177775875694756,
          0.9153383549321406,
          0.9129235146211788,
          0.9105328227133268,
          0.9081660377245533,
          0.9058229205856675,
          0.9035032346181705,
          0.9012067455103485,
          0.8989332212936048,
          0.8966824323190284,
          0.8944541512341979,
          0.8922481529602156,
          0.8900642146689732,
          0.8879021157606433,
          0.8857616378413966,
          0.8836425647013424,
          0.8815446822926887,
          0.8794677787081215,
          0.8774116441594001,
          0.8753760709561658,
          0.8733608534849638,
          0.8713657881884739,
          0.8693906735449488,
          0.867435310047859,
          0.8654995001857402,
          0.8635830484222425,
          0.8616857611763798,
          0.8598074468029758,
          0.8579479155733057,
          0.8561069796559324,
          0.8542844530977328,
          0.8524801518051153,
          0.8506938935254238,
          0.8489254978285293,
          0.8471747860886037,
          0.8454415814660774,
          0.8437257088897764,
          0.8420269950392384,
          0.8403452683272057,
          0.8386803588822933,
          0.8370320985318301,
          0.8354003207848716,
          0.8337848608153826,
          0.8321855554455885,
          0.8306022431294923,
          0.8290347639365571,
          0.8274829595355512,
          0.8259466731785554,
          0.8244257496851296,
          0.822920035426638,
          0.8214293783107314,
          0.8199536277659838,
          0.8184926347266837,
          0.8170462516177766,
          0.8156143323399585,
          0.8141967322549186,
          0.8127933081707291,
          0.8114039183273816,
          0.8100284223824675,
          0.8086666813970026,
          0.8073185578213923,
          0.805983915481538,
          0.8046626195650823,
          0.8033545366077912,
          0.802059534480073,
          0.800777482373632,
          0.7995082507882554,
          0.7982517115187325,
          0.7970077376419049,
          0.7957762035038456,
          0.7945569847071668,
          0.7933499580984549,
          0.7921550017558301,
          0.7909719949766315,
          0.789800818265225,
          0.7886413533209324,
          0.7874934830260828,
          0.7863570914341816,
          0.7852320637581995,
          0.7841182863589773,
          0.7830156467337472,
          0.7819240335047695,
          0.7808433364080815,
          0.7797734462823603,
          0.7787142550578965,
          0.7776656557456773,
          0.7766275424265802,
          0.775599810240674,
          0.774582355376627,
          0.7735750750612205,
          0.772577867548968,
          0.771590632111838,
          0.7706132690290793,
          0.7696456795771482,
          0.7686877660197365,
          0.7677394315978989,
          0.7668005805202797,
          0.7658711179534365,
          0.7649509500122619,
          0.764039983750499,
          0.7631381271513538,
          0.7622452891182,
          0.7613613794653777,
          0.7604863089090836,
          0.7596199890583525,
          0.7587623324061287,
          0.757913252320427,
          0.7570726630355825,
          0.7562404796435864,
          0.7554166180855103,
          0.7546009951430149,
          0.7537935284299445,
          0.7529941363840048,
          0.7522027382585245,
          0.751419254114299,
          0.7506436048115157,
          0.7498757120017603,
          0.7491154981201024,
          0.7483628863772611,
          0.7476178007518482,
          0.7468801659826895,
          0.7461499075612223,
          0.7454269517239699,
          0.7447112254450899,
          0.7440026564289988,
          0.7433011731030685,
          0.7426067046103976,
          0.7419191808026533,
          0.7412385322329865,
          0.7405646901490164,
          0.739897586485886,
          0.7392371538593868,
          0.7385833255591526,
          0.7379360355419208,
          0.7372952184248613,
          0.7366608094789725,
          0.7360327446225425,
          0.7354109604146768,
          0.7347953940488897,
          0.7341859833467606,
          0.7335826667516526,
          0.7329853833224959,
          0.7323940727276306,
          0.731808675238714,
          0.7312291317246865,
          0.7306553836457994,
          0.7300873730477011,
          0.7295250425555838,
          0.7289683353683877,
          0.7284171952530635,
          0.7278715665388925,
          0.7273313941118633,
          0.7267966234091044,
          0.7262672004133731,
          0.7257430716475991,
          0.7252241841694829,
          0.7247104855661478,
          0.7242019239488461,
          0.7236984479477173,
          0.7232000067065999,
          0.7227065498778936,
          0.7222180276174744,
          0.7217343905796594,
          0.7212555899122225,
          0.72078157725146,
          0.7203123047173051,
          0.7198477249084918,
          0.7193877908977666,
          0.7189324562271486,
          0.7184816749032369,
          0.7180354013925643,
          0.7175935906169983,
          0.7171561979491881,
          0.716723179208056,
          0.7162944906543351,
          0.7158700889861516,
          0.7154499313346497,
          0.715033975259663,
          0.714622178745426,
          0.7142145001963315,
          0.7138108984327279,
          0.7134113326867604,
          0.7130157625982525,
          0.7126241482106297,
          0.7122364499668831,
          0.711852628705574,
          0.711472645656878,
          0.7110964624386689,
          0.7107240410526419,
          0.7103553438804752,
          0.7099903336800302,
          0.7096289735815896,
          0.7092712270841335,
          0.7089170580516518,
          0.7085664307094951,
          0.7082193096407599,
          0.7078756597827119,
          0.7075354464232445,
          0.7071986351973718,
          0.7068651920837579,
          0.70653508340128,
          0.706208275805627,
          0.7058847362859304,
          0.7055644321614308,
          0.7052473310781763,
          0.7049334010057542,
          0.7046226102340564,
          0.7043149273700755,
          0.7040103213347345,
          0.7037087613597469,
          0.7034102169845091,
          0.7031146580530238,
          0.7028220547108532,
          0.7025323774021044,
          0.7022455968664431,
          0.7019616841361384,
          0.7016806105331367,
          0.701402347666165,
          0.7011268674278631,
          0.7008541419919442,
          0.7005841438103845,
          0.7003168456106403,
          0.7000522203928936,
          0.6997902414273244,
          0.6995308822514109,
          0.6992741166672565,
          0.6990199187389436,
          0.6987682627899139,
          0.6985191234003745,
          0.6982724754047305,
          0.6980282938890429,
          0.6977865541885122,
          0.6975472318849868,
          0.6973103028044967,
          0.6970757430148115,
          0.696843528823023,
          0.6966136367731526,
          0.6963860436437808,
          0.6961607264457027,
          0.6959376624196054,
          0.6957168290337691,
          0.6954982039817911,
          0.6952817651803329,
          0.6950674907668893,
          0.6948553590975801,
          0.6946453487449641,
          0.6944374384958741,
          0.6942316073492751,
          0.6940278345141421,
          0.6938260994073604,
          0.6936263816516465,
          0.6934286610734898,
          0.6932329177011146,
          0.6930391317624632,
          0.6928472836831984,
          0.6926573540847261,
          0.6924693237822386,
          0.6922831737827759,
          0.6920988852833079,
          0.6919164396688345,
          0.6917358185105059,
          0.6915570035637606,
          0.6913799767664827,
          0.6912047202371776,
          0.6910312162731655,
          0.6908594473487936,
          0.6906893961136653,
          0.6905210453908884,
          0.6903543781753393,
          0.6901893776319457,
          0.690026027093986,
          0.6898643100614058,
          0.6897042101991515,
          0.6895457113355197,
          0.6893887974605242,
          0.6892334527242786,
          0.6890796614353956,
          0.6889274080594013,
          0.6887766772171671,
          0.6886274536833551,
          0.6884797223848813,
          0.6883334683993922,
          0.6881886769537581,
          0.6880453334225802,
          0.6879034233267142,
          0.6877629323318067,
          0.6876238462468484,
          0.6874861510227396,
          0.6873498327508719,
          0.687214877661723,
          0.6870812721234655,
          0.6869490026405906,
          0.6868180558525444,
          0.6866884185323787,
          0.6865600775854147,
          0.6864330200479203,
          0.6863072330858008,
          0.6861827039933025,
          0.6860594201917292,
          0.6859373692281716,
          0.6858165387742496,
          0.6856969166248669,
          0.685578490696978,
          0.6854612490283679
         ],
         "y": [
          22.8934414115387,
          22.43916067701981,
          21.993920129117857,
          21.557539868119143,
          21.12984357431431,
          20.710658436756184,
          20.299815083435472,
          19.897147512845834,
          19.50249302691094,
          19.115692165246145,
          18.736588640728485,
          18.365029276348718,
          18.00086394332011,
          17.643945500418777,
          17.294129734531175,
          16.951275302384737,
          16.615243673438012,
          16.28589907390734,
          15.96310843190732,
          15.646741323683091,
          15.336669920912538,
          15.032768939057112,
          14.734915586740609,
          14.44298951613521,
          14.156872774334849,
          13.876449755696324,
          13.601607155128708,
          13.332233922312378,
          13.068221216829087,
          12.80946236418493,
          12.555852812708382,
          12.307290091306221,
          12.06367376805996,
          11.824905409646302,
          11.590888541565077,
          11.361528609158665,
          11.136732939407146,
          10.916410703483681,
          10.700472880055083,
          10.488832219312723,
          10.281403207719134,
          10.07810203345626,
          9.878846552561212,
          9.683556255735978,
          9.492152235817569,
          9.304557155895534,
          9.120695218063945,
          8.940492132795207,
          8.763875088923317,
          8.590772724224477,
          8.421115096583144,
          8.254833655731874,
          8.091861215553546,
          7.932131926934763,
          7.775581251159497,
          7.622145933832155,
          7.471763979319631,
          7.324374625701905,
          7.179918320221172,
          7.038336695219504,
          6.899572544555373,
          6.763569800489452,
          6.63027351103045,
          6.499629817731676,
          6.37158593392955,
          6.246090123415087,
          6.12309167952986,
          6.002540904677951,
          5.884389090245596,
          5.768588496920441,
          5.655092335402457,
          5.543854747498681,
          5.434830787594193,
          5.327976404491801,
          5.223248423613151,
          5.120604529553982,
          5.020003248986592,
          4.921403933902494,
          4.82476674518857,
          4.7300526365300515,
          4.637223338633839,
          4.546241343765759,
          4.457069890595552,
          4.369672949343435,
          4.284015207222237,
          4.2000620541692495,
          4.117779568862016,
          4.037134505012395,
          3.958094277933384,
          3.8806269513732454,
          3.8047012246116525,
          3.730286419812613,
          3.657352469629077,
          3.5858699050541936,
          3.5158098435143486,
          3.447143977199148,
          3.379844561623618,
          3.3138844044180447,
          3.2492368543408587,
          3.1858757905102095,
          3.123775611849791,
          3.062911226744713,
          3.003258042903228,
          2.944791957420187,
          2.887489347038259,
          2.8313270586029318,
          2.7762823997074704,
          2.7223331295240247,
          2.669457449817232,
          2.6176339961366013,
          2.566841829184218,
          2.5170604263541874,
          2.4682696734404734,
          2.420449856509742,
          2.3735816539359327,
          2.3276461285933427,
          2.2826247202050696,
          2.238499237843723,
          2.195251852581367,
          2.152865090285732,
          2.11132182455978,
          2.070605269821774,
          2.030698974523056,
          1.9915868145007813,
          1.9532529864629502,
          1.9156820016030724,
          1.878858679341905,
          1.842768141193736,
          1.8073958047547147,
          1.7727273778108301,
          1.7387488525631294,
          1.7054464999678571,
          1.6728068641892317,
          1.6408167571625998,
          1.609463253265798,
          1.5787336840965431,
          1.5486156333537564,
          1.5190969318207506,
          1.4901656524482527,
          1.461810105535267,
          1.4340188340058493,
          1.406780608779867,
          1.3800844242358823,
          1.3539194937643229,
          1.3282752454091473,
          1.3031413175962394,
          1.278507554946809,
          1.254364004174102,
          1.2307009100617714,
          1.2075087115222771,
          1.1847780377337178,
          1.1624997043535512,
          1.1406647098076501,
          1.119264231653212,
          1.098289623014047,
          1.0777324090868021,
          1.0575842837167095,
          1.0378371060414813,
          1.0184828972019906,
          0.9995138371184054,
          0.9809222613304831,
          0.9627006579007406,
          0.9448416643792503,
          0.9273380648288375,
          0.9101827869094778,
          0.8933688990207139,
          0.8768896075009358,
          0.8607382538824015,
          0.8449083122008766,
          0.8293933863588133,
          0.814187207541007,
          0.7992836316816754,
          0.7846766369819443,
          0.770360321476738,
          0.7563289006500853,
          0.7425767050978832,
          0.7290981782371698,
          0.7158878740609845,
          0.702940454937905,
          0.690250689455375,
          0.6778134503059474,
          0.6656237122155935,
          0.6536765499132373,
          0.6419671361406981,
          0.6304907397022327,
          0.6192427235528928,
          0.6082185429249245,
          0.5974137434914525,
          0.5868239595667073,
          0.5764449123420642,
          0.5662724081571914,
          0.5563023368055976,
          0.5465306698739005,
          0.5369534591141444,
          0.5275668348485071,
          0.5183670044057564,
          0.509350250588816,
          0.500512930172833,
          0.49185147243312793,
          0.483362377702443,
          0.47504221595689905,
          0.4668876254300912,
          0.4588953112547666,
          0.45106204413153106,
          0.4433846590240479,
          0.4358600538802036,
          0.42848518837872185,
          0.4212570827007197,
          0.41417281632570946,
          0.40722952685156233,
          0.40042440883795083,
          0.39375471267280976,
          0.3872177434613552,
          0.3808108599372087,
          0.3745314733951925,
          0.36837704664536236,
          0.3623450929878541,
          0.35643317520813034,
          0.3506389045922227,
          0.3449599399615718,
          0.33939398672707094,
          0.33393879596193654,
          0.32859216349302833,
          0.32335192901025145,
          0.31821597519368183,
          0.31318222685806196,
          0.30824865011432107,
          0.30341325154778037,
          0.29867407741271385,
          0.29402921284293515,
          0.28947678107809516,
          0.2850149427053754,
          0.28064189491627284,
          0.2763558707781732,
          0.27215513852042206,
          0.26803800083459994,
          0.26400279418872585,
          0.26004788815510455,
          0.25617168475155244,
          0.2523726177957309,
          0.2486491522723302,
          0.24499978371284525,
          0.2414230375876938,
          0.23791746871043323,
          0.23448166065382994,
          0.23111422517755323,
          0.22781380166725418,
          0.22457905658481025,
          0.22140868292950694,
          0.21830139970994403,
          0.21525595142645063,
          0.21227110756379863,
          0.20934566209401345,
          0.2064784329890769,
          0.20366826174332875,
          0.20091401290537075,
          0.19821457361928818,
          0.19556885317499867,
          0.19297578256755057,
          0.19043431406519074,
          0.1879434207860279,
          0.1855020962831203,
          0.18310935413782062,
          0.18076422756121233,
          0.17846576900347852,
          0.17621304977104363,
          0.17400515965133412,
          0.17184120654500706,
          0.16972031610549582,
          0.1676416313857308,
          0.16560431249188912,
          0.1636075362440348,
          0.161650495843513,
          0.15973240054696136,
          0.15785247534681116,
          0.15600996065814396,
          0.15420411201178127,
          0.15243419975348113,
          0.1506995087491213,
          0.1489993380957481,
          0.14733300083837705,
          0.14569982369242776,
          0.14409914677168284,
          0.14253032332166074,
          0.14099271945829409,
          0.13948571391180836,
          0.13800869777569774,
          0.1365610742606957,
          0.13514225845364222,
          0.13375167708114916,
          0.1323887682779687,
          0.13105298135997143,
          0.1297437766016424,
          0.12846062501800407,
          0.12720300815088015,
          0.12597041785941193,
          0.12476235611474398,
          0.12357833479879503,
          0.12241787550703334,
          0.1212805093551778,
          0.12016577678974408,
          0.11907322740236252,
          0.11800241974778987,
          0.11695292116554323,
          0.11592430760508325,
          0.1149161634544765,
          0.11392808137246675,
          0.11295966212388908,
          0.112010514418358,
          0.1110802547521671,
          0.11016850725333338,
          0.10927490352972638,
          0.10839908252021924,
          0.10754069034880125,
          0.10669938018159444,
          0.10587481208671505,
          0.10506665289692378,
          0.10427457607500938,
          0.10349826158185102,
          0.10273739574710652,
          0.1019916711424735,
          0.10126078645747265,
          0.1005444463777033,
          0.09984236146552142,
          0.09915424804309184,
          0.09847982807776867,
          0.09781882906975545,
          0.09717098394200172,
          0.09653603093229027,
          0.09591371348747207,
          0.0953037801598057,
          0.09470598450535991,
          0.09412008498443769,
          0.0935458448639817,
          0.09298303212192283,
          0.09243141935343094,
          0.09189078367903203,
          0.09136090665455368,
          0.0908415741828624,
          0.09033257642735781,
          0.08983370772718774,
          0.08934476651415105,
          0.0888655552312538,
          0.08839588025288622,
          0.08793555180658816,
          0.08748438389637145,
          0.08704219422756798,
          0.08660880413317382,
          0.08618403850165793,
          0.08576772570620932,
          0.08535969753539015,
          0.08495978912517022,
          0.0845678388923137,
          0.08418368846909102,
          0.08380718263929046,
          0.08343816927550295,
          0.08307649927765481,
          0.08272202651276384,
          0.08237460775589421,
          0.08203410263228626,
          0.08170037356063814,
          0.08137328569751577,
          0.08105270688286961,
          0.08073850758663485,
          0.08043056085639516,
          0.08012874226608728,
          0.0798329298657265,
          0.07954300413213292,
          0.0792588479206378,
          0.0789803464177515,
          0.07870738709477262,
          0.078439859662321,
          0.07817765602577517,
          0.0779206702415966,
          0.07766879847452321,
          0.07742193895561456,
          0.07717999194113216,
          0.07694285967223802,
          0.07671044633549484,
          0.07648265802415283,
          0.07625940270020656,
          0.07604059015720684,
          0.0758261319838128,
          0.07561594152806925,
          0.07540993386239503,
          0.07520802574926773,
          0.07501013560759169,
          0.07481618347973495,
          0.0746260909992226,
          0.07443978135907243,
          0.07425717928076127,
          0.07407821098380847,
          0.07390280415596508,
          0.07373088792399571,
          0.07356239282504257,
          0.07339725077855855,
          0.07323539505879963,
          0.07307676026786387,
          0.07292128230926777,
          0.0727688983620477,
          0.07261954685537728,
          0.07247316744368966,
          0.07232970098229459,
          0.07218908950348131,
          0.07205127619309637,
          0.0719162053675881,
          0.0717838224515075,
          0.07165407395545687,
          0.07152690745447766,
          0.07140227156686788,
          0.07128011593342158,
          0.07116039119708088,
          0.07104304898299334,
          0.07092804187896615,
          0.07081532341630906,
          0.07070484805105887,
          0.07059657114557716,
          0.07049044895051455,
          0.07038643858713368,
          0.07028449802998409,
          0.07018458608992179,
          0.0700866623974667,
          0.06999068738649147,
          0.06989662227823466,
          0.06980442906563218,
          0.06971407049796044,
          0.06962551006578539,
          0.06953871198621067,
          0.06945364118841942,
          0.06937026329950423,
          0.06928854463057844,
          0.06920845216316432,
          0.06912995353585169,
          0.0690530170312226,
          0.06897761156303565,
          0.0689037066636656,
          0.06883127247179302,
          0.06876027972033871,
          0.06869069972463834,
          0.0686225043708524,
          0.06855566610460676,
          0.06849015791985949,
          0.06842595334798865,
          0.06836302644709802,
          0.06830135179153515,
          0.06824090446161794,
          0.0681816600335661,
          0.06812359456963253,
          0.0680666846084312,
          0.06801090715545777,
          0.06795623967379852,
          0.06790266007502432,
          0.06785014671026571,
          0.06779867836146578,
          0.06774823423280697,
          0.06769879394230849,
          0.06765033751359091,
          0.06760284536780481,
          0.06755629831571987,
          0.06751067754997139,
          0.06746596463746134,
          0.06742214151191021,
          0.06737919046655758,
          0.06733709414700742,
          0.06729583554421635,
          0.0672553979876208,
          0.06721576513840152,
          0.06717692098288172,
          0.06713884982605672,
          0.06710153628525256,
          0.06706496528391041,
          0.06702912204549495,
          0.06699399208752396,
          0.06695956121571658,
          0.06692581551825819,
          0.06689274136017923,
          0.06686032537784603,
          0.06682855447356124,
          0.06679741581027174,
          0.0667668968063817,
          0.06673698513066909,
          0.06670766869730312,
          0.06667893566096114,
          0.06665077441204238,
          0.06662317357197713,
          0.06659612198862913,
          0.06656960873178977,
          0.06654362308876154,
          0.06651815456002952,
          0.06649319285501933,
          0.0664687278879388,
          0.06644474977370318,
          0.06642124882394086,
          0.0663982155430788,
          0.06637564062450588,
          0.06635351494681256,
          0.06633182957010539,
          0.06631057573239466,
          0.06628974484605435,
          0.06626932849435226,
          0.066249318428049,
          0.0662297065620652,
          0.06621048497221448,
          0.06619164589200176,
          0.0661731817094853,
          0.06615508496420089,
          0.06613734834414765,
          0.06611996468283347,
          0.06610292695637945,
          0.06608622828068188,
          0.06606986190863066,
          0.06605382122738328,
          0.06603809975569272,
          0.06602269114128882,
          0.06600758915831152,
          0.06599278770479547,
          0.06597828080020443,
          0.06596406258301471,
          0.06595012730834711,
          0.06593646934564534,
          0.06592308317640137,
          0.06590996339192534,
          0.06589710469116042,
          0.06588450187854065,
          0.06587214986189208,
          0.06586004365037479,
          0.06584817835246669,
          0.06583654917398697,
          0.06582515141615898,
          0.0658139804737118,
          0.0658030318330193,
          0.06579230107027657,
          0.06578178384971244,
          0.06577147592183753,
          0.0657613731217273,
          0.0657514713673393,
          0.06574176665786365,
          0.06573225507210649,
          0.06572293276690595,
          0.0657137959755789,
          0.06570484100639923,
          0.06569606424110627,
          0.06568746213344259,
          0.06567903120772148,
          0.06567076805742218,
          0.06566266934381385,
          0.06565473179460632,
          0.065646952202628,
          0.06563932742453006,
          0.0656318543795163,
          0.06562453004809829,
          0.0656173514708755,
          0.06561031574733943,
          0.06560342003470174,
          0.06559666154674557,
          0.06559003755269967,
          0.06558354537613531,
          0.06557718239388458,
          0.06557094603498066,
          0.06556483377961891,
          0.06555884315813884,
          0.06555297175002625,
          0.06554721718293509,
          0.06554157713172905,
          0.065536049317542,
          0.0655306315068573,
          0.0655253215106052,
          0.06552011718327852,
          0.06551501642206563,
          0.06551001716600091,
          0.06550511739513185,
          0.06550031512970309,
          0.06549560842935637,
          0.06549099539234654,
          0.0654864741547732,
          0.06548204288982756,
          0.06547769980705438,
          0.06547344315162835,
          0.0654692712036453,
          0.06546518227742713,
          0.0654611747208407,
          0.06545724691463034,
          0.06545339727176357,
          0.06544962423678985,
          0.06544592628521209,
          0.06544230192287073,
          0.06543874968533997,
          0.06543526813733605,
          0.06543185587213746,
          0.06542851151101628,
          0.06542523370268141,
          0.06542202112273242,
          0.06541887247312438,
          0.06541578648164359,
          0.06541276190139325,
          0.0654097975102899,
          0.06540689211056949,
          0.06540404452830353,
          0.06540125361292465,
          0.06539851823676182
         ]
        }
       ],
       "layout": {
        "legend": {
         "tracegroupgap": 0
        },
        "template": {
         "data": {
          "bar": [
           {
            "error_x": {
             "color": "#2a3f5f"
            },
            "error_y": {
             "color": "#2a3f5f"
            },
            "marker": {
             "line": {
              "color": "#E5ECF6",
              "width": 0.5
             },
             "pattern": {
              "fillmode": "overlay",
              "size": 10,
              "solidity": 0.2
             }
            },
            "type": "bar"
           }
          ],
          "barpolar": [
           {
            "marker": {
             "line": {
              "color": "#E5ECF6",
              "width": 0.5
             },
             "pattern": {
              "fillmode": "overlay",
              "size": 10,
              "solidity": 0.2
             }
            },
            "type": "barpolar"
           }
          ],
          "carpet": [
           {
            "aaxis": {
             "endlinecolor": "#2a3f5f",
             "gridcolor": "white",
             "linecolor": "white",
             "minorgridcolor": "white",
             "startlinecolor": "#2a3f5f"
            },
            "baxis": {
             "endlinecolor": "#2a3f5f",
             "gridcolor": "white",
             "linecolor": "white",
             "minorgridcolor": "white",
             "startlinecolor": "#2a3f5f"
            },
            "type": "carpet"
           }
          ],
          "choropleth": [
           {
            "colorbar": {
             "outlinewidth": 0,
             "ticks": ""
            },
            "type": "choropleth"
           }
          ],
          "contour": [
           {
            "colorbar": {
             "outlinewidth": 0,
             "ticks": ""
            },
            "colorscale": [
             [
              0,
              "#0d0887"
             ],
             [
              0.1111111111111111,
              "#46039f"
             ],
             [
              0.2222222222222222,
              "#7201a8"
             ],
             [
              0.3333333333333333,
              "#9c179e"
             ],
             [
              0.4444444444444444,
              "#bd3786"
             ],
             [
              0.5555555555555556,
              "#d8576b"
             ],
             [
              0.6666666666666666,
              "#ed7953"
             ],
             [
              0.7777777777777778,
              "#fb9f3a"
             ],
             [
              0.8888888888888888,
              "#fdca26"
             ],
             [
              1,
              "#f0f921"
             ]
            ],
            "type": "contour"
           }
          ],
          "contourcarpet": [
           {
            "colorbar": {
             "outlinewidth": 0,
             "ticks": ""
            },
            "type": "contourcarpet"
           }
          ],
          "heatmap": [
           {
            "colorbar": {
             "outlinewidth": 0,
             "ticks": ""
            },
            "colorscale": [
             [
              0,
              "#0d0887"
             ],
             [
              0.1111111111111111,
              "#46039f"
             ],
             [
              0.2222222222222222,
              "#7201a8"
             ],
             [
              0.3333333333333333,
              "#9c179e"
             ],
             [
              0.4444444444444444,
              "#bd3786"
             ],
             [
              0.5555555555555556,
              "#d8576b"
             ],
             [
              0.6666666666666666,
              "#ed7953"
             ],
             [
              0.7777777777777778,
              "#fb9f3a"
             ],
             [
              0.8888888888888888,
              "#fdca26"
             ],
             [
              1,
              "#f0f921"
             ]
            ],
            "type": "heatmap"
           }
          ],
          "heatmapgl": [
           {
            "colorbar": {
             "outlinewidth": 0,
             "ticks": ""
            },
            "colorscale": [
             [
              0,
              "#0d0887"
             ],
             [
              0.1111111111111111,
              "#46039f"
             ],
             [
              0.2222222222222222,
              "#7201a8"
             ],
             [
              0.3333333333333333,
              "#9c179e"
             ],
             [
              0.4444444444444444,
              "#bd3786"
             ],
             [
              0.5555555555555556,
              "#d8576b"
             ],
             [
              0.6666666666666666,
              "#ed7953"
             ],
             [
              0.7777777777777778,
              "#fb9f3a"
             ],
             [
              0.8888888888888888,
              "#fdca26"
             ],
             [
              1,
              "#f0f921"
             ]
            ],
            "type": "heatmapgl"
           }
          ],
          "histogram": [
           {
            "marker": {
             "pattern": {
              "fillmode": "overlay",
              "size": 10,
              "solidity": 0.2
             }
            },
            "type": "histogram"
           }
          ],
          "histogram2d": [
           {
            "colorbar": {
             "outlinewidth": 0,
             "ticks": ""
            },
            "colorscale": [
             [
              0,
              "#0d0887"
             ],
             [
              0.1111111111111111,
              "#46039f"
             ],
             [
              0.2222222222222222,
              "#7201a8"
             ],
             [
              0.3333333333333333,
              "#9c179e"
             ],
             [
              0.4444444444444444,
              "#bd3786"
             ],
             [
              0.5555555555555556,
              "#d8576b"
             ],
             [
              0.6666666666666666,
              "#ed7953"
             ],
             [
              0.7777777777777778,
              "#fb9f3a"
             ],
             [
              0.8888888888888888,
              "#fdca26"
             ],
             [
              1,
              "#f0f921"
             ]
            ],
            "type": "histogram2d"
           }
          ],
          "histogram2dcontour": [
           {
            "colorbar": {
             "outlinewidth": 0,
             "ticks": ""
            },
            "colorscale": [
             [
              0,
              "#0d0887"
             ],
             [
              0.1111111111111111,
              "#46039f"
             ],
             [
              0.2222222222222222,
              "#7201a8"
             ],
             [
              0.3333333333333333,
              "#9c179e"
             ],
             [
              0.4444444444444444,
              "#bd3786"
             ],
             [
              0.5555555555555556,
              "#d8576b"
             ],
             [
              0.6666666666666666,
              "#ed7953"
             ],
             [
              0.7777777777777778,
              "#fb9f3a"
             ],
             [
              0.8888888888888888,
              "#fdca26"
             ],
             [
              1,
              "#f0f921"
             ]
            ],
            "type": "histogram2dcontour"
           }
          ],
          "mesh3d": [
           {
            "colorbar": {
             "outlinewidth": 0,
             "ticks": ""
            },
            "type": "mesh3d"
           }
          ],
          "parcoords": [
           {
            "line": {
             "colorbar": {
              "outlinewidth": 0,
              "ticks": ""
             }
            },
            "type": "parcoords"
           }
          ],
          "pie": [
           {
            "automargin": true,
            "type": "pie"
           }
          ],
          "scatter": [
           {
            "fillpattern": {
             "fillmode": "overlay",
             "size": 10,
             "solidity": 0.2
            },
            "type": "scatter"
           }
          ],
          "scatter3d": [
           {
            "line": {
             "colorbar": {
              "outlinewidth": 0,
              "ticks": ""
             }
            },
            "marker": {
             "colorbar": {
              "outlinewidth": 0,
              "ticks": ""
             }
            },
            "type": "scatter3d"
           }
          ],
          "scattercarpet": [
           {
            "marker": {
             "colorbar": {
              "outlinewidth": 0,
              "ticks": ""
             }
            },
            "type": "scattercarpet"
           }
          ],
          "scattergeo": [
           {
            "marker": {
             "colorbar": {
              "outlinewidth": 0,
              "ticks": ""
             }
            },
            "type": "scattergeo"
           }
          ],
          "scattergl": [
           {
            "marker": {
             "colorbar": {
              "outlinewidth": 0,
              "ticks": ""
             }
            },
            "type": "scattergl"
           }
          ],
          "scattermapbox": [
           {
            "marker": {
             "colorbar": {
              "outlinewidth": 0,
              "ticks": ""
             }
            },
            "type": "scattermapbox"
           }
          ],
          "scatterpolar": [
           {
            "marker": {
             "colorbar": {
              "outlinewidth": 0,
              "ticks": ""
             }
            },
            "type": "scatterpolar"
           }
          ],
          "scatterpolargl": [
           {
            "marker": {
             "colorbar": {
              "outlinewidth": 0,
              "ticks": ""
             }
            },
            "type": "scatterpolargl"
           }
          ],
          "scatterternary": [
           {
            "marker": {
             "colorbar": {
              "outlinewidth": 0,
              "ticks": ""
             }
            },
            "type": "scatterternary"
           }
          ],
          "surface": [
           {
            "colorbar": {
             "outlinewidth": 0,
             "ticks": ""
            },
            "colorscale": [
             [
              0,
              "#0d0887"
             ],
             [
              0.1111111111111111,
              "#46039f"
             ],
             [
              0.2222222222222222,
              "#7201a8"
             ],
             [
              0.3333333333333333,
              "#9c179e"
             ],
             [
              0.4444444444444444,
              "#bd3786"
             ],
             [
              0.5555555555555556,
              "#d8576b"
             ],
             [
              0.6666666666666666,
              "#ed7953"
             ],
             [
              0.7777777777777778,
              "#fb9f3a"
             ],
             [
              0.8888888888888888,
              "#fdca26"
             ],
             [
              1,
              "#f0f921"
             ]
            ],
            "type": "surface"
           }
          ],
          "table": [
           {
            "cells": {
             "fill": {
              "color": "#EBF0F8"
             },
             "line": {
              "color": "white"
             }
            },
            "header": {
             "fill": {
              "color": "#C8D4E3"
             },
             "line": {
              "color": "white"
             }
            },
            "type": "table"
           }
          ]
         },
         "layout": {
          "annotationdefaults": {
           "arrowcolor": "#2a3f5f",
           "arrowhead": 0,
           "arrowwidth": 1
          },
          "autotypenumbers": "strict",
          "coloraxis": {
           "colorbar": {
            "outlinewidth": 0,
            "ticks": ""
           }
          },
          "colorscale": {
           "diverging": [
            [
             0,
             "#8e0152"
            ],
            [
             0.1,
             "#c51b7d"
            ],
            [
             0.2,
             "#de77ae"
            ],
            [
             0.3,
             "#f1b6da"
            ],
            [
             0.4,
             "#fde0ef"
            ],
            [
             0.5,
             "#f7f7f7"
            ],
            [
             0.6,
             "#e6f5d0"
            ],
            [
             0.7,
             "#b8e186"
            ],
            [
             0.8,
             "#7fbc41"
            ],
            [
             0.9,
             "#4d9221"
            ],
            [
             1,
             "#276419"
            ]
           ],
           "sequential": [
            [
             0,
             "#0d0887"
            ],
            [
             0.1111111111111111,
             "#46039f"
            ],
            [
             0.2222222222222222,
             "#7201a8"
            ],
            [
             0.3333333333333333,
             "#9c179e"
            ],
            [
             0.4444444444444444,
             "#bd3786"
            ],
            [
             0.5555555555555556,
             "#d8576b"
            ],
            [
             0.6666666666666666,
             "#ed7953"
            ],
            [
             0.7777777777777778,
             "#fb9f3a"
            ],
            [
             0.8888888888888888,
             "#fdca26"
            ],
            [
             1,
             "#f0f921"
            ]
           ],
           "sequentialminus": [
            [
             0,
             "#0d0887"
            ],
            [
             0.1111111111111111,
             "#46039f"
            ],
            [
             0.2222222222222222,
             "#7201a8"
            ],
            [
             0.3333333333333333,
             "#9c179e"
            ],
            [
             0.4444444444444444,
             "#bd3786"
            ],
            [
             0.5555555555555556,
             "#d8576b"
            ],
            [
             0.6666666666666666,
             "#ed7953"
            ],
            [
             0.7777777777777778,
             "#fb9f3a"
            ],
            [
             0.8888888888888888,
             "#fdca26"
            ],
            [
             1,
             "#f0f921"
            ]
           ]
          },
          "colorway": [
           "#636efa",
           "#EF553B",
           "#00cc96",
           "#ab63fa",
           "#FFA15A",
           "#19d3f3",
           "#FF6692",
           "#B6E880",
           "#FF97FF",
           "#FECB52"
          ],
          "font": {
           "color": "#2a3f5f"
          },
          "geo": {
           "bgcolor": "white",
           "lakecolor": "white",
           "landcolor": "#E5ECF6",
           "showlakes": true,
           "showland": true,
           "subunitcolor": "white"
          },
          "hoverlabel": {
           "align": "left"
          },
          "hovermode": "closest",
          "mapbox": {
           "style": "light"
          },
          "paper_bgcolor": "white",
          "plot_bgcolor": "#E5ECF6",
          "polar": {
           "angularaxis": {
            "gridcolor": "white",
            "linecolor": "white",
            "ticks": ""
           },
           "bgcolor": "#E5ECF6",
           "radialaxis": {
            "gridcolor": "white",
            "linecolor": "white",
            "ticks": ""
           }
          },
          "scene": {
           "xaxis": {
            "backgroundcolor": "#E5ECF6",
            "gridcolor": "white",
            "gridwidth": 2,
            "linecolor": "white",
            "showbackground": true,
            "ticks": "",
            "zerolinecolor": "white"
           },
           "yaxis": {
            "backgroundcolor": "#E5ECF6",
            "gridcolor": "white",
            "gridwidth": 2,
            "linecolor": "white",
            "showbackground": true,
            "ticks": "",
            "zerolinecolor": "white"
           },
           "zaxis": {
            "backgroundcolor": "#E5ECF6",
            "gridcolor": "white",
            "gridwidth": 2,
            "linecolor": "white",
            "showbackground": true,
            "ticks": "",
            "zerolinecolor": "white"
           }
          },
          "shapedefaults": {
           "line": {
            "color": "#2a3f5f"
           }
          },
          "ternary": {
           "aaxis": {
            "gridcolor": "white",
            "linecolor": "white",
            "ticks": ""
           },
           "baxis": {
            "gridcolor": "white",
            "linecolor": "white",
            "ticks": ""
           },
           "bgcolor": "#E5ECF6",
           "caxis": {
            "gridcolor": "white",
            "linecolor": "white",
            "ticks": ""
           }
          },
          "title": {
           "x": 0.05
          },
          "xaxis": {
           "automargin": true,
           "gridcolor": "white",
           "linecolor": "white",
           "ticks": "",
           "title": {
            "standoff": 15
           },
           "zerolinecolor": "white",
           "zerolinewidth": 2
          },
          "yaxis": {
           "automargin": true,
           "gridcolor": "white",
           "linecolor": "white",
           "ticks": "",
           "title": {
            "standoff": 15
           },
           "zerolinecolor": "white",
           "zerolinewidth": 2
          }
         }
        },
        "title": {
         "text": "GD History : Marks are iterations."
        },
        "xaxis": {
         "anchor": "y",
         "domain": [
          0,
          1
         ],
         "title": {
          "text": "x"
         }
        },
        "yaxis": {
         "anchor": "x",
         "domain": [
          0,
          1
         ],
         "title": {
          "text": "y"
         }
        }
       }
      }
     },
     "metadata": {},
     "output_type": "display_data"
    }
   ],
   "source": [
    "import numpy as np\n",
    "import plotly.express as px\n",
    "import plotly.graph_objects as go\n",
    "\n",
    "\n",
    "x_train = np.arange(0.0, 1.0, 0.025)\n",
    "y_train = 0.4 + x_train * 0.55 + np.random.randn(x_train.shape[0])*0.2\n",
    "\n",
    "\n",
    "def gradient_of_J(theta, x, y):\n",
    "    # \n",
    "    y_hat = theta\n",
    "    \n",
    "    # dL / dy_hat\n",
    "    dLdy = (y_hat - y)\n",
    "    \n",
    "    # dy_hat / dTheta\n",
    "    dy_HatdTheta = 1\n",
    "    \n",
    "    # chain rule\n",
    "    dLdTheta = dLdy * dy_HatdTheta\n",
    "    \n",
    "    return dLdTheta\n",
    "\n",
    "\n",
    "def calculate_l2_loss_non_vectorized(theta, xs, ys):\n",
    "    loss = 0.0\n",
    "    for k in range(ys.shape[0]):\n",
    "        y_pred = theta \n",
    "        loss += (y_pred - ys[k])**2\n",
    "\n",
    "    \n",
    "    mean_loss = loss / ys.shape[0]\n",
    "    return mean_loss\n",
    "\n",
    "\n",
    "    \n",
    "\n",
    "initial_theta = 5.5\n",
    "\n",
    "learning_rate = 0.01\n",
    "theta = np.array([initial_theta])\n",
    "m = x_train.shape[0]\n",
    "n_steps = 600\n",
    "\n",
    "print(\"Running GD with initial theta: {:.2f}, learning rate: {} over {} datapoints for {} steps\".format(\n",
    "    theta.item(),\n",
    "    learning_rate,\n",
    "    m,\n",
    "    n_steps))\n",
    "\n",
    "\n",
    "\n",
    "search_history = []\n",
    "for steps in range(n_steps):    \n",
    "        \n",
    "    gradient_theta_sum = 0.0\n",
    "    for k in range(m):\n",
    "        gradient_theta_sum += gradient_of_J(theta, x_train[k], y_train[k]) \n",
    "\n",
    "    mean_gradient = (1/m) * gradient_theta_sum\n",
    "    loss = calculate_l2_loss_non_vectorized(theta, x_train, y_train)\n",
    "\n",
    "    print(\"[visit] theta: {:.2f} => loss: {:.2f}\".format(theta.item(), loss.item()))\n",
    "\n",
    "    # update theta using GD\n",
    "    theta = theta - (learning_rate * mean_gradient)\n",
    "    search_history.append((theta, loss))\n",
    "\n",
    "    \n",
    "\n",
    "\n",
    "# quick helper to generate plots \n",
    "loss_x = np.arange(-4, 6, 0.01)\n",
    "\n",
    "loss_y = np.array([calculate_l2_loss_non_vectorized(t, x_train, y_train) for t in loss_x])\n",
    "\n",
    "fig = px.line(x=loss_x, y=loss_y, title=\"GD History : Marks are iterations.\")\n",
    "\n",
    "\n",
    "x_visit, _ = list(zip(*search_history))\n",
    "x_visit = np.concatenate(x_visit)\n",
    "y_visit = np.array([calculate_l2_loss_non_vectorized(t, x_train, y_train) for t in x_visit])\n",
    "\n",
    "fig.add_trace(go.Scatter(x=x_visit, y=y_visit, name='GD history',\n",
    "                         line = dict(color='firebrick', width=8, dash='dot')))\n",
    "\n",
    "fig.show()"
   ]
  },
  {
   "cell_type": "markdown",
   "metadata": {},
   "source": [
    "## Task 4: Gradient Descent\n",
    "Below is a simple vectorized impl. of GD that *CAN* be used as a starting point. \n",
    "Please make sure you understand exactly HOW it works (so that you could have implemented one yourself).\n",
    "(Note that it uses a augmented matrix to skip the bias term).\n",
    "\n",
    "1) Change the code to handle the bias parameter directly. (No agumented matrix).\n",
    "2) Change the code to use Stochastic Gradient Descent with mini-batches. (Batch size should be 2 or more).\n",
    "3) Re-organize the code and add numba as to make the SGD go pew pew (faster). To make it easier for yourself - numba does not play nice with Jupyter, so consider running it in its own python file.\n",
    "4) *OPTIONAL* numba also supports GPU (https://numba.readthedocs.io/en/stable/cuda) implement GPU acceleration for SDG. (again: numba dont like notebooks)\n",
    "\n",
    "Numba: https://numba.readthedocs.io/en/stable/\n"
   ]
  },
  {
   "cell_type": "code",
   "execution_count": null,
   "metadata": {},
   "outputs": [
    {
     "name": "stdout",
     "output_type": "stream",
     "text": [
      "theta shape: (2, 1)\n",
      "The L2 error is: 0.03\n",
      "The L1 error is: 0.25\n",
      "R^2: 0.97\n"
     ]
    },
    {
     "data": {
      "application/vnd.plotly.v1+json": {
       "config": {
        "plotlyServerURL": "https://plot.ly"
       },
       "data": [
        {
         "hovertemplate": "variable=0<br>index=%{x}<br>value=%{y}<extra></extra>",
         "legendgroup": "0",
         "line": {
          "color": "#636efa",
          "dash": "solid"
         },
         "marker": {
          "symbol": "circle"
         },
         "mode": "lines",
         "name": "0",
         "orientation": "v",
         "showlegend": true,
         "type": "scatter",
         "x": [
          0,
          1,
          2,
          3,
          4,
          5,
          6,
          7,
          8,
          9,
          10
         ],
         "xaxis": "x",
         "y": [
          9.5,
          5.208055555555556,
          2.8578820408950616,
          1.570897705414362,
          0.866049970471271,
          0.4799465605568201,
          0.26837138080229783,
          0.15236122020337717,
          0.08868097272559344,
          0.053657849526073824,
          0.03433007825006184
         ],
         "yaxis": "y"
        }
       ],
       "layout": {
        "legend": {
         "title": {
          "text": "variable"
         },
         "tracegroupgap": 0
        },
        "template": {
         "data": {
          "bar": [
           {
            "error_x": {
             "color": "#2a3f5f"
            },
            "error_y": {
             "color": "#2a3f5f"
            },
            "marker": {
             "line": {
              "color": "#E5ECF6",
              "width": 0.5
             },
             "pattern": {
              "fillmode": "overlay",
              "size": 10,
              "solidity": 0.2
             }
            },
            "type": "bar"
           }
          ],
          "barpolar": [
           {
            "marker": {
             "line": {
              "color": "#E5ECF6",
              "width": 0.5
             },
             "pattern": {
              "fillmode": "overlay",
              "size": 10,
              "solidity": 0.2
             }
            },
            "type": "barpolar"
           }
          ],
          "carpet": [
           {
            "aaxis": {
             "endlinecolor": "#2a3f5f",
             "gridcolor": "white",
             "linecolor": "white",
             "minorgridcolor": "white",
             "startlinecolor": "#2a3f5f"
            },
            "baxis": {
             "endlinecolor": "#2a3f5f",
             "gridcolor": "white",
             "linecolor": "white",
             "minorgridcolor": "white",
             "startlinecolor": "#2a3f5f"
            },
            "type": "carpet"
           }
          ],
          "choropleth": [
           {
            "colorbar": {
             "outlinewidth": 0,
             "ticks": ""
            },
            "type": "choropleth"
           }
          ],
          "contour": [
           {
            "colorbar": {
             "outlinewidth": 0,
             "ticks": ""
            },
            "colorscale": [
             [
              0,
              "#0d0887"
             ],
             [
              0.1111111111111111,
              "#46039f"
             ],
             [
              0.2222222222222222,
              "#7201a8"
             ],
             [
              0.3333333333333333,
              "#9c179e"
             ],
             [
              0.4444444444444444,
              "#bd3786"
             ],
             [
              0.5555555555555556,
              "#d8576b"
             ],
             [
              0.6666666666666666,
              "#ed7953"
             ],
             [
              0.7777777777777778,
              "#fb9f3a"
             ],
             [
              0.8888888888888888,
              "#fdca26"
             ],
             [
              1,
              "#f0f921"
             ]
            ],
            "type": "contour"
           }
          ],
          "contourcarpet": [
           {
            "colorbar": {
             "outlinewidth": 0,
             "ticks": ""
            },
            "type": "contourcarpet"
           }
          ],
          "heatmap": [
           {
            "colorbar": {
             "outlinewidth": 0,
             "ticks": ""
            },
            "colorscale": [
             [
              0,
              "#0d0887"
             ],
             [
              0.1111111111111111,
              "#46039f"
             ],
             [
              0.2222222222222222,
              "#7201a8"
             ],
             [
              0.3333333333333333,
              "#9c179e"
             ],
             [
              0.4444444444444444,
              "#bd3786"
             ],
             [
              0.5555555555555556,
              "#d8576b"
             ],
             [
              0.6666666666666666,
              "#ed7953"
             ],
             [
              0.7777777777777778,
              "#fb9f3a"
             ],
             [
              0.8888888888888888,
              "#fdca26"
             ],
             [
              1,
              "#f0f921"
             ]
            ],
            "type": "heatmap"
           }
          ],
          "heatmapgl": [
           {
            "colorbar": {
             "outlinewidth": 0,
             "ticks": ""
            },
            "colorscale": [
             [
              0,
              "#0d0887"
             ],
             [
              0.1111111111111111,
              "#46039f"
             ],
             [
              0.2222222222222222,
              "#7201a8"
             ],
             [
              0.3333333333333333,
              "#9c179e"
             ],
             [
              0.4444444444444444,
              "#bd3786"
             ],
             [
              0.5555555555555556,
              "#d8576b"
             ],
             [
              0.6666666666666666,
              "#ed7953"
             ],
             [
              0.7777777777777778,
              "#fb9f3a"
             ],
             [
              0.8888888888888888,
              "#fdca26"
             ],
             [
              1,
              "#f0f921"
             ]
            ],
            "type": "heatmapgl"
           }
          ],
          "histogram": [
           {
            "marker": {
             "pattern": {
              "fillmode": "overlay",
              "size": 10,
              "solidity": 0.2
             }
            },
            "type": "histogram"
           }
          ],
          "histogram2d": [
           {
            "colorbar": {
             "outlinewidth": 0,
             "ticks": ""
            },
            "colorscale": [
             [
              0,
              "#0d0887"
             ],
             [
              0.1111111111111111,
              "#46039f"
             ],
             [
              0.2222222222222222,
              "#7201a8"
             ],
             [
              0.3333333333333333,
              "#9c179e"
             ],
             [
              0.4444444444444444,
              "#bd3786"
             ],
             [
              0.5555555555555556,
              "#d8576b"
             ],
             [
              0.6666666666666666,
              "#ed7953"
             ],
             [
              0.7777777777777778,
              "#fb9f3a"
             ],
             [
              0.8888888888888888,
              "#fdca26"
             ],
             [
              1,
              "#f0f921"
             ]
            ],
            "type": "histogram2d"
           }
          ],
          "histogram2dcontour": [
           {
            "colorbar": {
             "outlinewidth": 0,
             "ticks": ""
            },
            "colorscale": [
             [
              0,
              "#0d0887"
             ],
             [
              0.1111111111111111,
              "#46039f"
             ],
             [
              0.2222222222222222,
              "#7201a8"
             ],
             [
              0.3333333333333333,
              "#9c179e"
             ],
             [
              0.4444444444444444,
              "#bd3786"
             ],
             [
              0.5555555555555556,
              "#d8576b"
             ],
             [
              0.6666666666666666,
              "#ed7953"
             ],
             [
              0.7777777777777778,
              "#fb9f3a"
             ],
             [
              0.8888888888888888,
              "#fdca26"
             ],
             [
              1,
              "#f0f921"
             ]
            ],
            "type": "histogram2dcontour"
           }
          ],
          "mesh3d": [
           {
            "colorbar": {
             "outlinewidth": 0,
             "ticks": ""
            },
            "type": "mesh3d"
           }
          ],
          "parcoords": [
           {
            "line": {
             "colorbar": {
              "outlinewidth": 0,
              "ticks": ""
             }
            },
            "type": "parcoords"
           }
          ],
          "pie": [
           {
            "automargin": true,
            "type": "pie"
           }
          ],
          "scatter": [
           {
            "fillpattern": {
             "fillmode": "overlay",
             "size": 10,
             "solidity": 0.2
            },
            "type": "scatter"
           }
          ],
          "scatter3d": [
           {
            "line": {
             "colorbar": {
              "outlinewidth": 0,
              "ticks": ""
             }
            },
            "marker": {
             "colorbar": {
              "outlinewidth": 0,
              "ticks": ""
             }
            },
            "type": "scatter3d"
           }
          ],
          "scattercarpet": [
           {
            "marker": {
             "colorbar": {
              "outlinewidth": 0,
              "ticks": ""
             }
            },
            "type": "scattercarpet"
           }
          ],
          "scattergeo": [
           {
            "marker": {
             "colorbar": {
              "outlinewidth": 0,
              "ticks": ""
             }
            },
            "type": "scattergeo"
           }
          ],
          "scattergl": [
           {
            "marker": {
             "colorbar": {
              "outlinewidth": 0,
              "ticks": ""
             }
            },
            "type": "scattergl"
           }
          ],
          "scattermapbox": [
           {
            "marker": {
             "colorbar": {
              "outlinewidth": 0,
              "ticks": ""
             }
            },
            "type": "scattermapbox"
           }
          ],
          "scatterpolar": [
           {
            "marker": {
             "colorbar": {
              "outlinewidth": 0,
              "ticks": ""
             }
            },
            "type": "scatterpolar"
           }
          ],
          "scatterpolargl": [
           {
            "marker": {
             "colorbar": {
              "outlinewidth": 0,
              "ticks": ""
             }
            },
            "type": "scatterpolargl"
           }
          ],
          "scatterternary": [
           {
            "marker": {
             "colorbar": {
              "outlinewidth": 0,
              "ticks": ""
             }
            },
            "type": "scatterternary"
           }
          ],
          "surface": [
           {
            "colorbar": {
             "outlinewidth": 0,
             "ticks": ""
            },
            "colorscale": [
             [
              0,
              "#0d0887"
             ],
             [
              0.1111111111111111,
              "#46039f"
             ],
             [
              0.2222222222222222,
              "#7201a8"
             ],
             [
              0.3333333333333333,
              "#9c179e"
             ],
             [
              0.4444444444444444,
              "#bd3786"
             ],
             [
              0.5555555555555556,
              "#d8576b"
             ],
             [
              0.6666666666666666,
              "#ed7953"
             ],
             [
              0.7777777777777778,
              "#fb9f3a"
             ],
             [
              0.8888888888888888,
              "#fdca26"
             ],
             [
              1,
              "#f0f921"
             ]
            ],
            "type": "surface"
           }
          ],
          "table": [
           {
            "cells": {
             "fill": {
              "color": "#EBF0F8"
             },
             "line": {
              "color": "white"
             }
            },
            "header": {
             "fill": {
              "color": "#C8D4E3"
             },
             "line": {
              "color": "white"
             }
            },
            "type": "table"
           }
          ]
         },
         "layout": {
          "annotationdefaults": {
           "arrowcolor": "#2a3f5f",
           "arrowhead": 0,
           "arrowwidth": 1
          },
          "autotypenumbers": "strict",
          "coloraxis": {
           "colorbar": {
            "outlinewidth": 0,
            "ticks": ""
           }
          },
          "colorscale": {
           "diverging": [
            [
             0,
             "#8e0152"
            ],
            [
             0.1,
             "#c51b7d"
            ],
            [
             0.2,
             "#de77ae"
            ],
            [
             0.3,
             "#f1b6da"
            ],
            [
             0.4,
             "#fde0ef"
            ],
            [
             0.5,
             "#f7f7f7"
            ],
            [
             0.6,
             "#e6f5d0"
            ],
            [
             0.7,
             "#b8e186"
            ],
            [
             0.8,
             "#7fbc41"
            ],
            [
             0.9,
             "#4d9221"
            ],
            [
             1,
             "#276419"
            ]
           ],
           "sequential": [
            [
             0,
             "#0d0887"
            ],
            [
             0.1111111111111111,
             "#46039f"
            ],
            [
             0.2222222222222222,
             "#7201a8"
            ],
            [
             0.3333333333333333,
             "#9c179e"
            ],
            [
             0.4444444444444444,
             "#bd3786"
            ],
            [
             0.5555555555555556,
             "#d8576b"
            ],
            [
             0.6666666666666666,
             "#ed7953"
            ],
            [
             0.7777777777777778,
             "#fb9f3a"
            ],
            [
             0.8888888888888888,
             "#fdca26"
            ],
            [
             1,
             "#f0f921"
            ]
           ],
           "sequentialminus": [
            [
             0,
             "#0d0887"
            ],
            [
             0.1111111111111111,
             "#46039f"
            ],
            [
             0.2222222222222222,
             "#7201a8"
            ],
            [
             0.3333333333333333,
             "#9c179e"
            ],
            [
             0.4444444444444444,
             "#bd3786"
            ],
            [
             0.5555555555555556,
             "#d8576b"
            ],
            [
             0.6666666666666666,
             "#ed7953"
            ],
            [
             0.7777777777777778,
             "#fb9f3a"
            ],
            [
             0.8888888888888888,
             "#fdca26"
            ],
            [
             1,
             "#f0f921"
            ]
           ]
          },
          "colorway": [
           "#636efa",
           "#EF553B",
           "#00cc96",
           "#ab63fa",
           "#FFA15A",
           "#19d3f3",
           "#FF6692",
           "#B6E880",
           "#FF97FF",
           "#FECB52"
          ],
          "font": {
           "color": "#2a3f5f"
          },
          "geo": {
           "bgcolor": "white",
           "lakecolor": "white",
           "landcolor": "#E5ECF6",
           "showlakes": true,
           "showland": true,
           "subunitcolor": "white"
          },
          "hoverlabel": {
           "align": "left"
          },
          "hovermode": "closest",
          "mapbox": {
           "style": "light"
          },
          "paper_bgcolor": "white",
          "plot_bgcolor": "#E5ECF6",
          "polar": {
           "angularaxis": {
            "gridcolor": "white",
            "linecolor": "white",
            "ticks": ""
           },
           "bgcolor": "#E5ECF6",
           "radialaxis": {
            "gridcolor": "white",
            "linecolor": "white",
            "ticks": ""
           }
          },
          "scene": {
           "xaxis": {
            "backgroundcolor": "#E5ECF6",
            "gridcolor": "white",
            "gridwidth": 2,
            "linecolor": "white",
            "showbackground": true,
            "ticks": "",
            "zerolinecolor": "white"
           },
           "yaxis": {
            "backgroundcolor": "#E5ECF6",
            "gridcolor": "white",
            "gridwidth": 2,
            "linecolor": "white",
            "showbackground": true,
            "ticks": "",
            "zerolinecolor": "white"
           },
           "zaxis": {
            "backgroundcolor": "#E5ECF6",
            "gridcolor": "white",
            "gridwidth": 2,
            "linecolor": "white",
            "showbackground": true,
            "ticks": "",
            "zerolinecolor": "white"
           }
          },
          "shapedefaults": {
           "line": {
            "color": "#2a3f5f"
           }
          },
          "ternary": {
           "aaxis": {
            "gridcolor": "white",
            "linecolor": "white",
            "ticks": ""
           },
           "baxis": {
            "gridcolor": "white",
            "linecolor": "white",
            "ticks": ""
           },
           "bgcolor": "#E5ECF6",
           "caxis": {
            "gridcolor": "white",
            "linecolor": "white",
            "ticks": ""
           }
          },
          "title": {
           "x": 0.05
          },
          "xaxis": {
           "automargin": true,
           "gridcolor": "white",
           "linecolor": "white",
           "ticks": "",
           "title": {
            "standoff": 15
           },
           "zerolinecolor": "white",
           "zerolinewidth": 2
          },
          "yaxis": {
           "automargin": true,
           "gridcolor": "white",
           "linecolor": "white",
           "ticks": "",
           "title": {
            "standoff": 15
           },
           "zerolinecolor": "white",
           "zerolinewidth": 2
          }
         }
        },
        "title": {
         "text": "J(theta) - Loss History"
        },
        "xaxis": {
         "anchor": "y",
         "domain": [
          0,
          1
         ],
         "title": {
          "text": "index"
         }
        },
        "yaxis": {
         "anchor": "x",
         "domain": [
          0,
          1
         ],
         "title": {
          "text": "value"
         }
        }
       }
      }
     },
     "metadata": {},
     "output_type": "display_data"
    }
   ],
   "source": [
    "import numpy as np\n",
    "import plotly.express as px\n",
    "\n",
    "def predict(theta, xs): \n",
    "    return np.dot(xs, theta)\n",
    "\n",
    "def J_squared_residual(theta, xs, y):\n",
    "    h = predict(theta, xs)\n",
    "    sr = ((h - y)**2).sum()    \n",
    "    return sr\n",
    "\n",
    "def gradient_J_squared_residual(theta, xs, y):\n",
    "    h = predict(theta, xs) \n",
    "    grad = np.dot(xs.transpose(), (h - y)) \n",
    "    return grad\n",
    "\n",
    "\n",
    "# the dataset (already augmented so that we get a intercept coef)\n",
    "# remember: augmented x -> we add a colum of 1's instead of using a bias term.\n",
    "data_x = np.array([[1.0, 0.5], [1.0, 1.0], [1.0, 2.0]])\n",
    "data_y = np.array([[1.0], [1.5], [2.5]])\n",
    "n_features = data_x.shape[1]\n",
    "\n",
    "# variables we need \n",
    "theta = np.zeros((n_features, 1))\n",
    "learning_rate = 0.1\n",
    "m = data_x.shape[0]\n",
    "\n",
    "# run GD\n",
    "j_history = []\n",
    "n_iters = 10\n",
    "for it in range(n_iters):\n",
    "    j = J_squared_residual(theta, data_x, data_y)\n",
    "    j_history.append(j)\n",
    "    \n",
    "    theta = theta - (learning_rate * (1/m) * gradient_J_squared_residual(theta, data_x, data_y))\n",
    "    \n",
    "print(\"theta shape:\", theta.shape)\n",
    "\n",
    "# append the final result.\n",
    "j = J_squared_residual(theta, data_x, data_y)\n",
    "j_history.append(j)\n",
    "print(\"The L2 error is: {:.2f}\".format(j))\n",
    "\n",
    "\n",
    "# find the L1 error.\n",
    "y_pred = predict(theta, data_x)\n",
    "l1_error = np.abs(y_pred - data_y).sum()\n",
    "print(\"The L1 error is: {:.2f}\".format(l1_error))\n",
    "\n",
    "\n",
    "# Find the R^2 \n",
    "# if the data is normalized: use the normalized data not the original data (task 3 hint).\n",
    "# https://en.wikipedia.org/wiki/Coefficient_of_determination\n",
    "u = ((data_y - y_pred)**2).sum()\n",
    "v = ((data_y - data_y.mean())** 2).sum()\n",
    "print(\"R^2: {:.2f}\".format(1 - (u/v)))\n",
    "\n",
    "\n",
    "# plot the result\n",
    "fig = px.line(j_history, title=\"J(theta) - Loss History\")\n",
    "fig.show()\n"
   ]
  },
  {
   "cell_type": "markdown",
   "metadata": {},
   "source": [
    "# KKD Real Estate\n",
    "\n",
    "### Note: no pandas, sklearn or similar libraries should be used, numpy, dash, numba and plotly should be sufficient. Ask if you wonder about a library.\n",
    "### Implementing your own SGD/GD is a core component of this task.\n",
    "\n",
    "The project consists of 5 parts: \n",
    "\n",
    "1) \n",
    "Go though the data and understand how encode the various features. \n",
    "* Clean the data for potential noise and simply wrong input.\n",
    "* Make sure you identify how a linear classifier will be affected by the encoding scheme. \n",
    "* How do you handle missing data?\n",
    "* How are the different features connected?\n",
    "* Encode the features.\n",
    "\n",
    "2) \n",
    "Identify objectives that could be valuable for KKD Real Estate, the objectives comes in two flavors:\n",
    "* Answering questions, such as: What is a fair price for our ad packages? How is our best agent?\n",
    "* Creating dashboards/interfaces that for instance: can predict the marked price for a house or maybe tell \n",
    "the probability of the house being sold in X amount of days?\n",
    "* To pass the handin you at least need to implement a price model. \n",
    "\n",
    "3) \n",
    "Train one/many linear model(s) based on the data to solve the objectives.\n",
    "\n",
    "4) \n",
    "Implement the dashboard interface such that we can input the nessesary parameters.\n",
    "(See 'kkd_dashboard.py' on canvas for a potential starting point for the dashboard.)  \n",
    "This interface should be powered by your models.\n",
    "\n",
    "5) \n",
    "A client wants to know how the price model works, my inspecting the weights (that is: $\\theta$) give a \n",
    "overview of the most important factors in the model. What are *key-drives* in the model?\n",
    "\n",
    "\n",
    "### Deliverables\n",
    "A presentation of the findings, a short written log of the work (bullet points / jupyter), a dashboard, and all code that you have.\n",
    "\n",
    "\n",
    "### Dataset\n",
    "* agents.jsonl - the real estate agents.\n",
    "* districts.jsonl - the city districts\n",
    "* houses.jsonl - the houses that has been on the marked the last year\n",
    "* schools.jsonl - info about the schools in the districts\n",
    "\n",
    "\n"
   ]
  }
 ],
 "metadata": {
  "kernelspec": {
   "display_name": "base",
   "language": "python",
   "name": "python3"
  },
  "language_info": {
   "codemirror_mode": {
    "name": "ipython",
    "version": 3
   },
   "file_extension": ".py",
   "mimetype": "text/x-python",
   "name": "python",
   "nbconvert_exporter": "python",
   "pygments_lexer": "ipython3",
   "version": "3.13.5"
  }
 },
 "nbformat": 4,
 "nbformat_minor": 4
}
