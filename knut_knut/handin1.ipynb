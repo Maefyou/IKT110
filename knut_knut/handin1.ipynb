{
 "cells": [
  {
   "cell_type": "markdown",
   "metadata": {},
   "source": [
    "### Handin 1\n",
    "\n",
    "\n",
    "# Info\n",
    "\n",
    "Everything should be completed and approved in person. Groups are fine.\n",
    "\n",
    "The objectives for this handin is:\n",
    "* Playing with numpy.\n",
    "* Plotting with Plotly (as a preparation for using dash (https://plotly.com/dash/) later on)\n",
    "* Train a more complex model using the Fortuna Algorithm.\n",
    "* Route planning for Knut Knut Transport AS. \n",
    "\n",
    "## How to solve?\n",
    "There should be a comment/section stating the objective of a task.  \n",
    "And there should be a commented section labeled # -- CODE --  \n",
    "that shows where to put your code. For tasks that are not answered by code you can either write the answer  \n",
    "as a markup cell or write it on a seperate piece of paper."
   ]
  },
  {
   "cell_type": "code",
   "execution_count": null,
   "metadata": {},
   "outputs": [],
   "source": [
    "import numpy as np\n",
    "\n",
    "\n",
    "# TASK: Create a numpy array containing the whole numbers between 1, 10 (inclusive)\n",
    "\n",
    "# -- CODE --\n",
    "# a = ?\n",
    "\n",
    "\n",
    "assert isinstance(a, np.ndarray)\n",
    "assert np.isclose(a, [1,2,3,4,5,6,7,8,9,10]).all()\n",
    "print(\"<ok>\")"
   ]
  },
  {
   "cell_type": "code",
   "execution_count": null,
   "metadata": {},
   "outputs": [],
   "source": [
    "# TASK: Reshape the array a so that it is a 2 by 4 array\n",
    "\n",
    "a = np.array(range(0, 8))\n",
    "\n",
    "# -- CODE --\n",
    "# a = ?\n",
    "\n",
    "assert( a.shape == (2,4) )\n",
    "print(\"<ok>\")"
   ]
  },
  {
   "cell_type": "code",
   "execution_count": null,
   "metadata": {},
   "outputs": [],
   "source": [
    "# TASK: multiply all the numbers in a by 2.\n",
    "\n",
    "\n",
    "a = np.array([[1,2,3,4], [5,6,7,8]])\n",
    "\n",
    "# -- CODE --\n",
    "\n",
    "\n",
    "assert a.shape == (2,4)\n",
    "assert a.sum() == 72\n",
    "print(\"<ok>\")"
   ]
  },
  {
   "cell_type": "code",
   "execution_count": null,
   "metadata": {},
   "outputs": [],
   "source": [
    "# TASK:  create a numpy array b that contains the sum of each row (axis 1) in a \n",
    "\n",
    "a = np.array([[1,2,3,4], [5,6,7,8]])\n",
    "\n",
    "# -- CODE --\n",
    "# b = ?\n",
    "\n",
    "assert b.shape == (2,)\n",
    "assert (b == [10, 26]).all()\n",
    "print(\"<ok>\")"
   ]
  },
  {
   "cell_type": "code",
   "execution_count": null,
   "metadata": {},
   "outputs": [],
   "source": [
    "# TASK:  create a numpy array b that contains the mean value of each column (axis 0) in a \n",
    "a = np.array([[1,2,3,4], [1,2,3,8]])\n",
    "\n",
    "# -- CODE --\n",
    "# b = ?\n",
    "\n",
    "assert b.shape == (4,)\n",
    "assert (b == [1, 2, 3, 6]).all()\n",
    "print(\"<ok>\")"
   ]
  },
  {
   "cell_type": "code",
   "execution_count": null,
   "metadata": {},
   "outputs": [],
   "source": [
    "# TASK:  stack the arrays a, b and c into an array called s (vertically)\n",
    "# s should be equal to s_true (hint, look at the numpy function vstack )\n",
    "\n",
    "\n",
    "a = np.array([1, 3])\n",
    "b = np.array([2, 4])\n",
    "c = np.array([3, 5])\n",
    "\n",
    "# -- CODE --\n",
    "# s = ?\n",
    "\n",
    "s_true = np.array([[1, 3], [2, 4], [3, 5]])\n",
    "assert (s_true == s).all()\n",
    "\n",
    "print(\"<ok>\")"
   ]
  },
  {
   "cell_type": "code",
   "execution_count": null,
   "metadata": {},
   "outputs": [],
   "source": [
    "# TASK:  Flatten the array a into a 1d array called f (hint: numpy has a function named flatten)\n",
    "\n",
    "a = np.random.randn(2,2,2)\n",
    "print(a)\n",
    "\n",
    "# -- CODE --\n",
    "# f = ?\n",
    "\n",
    "print(\"-\"*50)\n",
    "print(f)\n",
    "assert f.ndim == 1\n",
    "print(\"<ok>\")"
   ]
  },
  {
   "cell_type": "markdown",
   "metadata": {},
   "source": [
    "## Task 1 -- Plot functions and scatter plots using Plotly \n",
    "\n",
    "Change the code to perform the two following tasks:\n",
    "\n",
    "(See Plotly: https://plotly.com/python/plotly-express/ for more info.)\n",
    "\n",
    "**Line Plot)**\n",
    "\n",
    "Plot the function f(x) = -0.69x^2 + 1.3x + 0.42 over the interval [0, 2.5], with 0.01 increments in x.\n",
    "\n",
    "**Scatter Plot)**  \n",
    "\n",
    "Plot the first 25 Fibbonachi numbers using a scatter plot.\n",
    "(The example shows the first 5).\n",
    "\n",
    "\n"
   ]
  },
  {
   "cell_type": "code",
   "execution_count": null,
   "metadata": {},
   "outputs": [],
   "source": [
    "# installs plotly\n",
    "!pip install plotly\n",
    "!pip install \"jupyterlab>=3\" \"ipywidgets>=7.6\"\n",
    "\n",
    "print(\"You may have to restart jupyter to see graphs in the notebook.\")"
   ]
  },
  {
   "cell_type": "code",
   "execution_count": null,
   "metadata": {},
   "outputs": [],
   "source": [
    "import numpy as np\n",
    "import plotly.express as px\n",
    "\n",
    "\n",
    "# Change this code into the correct Line Plot\n",
    "\n",
    "xs = np.array([1, 1.5, 2, 2.5, 6.0])\n",
    "ys = np.array([1, 2, 3, 3.1, 2.5])\n",
    "\n",
    "\n",
    "fig = px.line(x=xs, y=ys, title=\"Line Plot\")\n",
    "fig.update_layout(xaxis_range=[0,8], yaxis_range=[0,4])\n",
    "fig.show()"
   ]
  },
  {
   "cell_type": "code",
   "execution_count": null,
   "metadata": {},
   "outputs": [],
   "source": [
    "# Change this code into the correct Scatter Plot (please take care of the axis)\n",
    "\n",
    "xs = np.array([1, 2, 3, 4, 5])\n",
    "ys = np.array([1, 1, 2, 3, 5])\n",
    "\n",
    "\n",
    "fig = px.scatter(x=xs, y=ys, title=\"Fibbonachi Scatter Plot\")\n",
    "fig.update_layout(xaxis_range=[0,6], yaxis_range=[0,10])\n",
    "fig.show()"
   ]
  },
  {
   "cell_type": "markdown",
   "metadata": {},
   "source": [
    "# Task 2 -- Numpy and curve fitting\n",
    "\n",
    "Fill in the function get_2polynomal_from_3_points(). You are required to use the  \n",
    "function: np.linalg.solve() for the actual computation, i.e. the task is mainly   \n",
    "about shaping the input so it fits the np.linalg.solve() function. Note: dont use polyfit().\n",
    "\n",
    "The function should return a 1d numpy array, with shape = (3,) in the format a, b,c.  \n",
    "Such that ax^2 + bx + c = y, goes through the points p0, p1, p2\n",
    "\n",
    "HINT: How should a matrix equation be formed, so solving it gives us the coefficients for a polynomial?\n",
    "\n",
    "Limitations:\n",
    "* There should be NO loops or ifs! (for/while/if). \n",
    "* Numpy functions that might come handy: reshape, hstack, flatten, ones\n",
    "\n"
   ]
  },
  {
   "cell_type": "code",
   "execution_count": null,
   "metadata": {},
   "outputs": [],
   "source": [
    "import numpy as np\n",
    "\n",
    "def get_2polynomal_from_3_points(p0: np.array, p1: np.array, p2: np.array) -> np.array:\n",
    "    # -- CODE --\n",
    "    \n",
    "\n",
    "point0 = np.array([0.147, 0.596])\n",
    "point1 = np.array([0.7, 0.992])\n",
    "point2 = np.array([2.06, 0.17])\n",
    "\n",
    "polynomial_coefficients = get_2polynomal_from_3_points(point0, point1, point2)\n",
    "assert(polynomial_coefficients.shape[0] == 3 and polynomial_coefficients.ndim == 1)\n",
    "\n",
    "print(\"Polynomial: {:2f}x^2 + {:.2f}x + {:.2f}\".format(*polynomial_coefficients))\n",
    "\n",
    "\n",
    "if not np.isclose(polynomial_coefficients[0], -0.69, atol=0.01):\n",
    "    print(\"x^2 coeff is wrong (a), should be close to -0.69\")\n",
    "    \n",
    "if not np.isclose(polynomial_coefficients[1], 1.3, atol=0.01):\n",
    "    print(\"x coeff is wrong (b), should be close to 1.3\")\n",
    "    \n",
    "if not np.isclose(polynomial_coefficients[2], 0.42, atol=0.01):\n",
    "    print(\"Constant factor (c) is wrong, should be close to 0.42\")\n",
    "    \n",
    "if np.isclose(polynomial_coefficients, [-0.69, 1.3, 0.42], atol=0.01).all():\n",
    "    print(\"Correct polynomial found.\")"
   ]
  },
  {
   "cell_type": "markdown",
   "metadata": {},
   "source": [
    "# Task 3 -- Simple random search\n",
    "\n",
    "Find the triplet $a,b,c \\in \\{x \\;|\\; x \\in \\mathbb{Z} \\text{ and } 450 > x > 0 \\}$ \n",
    "\n",
    "Using a random search in the parameter space. Such that the following relations is satisfied: \n",
    "\n",
    "### a\n",
    "$a = \\begin{cases} c+11, & \\text{if } b\\text{ is even} \\\\ 2c-129, & \\text{if } b\\text{ is odd} \\end{cases}$\n",
    "\n",
    "### b\n",
    "$b = (a \\times c) \\mod 2377$\n",
    "\n",
    "### c\n",
    "$c = \\left( \\sum\\limits_{k=0}^{a-1} b - 7k \\right) + 142$\n",
    "\n",
    "**Also how many guesses were needed?**\n",
    "\n",
    "Note that in math notation $\\sum\\limits_{k=1}^{5}k = 1+2+3+4+5$ \n",
    "\n",
    "Hint (to check if you got the right answer): The product $abc$ should be 255450 $\\pm$ 20 \n",
    "    \n",
    "Can you find any optimizations besides multi-thread/multi-process?"
   ]
  },
  {
   "cell_type": "markdown",
   "metadata": {},
   "source": [
    "# Task 4 -- Revisit the Fortuna Algorithm\n",
    "\n",
    "Below is a implementation of Fortuna that uses fits linear function $f_{\\theta} = a x + b$ where $\\theta = \\{a,b\\}$ to a function $g(x)$.  \n",
    "However, as is evidently from the graph, $g(x)$ is not a linear function.  \n",
    "\n",
    "1) Change the code to instead use $f_{\\theta}(x) = \\sum\\limits_{k=1}^{3} \\Psi_k \\sin(\\gamma_k (x + \\omega_k)) $.  \n",
    "  Such that $|\\theta| = 9$, where each parameter $c$ in $\\theta$ is in $[-4. 4]$.  \n",
    "That is, $f_{\\theta}(x)$ is a sum of three sin terms. **Do not change the range of the sample\\_theta function.**\n",
    "\n",
    "3) However, it seems Fortuna (on average) struggles to find the optimal parameters $\\theta$.  \n",
    "Therefore you will have to innovate and change the Fortuna algorithm so that it faster finds \"better solutions\".\n",
    "What changes did you make and **why** did you make them, and how did you measure how efficient these changes were?  \n",
    "A excellent solution here will have an expected best loss of less than 5 using 100000 guesses. (take the average over 100 runs).\n",
    "**But ANY improvment is sufficient to pass!**  \n",
    "\n",
    "4) Using your newly made modified Fortuna Algorithm optimize the function: $h(x) = \\mu - (\\zeta sin(\\kappa x) )  (\\tau (x + \\lambda))$ .  \n",
    "The y values for this function can be found in the numpy array ys_h_1 (in the code below).  \n",
    "Also test the values for ys_h_2. (the x is the same for all functions).\n",
    "\n",
    "Does your new and improved Fortuna outperform the regular fortuna on this function as well? Why?   \n",
    "**Remember to change your model to match $h(x)$**\n",
    "\n",
    "\n",
    "4) [**Optional**] Develop a multiprocces implemention of the Fortuna algorithm using python's multiprocessing library (https://docs.python.org/3/library/multiprocessing.html).  \n",
    "How are the speed ups? Are Fortuna really suited to parallel execution?\n",
    "\n",
    "\n"
   ]
  },
  {
   "cell_type": "code",
   "execution_count": null,
   "metadata": {},
   "outputs": [
    {
     "name": "stderr",
     "output_type": "stream",
     "text": [
      "100%|██████████| 100000/100000 [00:01<00:00, 52163.29it/s]\n"
     ]
    },
    {
     "name": "stdout",
     "output_type": "stream",
     "text": [
      "best loss: 494.9429241422411\n",
      "theta: [-0.86976485  3.98022404]\n"
     ]
    },
    {
     "data": {
      "application/vnd.plotly.v1+json": {
       "config": {
        "plotlyServerURL": "https://plot.ly"
       },
       "data": [
        {
         "hovertemplate": "x=%{x}<br>y=%{y}<extra></extra>",
         "legendgroup": "",
         "line": {
          "color": "#636efa",
          "dash": "solid"
         },
         "marker": {
          "symbol": "circle"
         },
         "mode": "lines",
         "name": "",
         "orientation": "v",
         "showlegend": false,
         "type": "scatter",
         "x": [
          1,
          1.1,
          1.2,
          1.3,
          1.4,
          1.5,
          1.6,
          1.7,
          1.8,
          1.9,
          2,
          2.1,
          2.2,
          2.3,
          2.4,
          2.5,
          2.6,
          2.7,
          2.8,
          2.9,
          3,
          3.1,
          3.2,
          3.3,
          3.4,
          3.5,
          3.6,
          3.7,
          3.8,
          3.9,
          4,
          4.1,
          4.2,
          4.3,
          4.4,
          4.5,
          4.6,
          4.7,
          4.8,
          4.9,
          5,
          5.1,
          5.2,
          5.3,
          5.4,
          5.5,
          5.6,
          5.7,
          5.8,
          5.9,
          6,
          6.1,
          6.2,
          6.3,
          6.4,
          6.5,
          6.6,
          6.7,
          6.8,
          6.9,
          7,
          7.1,
          7.2,
          7.3,
          7.4
         ],
         "xaxis": "x",
         "y": [
          4.03,
          4.19,
          4.26,
          4.25,
          4.17,
          4.03,
          3.85,
          3.63,
          3.4,
          3.16,
          2.93,
          2.72,
          2.53,
          2.39,
          2.28,
          2.21,
          2.18,
          2.19,
          2.22,
          2.27,
          2.33,
          2.39,
          2.44,
          2.45,
          2.43,
          2.36,
          2.22,
          2.02,
          1.75,
          1.41,
          1,
          0.52,
          -0.01,
          -0.6,
          -1.22,
          -1.86,
          -2.5,
          -3.13,
          -3.72,
          -4.27,
          -4.75,
          -5.15,
          -5.45,
          -5.65,
          -5.74,
          -5.7,
          -5.55,
          -5.29,
          -4.92,
          -4.44,
          -3.89,
          -3.26,
          -2.58,
          -1.86,
          -1.12,
          -0.39,
          0.32,
          0.98,
          1.6,
          2.14,
          2.61,
          2.99,
          3.28,
          3.47,
          3.57
         ],
         "yaxis": "y"
        },
        {
         "mode": "lines",
         "name": "y_hat",
         "type": "scatter",
         "x": [
          1,
          1.1,
          1.2,
          1.3,
          1.4,
          1.5,
          1.6,
          1.7,
          1.8,
          1.9,
          2,
          2.1,
          2.2,
          2.3,
          2.4,
          2.5,
          2.6,
          2.7,
          2.8,
          2.9,
          3,
          3.1,
          3.2,
          3.3,
          3.4,
          3.5,
          3.6,
          3.7,
          3.8,
          3.9,
          4,
          4.1,
          4.2,
          4.3,
          4.4,
          4.5,
          4.6,
          4.7,
          4.8,
          4.9,
          5,
          5.1,
          5.2,
          5.3,
          5.4,
          5.5,
          5.6,
          5.7,
          5.8,
          5.9,
          6,
          6.1,
          6.2,
          6.3,
          6.4,
          6.5,
          6.6,
          6.7,
          6.8,
          6.9,
          7,
          7.1,
          7.2,
          7.3,
          7.4
         ],
         "y": [
          3.110459188922552,
          3.023482703664917,
          2.936506218407282,
          2.8495297331496463,
          2.7625532478920114,
          2.6755767626343765,
          2.5886002773767416,
          2.5016237921191067,
          2.414647306861471,
          2.327670821603836,
          2.240694336346201,
          2.153717851088566,
          2.066741365830931,
          1.979764880573296,
          1.892788395315661,
          1.8058119100580257,
          1.7188354248003903,
          1.6318589395427554,
          1.5448824542851205,
          1.4579059690274856,
          1.3709294837698502,
          1.283952998512215,
          1.19697651325458,
          1.110000027996945,
          1.0230235427393102,
          0.9360470574816748,
          0.8490705722240395,
          0.7620940869664046,
          0.6751176017087697,
          0.5881411164511348,
          0.5011646311934994,
          0.4141881459358645,
          0.32721166067822915,
          0.24023517542059425,
          0.1532586901629589,
          0.066282204905324,
          -0.020694280352310912,
          -0.1076707656099467,
          -0.19464725086758072,
          -0.2816237361252165,
          -0.3686002213828514,
          -0.45557670664048633,
          -0.5425531918981221,
          -0.6295296771557561,
          -0.7165061624133919,
          -0.8034826476710268,
          -0.8904591329286617,
          -0.9774356181862975,
          -1.0644121034439316,
          -1.1513885887015674,
          -1.2383650739592023,
          -1.3253415592168372,
          -1.412318044474473,
          -1.499294529732107,
          -1.5862710149897428,
          -1.6732475002473777,
          -1.7602239855050126,
          -1.8472004707626484,
          -1.9341769560202824,
          -2.021153441277918,
          -2.108129926535553,
          -2.195106411793188,
          -2.282082897050824,
          -2.369059382308458,
          -2.4560358675660936
         ]
        }
       ],
       "layout": {
        "legend": {
         "tracegroupgap": 0
        },
        "template": {
         "data": {
          "bar": [
           {
            "error_x": {
             "color": "#2a3f5f"
            },
            "error_y": {
             "color": "#2a3f5f"
            },
            "marker": {
             "line": {
              "color": "#E5ECF6",
              "width": 0.5
             },
             "pattern": {
              "fillmode": "overlay",
              "size": 10,
              "solidity": 0.2
             }
            },
            "type": "bar"
           }
          ],
          "barpolar": [
           {
            "marker": {
             "line": {
              "color": "#E5ECF6",
              "width": 0.5
             },
             "pattern": {
              "fillmode": "overlay",
              "size": 10,
              "solidity": 0.2
             }
            },
            "type": "barpolar"
           }
          ],
          "carpet": [
           {
            "aaxis": {
             "endlinecolor": "#2a3f5f",
             "gridcolor": "white",
             "linecolor": "white",
             "minorgridcolor": "white",
             "startlinecolor": "#2a3f5f"
            },
            "baxis": {
             "endlinecolor": "#2a3f5f",
             "gridcolor": "white",
             "linecolor": "white",
             "minorgridcolor": "white",
             "startlinecolor": "#2a3f5f"
            },
            "type": "carpet"
           }
          ],
          "choropleth": [
           {
            "colorbar": {
             "outlinewidth": 0,
             "ticks": ""
            },
            "type": "choropleth"
           }
          ],
          "contour": [
           {
            "colorbar": {
             "outlinewidth": 0,
             "ticks": ""
            },
            "colorscale": [
             [
              0,
              "#0d0887"
             ],
             [
              0.1111111111111111,
              "#46039f"
             ],
             [
              0.2222222222222222,
              "#7201a8"
             ],
             [
              0.3333333333333333,
              "#9c179e"
             ],
             [
              0.4444444444444444,
              "#bd3786"
             ],
             [
              0.5555555555555556,
              "#d8576b"
             ],
             [
              0.6666666666666666,
              "#ed7953"
             ],
             [
              0.7777777777777778,
              "#fb9f3a"
             ],
             [
              0.8888888888888888,
              "#fdca26"
             ],
             [
              1,
              "#f0f921"
             ]
            ],
            "type": "contour"
           }
          ],
          "contourcarpet": [
           {
            "colorbar": {
             "outlinewidth": 0,
             "ticks": ""
            },
            "type": "contourcarpet"
           }
          ],
          "heatmap": [
           {
            "colorbar": {
             "outlinewidth": 0,
             "ticks": ""
            },
            "colorscale": [
             [
              0,
              "#0d0887"
             ],
             [
              0.1111111111111111,
              "#46039f"
             ],
             [
              0.2222222222222222,
              "#7201a8"
             ],
             [
              0.3333333333333333,
              "#9c179e"
             ],
             [
              0.4444444444444444,
              "#bd3786"
             ],
             [
              0.5555555555555556,
              "#d8576b"
             ],
             [
              0.6666666666666666,
              "#ed7953"
             ],
             [
              0.7777777777777778,
              "#fb9f3a"
             ],
             [
              0.8888888888888888,
              "#fdca26"
             ],
             [
              1,
              "#f0f921"
             ]
            ],
            "type": "heatmap"
           }
          ],
          "heatmapgl": [
           {
            "colorbar": {
             "outlinewidth": 0,
             "ticks": ""
            },
            "colorscale": [
             [
              0,
              "#0d0887"
             ],
             [
              0.1111111111111111,
              "#46039f"
             ],
             [
              0.2222222222222222,
              "#7201a8"
             ],
             [
              0.3333333333333333,
              "#9c179e"
             ],
             [
              0.4444444444444444,
              "#bd3786"
             ],
             [
              0.5555555555555556,
              "#d8576b"
             ],
             [
              0.6666666666666666,
              "#ed7953"
             ],
             [
              0.7777777777777778,
              "#fb9f3a"
             ],
             [
              0.8888888888888888,
              "#fdca26"
             ],
             [
              1,
              "#f0f921"
             ]
            ],
            "type": "heatmapgl"
           }
          ],
          "histogram": [
           {
            "marker": {
             "pattern": {
              "fillmode": "overlay",
              "size": 10,
              "solidity": 0.2
             }
            },
            "type": "histogram"
           }
          ],
          "histogram2d": [
           {
            "colorbar": {
             "outlinewidth": 0,
             "ticks": ""
            },
            "colorscale": [
             [
              0,
              "#0d0887"
             ],
             [
              0.1111111111111111,
              "#46039f"
             ],
             [
              0.2222222222222222,
              "#7201a8"
             ],
             [
              0.3333333333333333,
              "#9c179e"
             ],
             [
              0.4444444444444444,
              "#bd3786"
             ],
             [
              0.5555555555555556,
              "#d8576b"
             ],
             [
              0.6666666666666666,
              "#ed7953"
             ],
             [
              0.7777777777777778,
              "#fb9f3a"
             ],
             [
              0.8888888888888888,
              "#fdca26"
             ],
             [
              1,
              "#f0f921"
             ]
            ],
            "type": "histogram2d"
           }
          ],
          "histogram2dcontour": [
           {
            "colorbar": {
             "outlinewidth": 0,
             "ticks": ""
            },
            "colorscale": [
             [
              0,
              "#0d0887"
             ],
             [
              0.1111111111111111,
              "#46039f"
             ],
             [
              0.2222222222222222,
              "#7201a8"
             ],
             [
              0.3333333333333333,
              "#9c179e"
             ],
             [
              0.4444444444444444,
              "#bd3786"
             ],
             [
              0.5555555555555556,
              "#d8576b"
             ],
             [
              0.6666666666666666,
              "#ed7953"
             ],
             [
              0.7777777777777778,
              "#fb9f3a"
             ],
             [
              0.8888888888888888,
              "#fdca26"
             ],
             [
              1,
              "#f0f921"
             ]
            ],
            "type": "histogram2dcontour"
           }
          ],
          "mesh3d": [
           {
            "colorbar": {
             "outlinewidth": 0,
             "ticks": ""
            },
            "type": "mesh3d"
           }
          ],
          "parcoords": [
           {
            "line": {
             "colorbar": {
              "outlinewidth": 0,
              "ticks": ""
             }
            },
            "type": "parcoords"
           }
          ],
          "pie": [
           {
            "automargin": true,
            "type": "pie"
           }
          ],
          "scatter": [
           {
            "marker": {
             "colorbar": {
              "outlinewidth": 0,
              "ticks": ""
             }
            },
            "type": "scatter"
           }
          ],
          "scatter3d": [
           {
            "line": {
             "colorbar": {
              "outlinewidth": 0,
              "ticks": ""
             }
            },
            "marker": {
             "colorbar": {
              "outlinewidth": 0,
              "ticks": ""
             }
            },
            "type": "scatter3d"
           }
          ],
          "scattercarpet": [
           {
            "marker": {
             "colorbar": {
              "outlinewidth": 0,
              "ticks": ""
             }
            },
            "type": "scattercarpet"
           }
          ],
          "scattergeo": [
           {
            "marker": {
             "colorbar": {
              "outlinewidth": 0,
              "ticks": ""
             }
            },
            "type": "scattergeo"
           }
          ],
          "scattergl": [
           {
            "marker": {
             "colorbar": {
              "outlinewidth": 0,
              "ticks": ""
             }
            },
            "type": "scattergl"
           }
          ],
          "scattermapbox": [
           {
            "marker": {
             "colorbar": {
              "outlinewidth": 0,
              "ticks": ""
             }
            },
            "type": "scattermapbox"
           }
          ],
          "scatterpolar": [
           {
            "marker": {
             "colorbar": {
              "outlinewidth": 0,
              "ticks": ""
             }
            },
            "type": "scatterpolar"
           }
          ],
          "scatterpolargl": [
           {
            "marker": {
             "colorbar": {
              "outlinewidth": 0,
              "ticks": ""
             }
            },
            "type": "scatterpolargl"
           }
          ],
          "scatterternary": [
           {
            "marker": {
             "colorbar": {
              "outlinewidth": 0,
              "ticks": ""
             }
            },
            "type": "scatterternary"
           }
          ],
          "surface": [
           {
            "colorbar": {
             "outlinewidth": 0,
             "ticks": ""
            },
            "colorscale": [
             [
              0,
              "#0d0887"
             ],
             [
              0.1111111111111111,
              "#46039f"
             ],
             [
              0.2222222222222222,
              "#7201a8"
             ],
             [
              0.3333333333333333,
              "#9c179e"
             ],
             [
              0.4444444444444444,
              "#bd3786"
             ],
             [
              0.5555555555555556,
              "#d8576b"
             ],
             [
              0.6666666666666666,
              "#ed7953"
             ],
             [
              0.7777777777777778,
              "#fb9f3a"
             ],
             [
              0.8888888888888888,
              "#fdca26"
             ],
             [
              1,
              "#f0f921"
             ]
            ],
            "type": "surface"
           }
          ],
          "table": [
           {
            "cells": {
             "fill": {
              "color": "#EBF0F8"
             },
             "line": {
              "color": "white"
             }
            },
            "header": {
             "fill": {
              "color": "#C8D4E3"
             },
             "line": {
              "color": "white"
             }
            },
            "type": "table"
           }
          ]
         },
         "layout": {
          "annotationdefaults": {
           "arrowcolor": "#2a3f5f",
           "arrowhead": 0,
           "arrowwidth": 1
          },
          "autotypenumbers": "strict",
          "coloraxis": {
           "colorbar": {
            "outlinewidth": 0,
            "ticks": ""
           }
          },
          "colorscale": {
           "diverging": [
            [
             0,
             "#8e0152"
            ],
            [
             0.1,
             "#c51b7d"
            ],
            [
             0.2,
             "#de77ae"
            ],
            [
             0.3,
             "#f1b6da"
            ],
            [
             0.4,
             "#fde0ef"
            ],
            [
             0.5,
             "#f7f7f7"
            ],
            [
             0.6,
             "#e6f5d0"
            ],
            [
             0.7,
             "#b8e186"
            ],
            [
             0.8,
             "#7fbc41"
            ],
            [
             0.9,
             "#4d9221"
            ],
            [
             1,
             "#276419"
            ]
           ],
           "sequential": [
            [
             0,
             "#0d0887"
            ],
            [
             0.1111111111111111,
             "#46039f"
            ],
            [
             0.2222222222222222,
             "#7201a8"
            ],
            [
             0.3333333333333333,
             "#9c179e"
            ],
            [
             0.4444444444444444,
             "#bd3786"
            ],
            [
             0.5555555555555556,
             "#d8576b"
            ],
            [
             0.6666666666666666,
             "#ed7953"
            ],
            [
             0.7777777777777778,
             "#fb9f3a"
            ],
            [
             0.8888888888888888,
             "#fdca26"
            ],
            [
             1,
             "#f0f921"
            ]
           ],
           "sequentialminus": [
            [
             0,
             "#0d0887"
            ],
            [
             0.1111111111111111,
             "#46039f"
            ],
            [
             0.2222222222222222,
             "#7201a8"
            ],
            [
             0.3333333333333333,
             "#9c179e"
            ],
            [
             0.4444444444444444,
             "#bd3786"
            ],
            [
             0.5555555555555556,
             "#d8576b"
            ],
            [
             0.6666666666666666,
             "#ed7953"
            ],
            [
             0.7777777777777778,
             "#fb9f3a"
            ],
            [
             0.8888888888888888,
             "#fdca26"
            ],
            [
             1,
             "#f0f921"
            ]
           ]
          },
          "colorway": [
           "#636efa",
           "#EF553B",
           "#00cc96",
           "#ab63fa",
           "#FFA15A",
           "#19d3f3",
           "#FF6692",
           "#B6E880",
           "#FF97FF",
           "#FECB52"
          ],
          "font": {
           "color": "#2a3f5f"
          },
          "geo": {
           "bgcolor": "white",
           "lakecolor": "white",
           "landcolor": "#E5ECF6",
           "showlakes": true,
           "showland": true,
           "subunitcolor": "white"
          },
          "hoverlabel": {
           "align": "left"
          },
          "hovermode": "closest",
          "mapbox": {
           "style": "light"
          },
          "paper_bgcolor": "white",
          "plot_bgcolor": "#E5ECF6",
          "polar": {
           "angularaxis": {
            "gridcolor": "white",
            "linecolor": "white",
            "ticks": ""
           },
           "bgcolor": "#E5ECF6",
           "radialaxis": {
            "gridcolor": "white",
            "linecolor": "white",
            "ticks": ""
           }
          },
          "scene": {
           "xaxis": {
            "backgroundcolor": "#E5ECF6",
            "gridcolor": "white",
            "gridwidth": 2,
            "linecolor": "white",
            "showbackground": true,
            "ticks": "",
            "zerolinecolor": "white"
           },
           "yaxis": {
            "backgroundcolor": "#E5ECF6",
            "gridcolor": "white",
            "gridwidth": 2,
            "linecolor": "white",
            "showbackground": true,
            "ticks": "",
            "zerolinecolor": "white"
           },
           "zaxis": {
            "backgroundcolor": "#E5ECF6",
            "gridcolor": "white",
            "gridwidth": 2,
            "linecolor": "white",
            "showbackground": true,
            "ticks": "",
            "zerolinecolor": "white"
           }
          },
          "shapedefaults": {
           "line": {
            "color": "#2a3f5f"
           }
          },
          "ternary": {
           "aaxis": {
            "gridcolor": "white",
            "linecolor": "white",
            "ticks": ""
           },
           "baxis": {
            "gridcolor": "white",
            "linecolor": "white",
            "ticks": ""
           },
           "bgcolor": "#E5ECF6",
           "caxis": {
            "gridcolor": "white",
            "linecolor": "white",
            "ticks": ""
           }
          },
          "title": {
           "x": 0.05
          },
          "xaxis": {
           "automargin": true,
           "gridcolor": "white",
           "linecolor": "white",
           "ticks": "",
           "title": {
            "standoff": 15
           },
           "zerolinecolor": "white",
           "zerolinewidth": 2
          },
          "yaxis": {
           "automargin": true,
           "gridcolor": "white",
           "linecolor": "white",
           "ticks": "",
           "title": {
            "standoff": 15
           },
           "zerolinecolor": "white",
           "zerolinewidth": 2
          }
         }
        },
        "title": {
         "text": "f(x) vs fortuna solution"
        },
        "xaxis": {
         "anchor": "y",
         "domain": [
          0,
          1
         ],
         "range": [
          1,
          7.4
         ],
         "title": {
          "text": "x"
         }
        },
        "yaxis": {
         "anchor": "x",
         "domain": [
          0,
          1
         ],
         "range": [
          -6,
          6
         ],
         "title": {
          "text": "y"
         }
        }
       }
      }
     },
     "metadata": {},
     "output_type": "display_data"
    },
    {
     "name": "stdout",
     "output_type": "stream",
     "text": [
      "CPU times: user 2.02 s, sys: 179 ms, total: 2.19 s\n",
      "Wall time: 2.01 s\n"
     ]
    }
   ],
   "source": [
    "%%time\n",
    "# the magic %%time has to be the first line in the cell, and reports the total exec time of the cell.\n",
    "\n",
    "import random\n",
    "import numpy as np\n",
    "import plotly.express as px\n",
    "import tqdm\n",
    "\n",
    "\n",
    "def predict(x, theta):\n",
    "    # change to sum of 3 sin() terms. \n",
    "    # use np.sin() and not math.sin().\n",
    "    a, b = theta\n",
    "    return a*x + b # this is the model\n",
    "\n",
    "\n",
    "def sample_theta(size_of_theta):\n",
    "    # Do NOT CHANGE.\n",
    "    theta = np.random.uniform(-4, 4, size=size_of_theta)\n",
    "    return theta\n",
    "\n",
    "\n",
    "def get_loss(y_hat, ys):\n",
    "    # No change needed, returns quadratic loss.\n",
    "    loss = ((y_hat - ys)**2).sum()\n",
    "    return loss\n",
    "\n",
    "xs = np.array([1.0, 1.1, 1.2, 1.3, 1.4, 1.5, 1.6, 1.7, 1.8, 1.9, 2.0, 2.1, 2.2, 2.3, 2.4, 2.5, 2.6, 2.7, 2.8, 2.9, 3.0, 3.1, 3.2, 3.3, 3.4, 3.5, 3.6, 3.7, 3.8, 3.9, 4.0, 4.1, 4.2, 4.3, 4.4, 4.5, 4.6, 4.7, 4.8, 4.9, 5.0, 5.1, 5.2, 5.3, 5.4, 5.5, 5.6, 5.7, 5.8, 5.9, 6.0, 6.1, 6.2, 6.3, 6.4, 6.5, 6.6, 6.7, 6.8, 6.9, 7.0, 7.1, 7.2, 7.3, 7.4])\n",
    "ys = np.array([4.03, 4.19, 4.26, 4.25, 4.17, 4.03, 3.85, 3.63, 3.40, 3.16, 2.93, 2.72, 2.53, 2.39, 2.28, 2.21, 2.18, 2.19, 2.22, 2.27, 2.33, 2.39, 2.44, 2.45, 2.43, 2.36, 2.22, 2.02, 1.75, 1.41, 1.00, 0.52, -0.01, -0.60, -1.22, -1.86, -2.50, -3.13, -3.72, -4.27, -4.75, -5.15, -5.45, -5.65, -5.74, -5.70, -5.55, -5.29, -4.92, -4.44, -3.89, -3.26, -2.58, -1.86, -1.12, -0.39, 0.32, 0.98, 1.60, 2.14, 2.61, 2.99, 3.28, 3.47, 3.57])\n",
    "\n",
    "# \n",
    "ys_h_1 = np.array([15.98, 21.42, 24.1, 23.87, 21.0, 16.11, 10.06, 3.79, -1.8, -6.01, -8.39, -8.82, -7.47, -4.77, -1.3, 2.31, 5.49, 7.81, 9.04, 9.18, 8.44, 7.15, 5.72, 4.54, 3.89, 3.9, 4.52, 5.54, 6.63, 7.39, 7.49, 6.7, 4.97, 2.44, -0.54, -3.48, -5.8, -6.98, -6.61, -4.51, -0.79, 4.2, 9.8, 15.21, 19.57, 22.09, 22.2, 19.63, 14.52, 7.41, -0.83, -9.07, -16.11, -20.83, -22.36, -20.27, -14.59, -5.91, 4.72, 15.9, 26.06, 33.69, 37.58, 36.94, 31.64])\n",
    "ys_h_2 = np.array([[5.87, 5.83, 5.74, 5.62, 5.48, 16.58, 18.21, 18.49, 17.54, 15.54, 4.15, 3.9, 3.65, 3.42, 3.2, -1.9, -3.32, -3.97, -3.91, -3.27, 2.38, 2.36, 2.39, 2.46, 2.57, 2.2, 1.93, 1.22, 0.17, -1.06, 4.18, 4.59, 5.04, 5.52, 6.02, -1.49, 0.74, 3.55, 6.75, 10.06, 9.39, 9.95, 10.5, 11.02, 11.52, 16.0, 12.82, 8.47, 3.21, -2.62, 13.61, 13.76, 13.84, 13.84, 13.77, -24.16, -22.03, -17.9, -11.95, -4.55, 11.63, 10.99, 10.27, 9.47, 8.61]])\n",
    "\n",
    "# change to the size of theta ( 9 ) (for h(x) how many parameters does it have?)\n",
    "n_params = 2\n",
    "\n",
    "best_loss = float('inf')\n",
    "best_theta = sample_theta(n_params)\n",
    "\n",
    "for _ in tqdm.tqdm(range(100000)): \n",
    "    curr_theta = sample_theta(n_params)\n",
    "    y_hat = predict(xs, curr_theta)\n",
    "    curr_loss = get_loss(y_hat, ys)\n",
    "\n",
    "    if best_loss > curr_loss:\n",
    "        best_loss = curr_loss\n",
    "        best_theta = curr_theta\n",
    "            \n",
    "        \n",
    "print(\"best loss:\", best_loss)\n",
    "print(\"theta:\", best_theta)    \n",
    "    \n",
    "    \n",
    "fig = px.line(x=xs, y=ys, title=\"f(x) vs Fortuna solution\")\n",
    "fig.add_scatter(x=xs, y=predict(xs, best_theta), mode='lines', name=\"y_hat\")\n",
    "fig.update_layout(xaxis_range=[xs.min(),xs.max()], yaxis_range=[-6,6])\n",
    "fig.show()\n",
    "\n",
    "\n",
    "# to get a solid estimate -> you should train at least 100 models and take the average performance.\n",
    "\n"
   ]
  },
  {
   "cell_type": "markdown",
   "metadata": {},
   "source": [
    "# Task 5 -- Fortuna For Decision Trees\n",
    "\n",
    "Implement a Decision Tree for solving the XOR problem.   \n",
    "Here: there are 2 real valued inputs, x0, x1  (found in xs).  \n",
    "\n",
    "And the DT should take these two as input and predict an output: 0 or 1.   \n",
    "The true answer can be found in ys_true.\n"
   ]
  },
  {
   "cell_type": "code",
   "execution_count": null,
   "metadata": {},
   "outputs": [],
   "source": [
    "import numpy as np\n",
    "rng = np.random.default_rng(42)\n",
    "n_examples = 40\n",
    "\n",
    "xs = rng.uniform(size=(n_examples, 2))\n",
    "\n",
    "# make a true y\n",
    "b = (xs>0.5).astype(int)\n",
    "ys_true = np.logical_xor(b[:, 0], b[:, 1]).astype(int)\n",
    "\n",
    "\n",
    "\n",
    "##################################\n",
    "# here you implement a Decision Tree that is built using the fortuna algorithm.\n",
    "# The depth of the tree should be less than 4\n",
    "# The DT should reach 100% accuracy.\n",
    "\n",
    "\n",
    "\n"
   ]
  },
  {
   "cell_type": "markdown",
   "metadata": {},
   "source": [
    "# Task 6 -- Best Route App\n",
    "\n",
    "A company called Knut Knut Transport AS is using one of the 4 routes for delivery (see Pitch\\_knutknut\\_transport.pdf for more info).\n",
    "* A -> C -> D  \n",
    "* A -> C -> E  \n",
    "* B -> C -> D  \n",
    "* B -> C -> E  \n",
    "\n",
    "They have discovered that they can transport the goods faster by picking the right route given \n",
    "only the depature time of the transport.\n",
    "\n",
    "In the file \"traffic.jsonl\" on Canvas is the collected data up to the current point in time.\n",
    "So far, they have just selected a route at random, now they want to implement a simple web-api\n",
    "that can help the drivers select the best route. \n",
    "\n",
    "* Using the data found in traffic.jsonl, create a ML model that given an time (hour:min) can select the fastest route to travel. **Be sure to document in a google doc/word/notebook/... how YOU created your ML model.** The ML model should be trained using the Fortuna algorithm.\n",
    "\n",
    "* Download the knut\\_knut\\_app.py found on canvas an implement the function: get\\_the\\_best\\_route\\_as\\_a\\_text\\_informatic(dep\\_hour, dep\\_min) such that the web application works and gives a good estimated time.\n",
    "\n",
    "* The CEO (Knut) want you to estimate how much time they can save from using this new app.\n",
    "* Prepare a VERY short presentation (pdf) on the gains and tech behind the app (random subsample will present for the class)\n",
    "\n",
    "\n",
    "Some hints:\n",
    "* Look closely at the data using both numerical analysis and visual (plotting). \n",
    "* Use the python library datetime to handle time calculations. \n",
    "* Make sure the features are scaled in a way that make sense.\n",
    "* Once you have a model working, use the python library pickle to save/load the model."
   ]
  }
 ],
 "metadata": {
  "kernelspec": {
   "display_name": "Python 3 (ipykernel)",
   "language": "python",
   "name": "python3"
  },
  "language_info": {
   "codemirror_mode": {
    "name": "ipython",
    "version": 3
   },
   "file_extension": ".py",
   "mimetype": "text/x-python",
   "name": "python",
   "nbconvert_exporter": "python",
   "pygments_lexer": "ipython3",
   "version": "3.8.5"
  },
  "vscode": {
   "interpreter": {
    "hash": "916dbcbb3f70747c44a77c7bcd40155683ae19c65e1c03b4aa3499c5328201f1"
   }
  }
 },
 "nbformat": 4,
 "nbformat_minor": 4
}
